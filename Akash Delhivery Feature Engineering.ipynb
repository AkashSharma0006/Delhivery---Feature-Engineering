{
 "cells": [
  {
   "cell_type": "markdown",
   "id": "f39b7af8",
   "metadata": {},
   "source": [
    "# Business Case: Delhivery - Feature Engineering  "
   ]
  },
  {
   "cell_type": "markdown",
   "id": "5b4dd8a1",
   "metadata": {},
   "source": [
    "## About Delhivery"
   ]
  },
  {
   "cell_type": "markdown",
   "id": "3c3df292",
   "metadata": {},
   "source": [
    " -  Delhivery is the largest and fastest-growing fully integrated player in India by revenue in Fiscal 2021. They aim to build the operating  system for commerce, through a combination of world-class infrastructure, logistics operations of the highest quality, and cutting-edge engineering and technology capabilities.  The Data team builds intelligence and capabilities using this data that helps them to widen the gap between the quality, efficiency, and  profitability of their business versus their competitors."
   ]
  },
  {
   "cell_type": "markdown",
   "id": "bd177b38",
   "metadata": {},
   "source": [
    "## How can you help here?"
   ]
  },
  {
   "cell_type": "markdown",
   "id": "e39b1dae",
   "metadata": {},
   "source": [
    "######  The company wants to understand and process the data coming out of data engineering pipelines: \n",
    "• Clean, sanitize and manipulate data to get useful features out of raw fields \n",
    "\n",
    "• Make sense out of the raw data and help the data science team to build forecasting models on it "
   ]
  },
  {
   "cell_type": "markdown",
   "id": "fcc26a21",
   "metadata": {},
   "source": [
    "### Importing Required Libraries"
   ]
  },
  {
   "cell_type": "code",
   "execution_count": null,
   "id": "dd89d3e0",
   "metadata": {},
   "outputs": [],
   "source": [
    "import pandas as pd\n",
    "import numpy as np\n",
    "import seaborn as sns\n",
    "import matplotlib as mpl\n",
    "import matplotlib.pyplot as plt\n",
    "import scipy.stats as spy"
   ]
  },
  {
   "cell_type": "code",
   "execution_count": null,
   "id": "86905ae9",
   "metadata": {},
   "outputs": [],
   "source": [
    "import warnings\n",
    "warnings.simplefilter('ignore')"
   ]
  },
  {
   "cell_type": "markdown",
   "id": "80ac81a8",
   "metadata": {},
   "source": [
    "### Loading the Dataset"
   ]
  },
  {
   "cell_type": "code",
   "execution_count": 2,
   "id": "55772672",
   "metadata": {},
   "outputs": [
    {
     "ename": "NameError",
     "evalue": "name 'pd' is not defined",
     "output_type": "error",
     "traceback": [
      "\u001b[1;31m---------------------------------------------------------------------------\u001b[0m",
      "\u001b[1;31mNameError\u001b[0m                                 Traceback (most recent call last)",
      "Cell \u001b[1;32mIn[2], line 1\u001b[0m\n\u001b[1;32m----> 1\u001b[0m df \u001b[38;5;241m=\u001b[39m \u001b[43mpd\u001b[49m\u001b[38;5;241m.\u001b[39mread_csv(\u001b[38;5;124mr\u001b[39m\u001b[38;5;124m\"\u001b[39m\u001b[38;5;124mhttps://d2beiqkhq929f0.cloudfront.net/public_assets/assets/000/001/551/original/delhivery_data.csv?1642751181\u001b[39m\u001b[38;5;124m\"\u001b[39m)\n",
      "\u001b[1;31mNameError\u001b[0m: name 'pd' is not defined"
     ]
    }
   ],
   "source": [
    "df = pd.read_csv(r\"https://d2beiqkhq929f0.cloudfront.net/public_assets/assets/000/001/551/original/delhivery_data.csv?1642751181\")"
   ]
  },
  {
   "cell_type": "code",
   "execution_count": 1,
   "id": "11aa73d0",
   "metadata": {},
   "outputs": [
    {
     "ename": "NameError",
     "evalue": "name 'df' is not defined",
     "output_type": "error",
     "traceback": [
      "\u001b[1;31m---------------------------------------------------------------------------\u001b[0m",
      "\u001b[1;31mNameError\u001b[0m                                 Traceback (most recent call last)",
      "Cell \u001b[1;32mIn[1], line 1\u001b[0m\n\u001b[1;32m----> 1\u001b[0m \u001b[43mdf\u001b[49m\u001b[38;5;241m.\u001b[39mhead()\n",
      "\u001b[1;31mNameError\u001b[0m: name 'df' is not defined"
     ]
    }
   ],
   "source": [
    "df.head()"
   ]
  },
  {
   "cell_type": "markdown",
   "id": "dccc3862",
   "metadata": {},
   "source": [
    "#### What is the shape of the loaded dataset ? "
   ]
  },
  {
   "cell_type": "code",
   "execution_count": null,
   "id": "efed00a3",
   "metadata": {},
   "outputs": [],
   "source": [
    "df.shape"
   ]
  },
  {
   "cell_type": "markdown",
   "id": "facd02f4",
   "metadata": {},
   "source": [
    "#### What are the columns present in the dataset?"
   ]
  },
  {
   "cell_type": "code",
   "execution_count": 6,
   "id": "9942ce07",
   "metadata": {},
   "outputs": [
    {
     "data": {
      "text/plain": [
       "Index(['data', 'trip_creation_time', 'route_schedule_uuid', 'route_type',\n",
       "       'trip_uuid', 'source_center', 'source_name', 'destination_center',\n",
       "       'destination_name', 'od_start_time', 'od_end_time',\n",
       "       'start_scan_to_end_scan', 'is_cutoff', 'cutoff_factor',\n",
       "       'cutoff_timestamp', 'actual_distance_to_destination', 'actual_time',\n",
       "       'osrm_time', 'osrm_distance', 'factor', 'segment_actual_time',\n",
       "       'segment_osrm_time', 'segment_osrm_distance', 'segment_factor'],\n",
       "      dtype='object')"
      ]
     },
     "execution_count": 6,
     "metadata": {},
     "output_type": "execute_result"
    }
   ],
   "source": [
    "df.columns"
   ]
  },
  {
   "cell_type": "markdown",
   "id": "61782d03",
   "metadata": {},
   "source": [
    "##### What is the datatype of the columns ? "
   ]
  },
  {
   "cell_type": "code",
   "execution_count": 7,
   "id": "f97a173e",
   "metadata": {},
   "outputs": [
    {
     "data": {
      "text/plain": [
       "data                               object\n",
       "trip_creation_time                 object\n",
       "route_schedule_uuid                object\n",
       "route_type                         object\n",
       "trip_uuid                          object\n",
       "source_center                      object\n",
       "source_name                        object\n",
       "destination_center                 object\n",
       "destination_name                   object\n",
       "od_start_time                      object\n",
       "od_end_time                        object\n",
       "start_scan_to_end_scan            float64\n",
       "is_cutoff                            bool\n",
       "cutoff_factor                       int64\n",
       "cutoff_timestamp                   object\n",
       "actual_distance_to_destination    float64\n",
       "actual_time                       float64\n",
       "osrm_time                         float64\n",
       "osrm_distance                     float64\n",
       "factor                            float64\n",
       "segment_actual_time               float64\n",
       "segment_osrm_time                 float64\n",
       "segment_osrm_distance             float64\n",
       "segment_factor                    float64\n",
       "dtype: object"
      ]
     },
     "execution_count": 7,
     "metadata": {},
     "output_type": "execute_result"
    }
   ],
   "source": [
    "df.dtypes"
   ]
  },
  {
   "cell_type": "markdown",
   "id": "e32cba58",
   "metadata": {},
   "source": [
    "##### Basic Information about the Dataset "
   ]
  },
  {
   "cell_type": "code",
   "execution_count": 8,
   "id": "c30d00d8",
   "metadata": {},
   "outputs": [
    {
     "name": "stdout",
     "output_type": "stream",
     "text": [
      "<class 'pandas.core.frame.DataFrame'>\n",
      "RangeIndex: 144867 entries, 0 to 144866\n",
      "Data columns (total 24 columns):\n",
      " #   Column                          Non-Null Count   Dtype  \n",
      "---  ------                          --------------   -----  \n",
      " 0   data                            144867 non-null  object \n",
      " 1   trip_creation_time              144867 non-null  object \n",
      " 2   route_schedule_uuid             144867 non-null  object \n",
      " 3   route_type                      144867 non-null  object \n",
      " 4   trip_uuid                       144867 non-null  object \n",
      " 5   source_center                   144867 non-null  object \n",
      " 6   source_name                     144574 non-null  object \n",
      " 7   destination_center              144867 non-null  object \n",
      " 8   destination_name                144606 non-null  object \n",
      " 9   od_start_time                   144867 non-null  object \n",
      " 10  od_end_time                     144867 non-null  object \n",
      " 11  start_scan_to_end_scan          144867 non-null  float64\n",
      " 12  is_cutoff                       144867 non-null  bool   \n",
      " 13  cutoff_factor                   144867 non-null  int64  \n",
      " 14  cutoff_timestamp                144867 non-null  object \n",
      " 15  actual_distance_to_destination  144867 non-null  float64\n",
      " 16  actual_time                     144867 non-null  float64\n",
      " 17  osrm_time                       144867 non-null  float64\n",
      " 18  osrm_distance                   144867 non-null  float64\n",
      " 19  factor                          144867 non-null  float64\n",
      " 20  segment_actual_time             144867 non-null  float64\n",
      " 21  segment_osrm_time               144867 non-null  float64\n",
      " 22  segment_osrm_distance           144867 non-null  float64\n",
      " 23  segment_factor                  144867 non-null  float64\n",
      "dtypes: bool(1), float64(10), int64(1), object(12)\n",
      "memory usage: 25.6+ MB\n"
     ]
    }
   ],
   "source": [
    "df.info()"
   ]
  },
  {
   "cell_type": "markdown",
   "id": "161dda27",
   "metadata": {},
   "source": [
    "##### Dropping unknown fields  "
   ]
  },
  {
   "cell_type": "code",
   "execution_count": 9,
   "id": "f90e6975",
   "metadata": {},
   "outputs": [],
   "source": [
    "unknown_fields = ['is_cutoff', 'cutoff_factor', 'cutoff_timestamp', 'factor', 'segment_factor']\n",
    "df = df.drop(columns = unknown_fields)"
   ]
  },
  {
   "cell_type": "markdown",
   "id": "93e5fcc1",
   "metadata": {},
   "source": [
    "##### How many unique entries present in each column ?"
   ]
  },
  {
   "cell_type": "code",
   "execution_count": 10,
   "id": "d86714b6",
   "metadata": {},
   "outputs": [
    {
     "name": "stdout",
     "output_type": "stream",
     "text": [
      "Unique entries for column data                           = 2\n",
      "Unique entries for column trip_creation_time             = 14817\n",
      "Unique entries for column route_schedule_uuid            = 1504\n",
      "Unique entries for column route_type                     = 2\n",
      "Unique entries for column trip_uuid                      = 14817\n",
      "Unique entries for column source_center                  = 1508\n",
      "Unique entries for column source_name                    = 1498\n",
      "Unique entries for column destination_center             = 1481\n",
      "Unique entries for column destination_name               = 1468\n",
      "Unique entries for column od_start_time                  = 26369\n",
      "Unique entries for column od_end_time                    = 26369\n",
      "Unique entries for column start_scan_to_end_scan         = 1915\n",
      "Unique entries for column actual_distance_to_destination = 144515\n",
      "Unique entries for column actual_time                    = 3182\n",
      "Unique entries for column osrm_time                      = 1531\n",
      "Unique entries for column osrm_distance                  = 138046\n",
      "Unique entries for column segment_actual_time            = 747\n",
      "Unique entries for column segment_osrm_time              = 214\n",
      "Unique entries for column segment_osrm_distance          = 113799\n"
     ]
    }
   ],
   "source": [
    "for i in df.columns:\n",
    "    print(f\"Unique entries for column {i:<30} = {df[i].nunique()}\")"
   ]
  },
  {
   "cell_type": "markdown",
   "id": "84ab5488",
   "metadata": {},
   "source": [
    "##### For all those columns where number of unique entries is 2, converting the datatype of columns to category"
   ]
  },
  {
   "cell_type": "code",
   "execution_count": 11,
   "id": "c7f4e7e4",
   "metadata": {},
   "outputs": [],
   "source": [
    "df['data'] = df['data'].astype('category')\n",
    "df['route_type'] = df['route_type'].astype('category')"
   ]
  },
  {
   "cell_type": "code",
   "execution_count": 12,
   "id": "91b27cb8",
   "metadata": {},
   "outputs": [
    {
     "name": "stdout",
     "output_type": "stream",
     "text": [
      "1927.4477046975032\n",
      "4532.0\n",
      "1686.0\n",
      "2326.1991000000003\n",
      "3051.0\n",
      "1611.0\n",
      "2191.4037000000003\n"
     ]
    }
   ],
   "source": [
    "floating_columns = ['actual_distance_to_destination', 'actual_time', 'osrm_time', 'osrm_distance', \n",
    "                    'segment_actual_time', 'segment_osrm_time', 'segment_osrm_distance']\n",
    "for i in floating_columns:\n",
    "    print(df[i].max())"
   ]
  },
  {
   "cell_type": "markdown",
   "id": "0639efab",
   "metadata": {},
   "source": [
    "##### We can update the datatype to float32 since the maximum value entry is small "
   ]
  },
  {
   "cell_type": "code",
   "execution_count": 13,
   "id": "a7cdf636",
   "metadata": {},
   "outputs": [],
   "source": [
    "for i in floating_columns:\n",
    "    df[i] = df[i].astype('float32')"
   ]
  },
  {
   "cell_type": "markdown",
   "id": "b3be9c37",
   "metadata": {},
   "source": [
    "##### Updating the datatype of the datetime columns"
   ]
  },
  {
   "cell_type": "code",
   "execution_count": 14,
   "id": "21fa2893",
   "metadata": {},
   "outputs": [],
   "source": [
    "datetime_columns = ['trip_creation_time', 'od_start_time', 'od_end_time']\n",
    "for i in datetime_columns:\n",
    "    df[i] = pd.to_datetime(df[i])"
   ]
  },
  {
   "cell_type": "code",
   "execution_count": 15,
   "id": "a9b93d69",
   "metadata": {},
   "outputs": [
    {
     "name": "stdout",
     "output_type": "stream",
     "text": [
      "<class 'pandas.core.frame.DataFrame'>\n",
      "RangeIndex: 144867 entries, 0 to 144866\n",
      "Data columns (total 19 columns):\n",
      " #   Column                          Non-Null Count   Dtype         \n",
      "---  ------                          --------------   -----         \n",
      " 0   data                            144867 non-null  category      \n",
      " 1   trip_creation_time              144867 non-null  datetime64[ns]\n",
      " 2   route_schedule_uuid             144867 non-null  object        \n",
      " 3   route_type                      144867 non-null  category      \n",
      " 4   trip_uuid                       144867 non-null  object        \n",
      " 5   source_center                   144867 non-null  object        \n",
      " 6   source_name                     144574 non-null  object        \n",
      " 7   destination_center              144867 non-null  object        \n",
      " 8   destination_name                144606 non-null  object        \n",
      " 9   od_start_time                   144867 non-null  datetime64[ns]\n",
      " 10  od_end_time                     144867 non-null  datetime64[ns]\n",
      " 11  start_scan_to_end_scan          144867 non-null  float64       \n",
      " 12  actual_distance_to_destination  144867 non-null  float32       \n",
      " 13  actual_time                     144867 non-null  float32       \n",
      " 14  osrm_time                       144867 non-null  float32       \n",
      " 15  osrm_distance                   144867 non-null  float32       \n",
      " 16  segment_actual_time             144867 non-null  float32       \n",
      " 17  segment_osrm_time               144867 non-null  float32       \n",
      " 18  segment_osrm_distance           144867 non-null  float32       \n",
      "dtypes: category(2), datetime64[ns](3), float32(7), float64(1), object(6)\n",
      "memory usage: 15.2+ MB\n"
     ]
    }
   ],
   "source": [
    "df.info()"
   ]
  },
  {
   "cell_type": "markdown",
   "id": "0ffefd04",
   "metadata": {},
   "source": [
    "##### Earlier the dataset was using 25.6+ MB of memory but now it has been reduced to 15.2 + MB. Around 40.63 % reduction in the memory usage."
   ]
  },
  {
   "cell_type": "markdown",
   "id": "dc36948e",
   "metadata": {},
   "source": [
    "##### What is the time period for which the data is given ?"
   ]
  },
  {
   "cell_type": "code",
   "execution_count": 16,
   "id": "b733b90e",
   "metadata": {},
   "outputs": [
    {
     "data": {
      "text/plain": [
       "(Timestamp('2018-09-12 00:00:16.535741'),\n",
       " Timestamp('2018-10-08 03:00:24.353479'))"
      ]
     },
     "execution_count": 16,
     "metadata": {},
     "output_type": "execute_result"
    }
   ],
   "source": [
    "df['trip_creation_time'].min(), df['od_end_time'].max()"
   ]
  },
  {
   "cell_type": "markdown",
   "id": "671be19f",
   "metadata": {},
   "source": [
    "## 1.\tBasic data cleaning and exploration:"
   ]
  },
  {
   "cell_type": "markdown",
   "id": "dc56d25d",
   "metadata": {},
   "source": [
    "###  Handling missing values in the data"
   ]
  },
  {
   "cell_type": "markdown",
   "id": "3f626c30",
   "metadata": {},
   "source": [
    "#### Is there any null values present in the dataset ? "
   ]
  },
  {
   "cell_type": "code",
   "execution_count": 17,
   "id": "e122479a",
   "metadata": {},
   "outputs": [
    {
     "data": {
      "text/plain": [
       "True"
      ]
     },
     "execution_count": 17,
     "metadata": {},
     "output_type": "execute_result"
    }
   ],
   "source": [
    "np.any(df.isnull())"
   ]
  },
  {
   "cell_type": "markdown",
   "id": "3b1406c0",
   "metadata": {},
   "source": [
    "#### What is the number of null values present in each column ? "
   ]
  },
  {
   "cell_type": "code",
   "execution_count": 18,
   "id": "2927b8b4",
   "metadata": {},
   "outputs": [
    {
     "data": {
      "text/plain": [
       "data                                0\n",
       "trip_creation_time                  0\n",
       "route_schedule_uuid                 0\n",
       "route_type                          0\n",
       "trip_uuid                           0\n",
       "source_center                       0\n",
       "source_name                       293\n",
       "destination_center                  0\n",
       "destination_name                  261\n",
       "od_start_time                       0\n",
       "od_end_time                         0\n",
       "start_scan_to_end_scan              0\n",
       "actual_distance_to_destination      0\n",
       "actual_time                         0\n",
       "osrm_time                           0\n",
       "osrm_distance                       0\n",
       "segment_actual_time                 0\n",
       "segment_osrm_time                   0\n",
       "segment_osrm_distance               0\n",
       "dtype: int64"
      ]
     },
     "execution_count": 18,
     "metadata": {},
     "output_type": "execute_result"
    }
   ],
   "source": [
    "df.isnull().sum()"
   ]
  },
  {
   "cell_type": "code",
   "execution_count": 19,
   "id": "0efa4c81",
   "metadata": {},
   "outputs": [
    {
     "data": {
      "text/plain": [
       "array(['IND342902A1B', 'IND577116AAA', 'IND282002AAD', 'IND465333A1B',\n",
       "       'IND841301AAC', 'IND509103AAC', 'IND126116AAA', 'IND331022A1B',\n",
       "       'IND505326AAB', 'IND852118A1B'], dtype=object)"
      ]
     },
     "execution_count": 19,
     "metadata": {},
     "output_type": "execute_result"
    }
   ],
   "source": [
    "missing_source_name = df.loc[df['source_name'].isnull(), 'source_center'].unique()\n",
    "missing_source_name"
   ]
  },
  {
   "cell_type": "code",
   "execution_count": 20,
   "id": "6e71a4c7",
   "metadata": {},
   "outputs": [
    {
     "name": "stdout",
     "output_type": "stream",
     "text": [
      "Source Center : IND342902A1B ---------- Source Name : Not Found\n",
      "Source Center : IND577116AAA ---------- Source Name : Not Found\n",
      "Source Center : IND282002AAD ---------- Source Name : Not Found\n",
      "Source Center : IND465333A1B ---------- Source Name : Not Found\n",
      "Source Center : IND841301AAC ---------- Source Name : Not Found\n",
      "Source Center : IND509103AAC ---------- Source Name : Not Found\n",
      "Source Center : IND126116AAA ---------- Source Name : Not Found\n",
      "Source Center : IND331022A1B ---------- Source Name : Not Found\n",
      "Source Center : IND505326AAB ---------- Source Name : Not Found\n",
      "Source Center : IND852118A1B ---------- Source Name : Not Found\n"
     ]
    }
   ],
   "source": [
    "for i in missing_source_name:\n",
    "    unique_source_name = df.loc[df['source_center'] == i, 'source_name'].unique()\n",
    "    if pd.isna(unique_source_name):\n",
    "        print(\"Source Center :\", i, \"-\" * 10, \"Source Name :\", 'Not Found')\n",
    "    else : \n",
    "        print(\"Source Center :\", i, \"-\" * 10, \"Source Name :\", unique_source_name)"
   ]
  },
  {
   "cell_type": "code",
   "execution_count": 21,
   "id": "51526e69",
   "metadata": {},
   "outputs": [
    {
     "name": "stdout",
     "output_type": "stream",
     "text": [
      "Destination Center : IND342902A1B ---------- Destination Name : Not Found\n",
      "Destination Center : IND577116AAA ---------- Destination Name : Not Found\n",
      "Destination Center : IND282002AAD ---------- Destination Name : Not Found\n",
      "Destination Center : IND465333A1B ---------- Destination Name : Not Found\n",
      "Destination Center : IND841301AAC ---------- Destination Name : Not Found\n",
      "Destination Center : IND509103AAC ---------- Destination Name : Not Found\n",
      "Destination Center : IND126116AAA ---------- Destination Name : Not Found\n",
      "Destination Center : IND331022A1B ---------- Destination Name : Not Found\n",
      "Destination Center : IND505326AAB ---------- Destination Name : Not Found\n",
      "Destination Center : IND852118A1B ---------- Destination Name : Not Found\n"
     ]
    }
   ],
   "source": [
    "for i in missing_source_name:\n",
    "    unique_destination_name = df.loc[df['destination_center'] == i, 'destination_name'].unique()\n",
    "    if (pd.isna(unique_source_name)) or (unique_source_name.size == 0):\n",
    "        print(\"Destination Center :\", i, \"-\" * 10, \"Destination Name :\", 'Not Found')\n",
    "    else : \n",
    "        print(\"Destination Center :\", i, \"-\" * 10, \"Destination Name :\", unique_destination_name)"
   ]
  },
  {
   "cell_type": "code",
   "execution_count": 22,
   "id": "968d352e",
   "metadata": {},
   "outputs": [
    {
     "data": {
      "text/plain": [
       "array(['IND342902A1B', 'IND577116AAA', 'IND282002AAD', 'IND465333A1B',\n",
       "       'IND841301AAC', 'IND505326AAB', 'IND852118A1B', 'IND126116AAA',\n",
       "       'IND509103AAC', 'IND221005A1A', 'IND250002AAC', 'IND331001A1C',\n",
       "       'IND122015AAC'], dtype=object)"
      ]
     },
     "execution_count": 22,
     "metadata": {},
     "output_type": "execute_result"
    }
   ],
   "source": [
    "missing_destination_name = df.loc[df['destination_name'].isnull(), 'destination_center'].unique()\n",
    "missing_destination_name"
   ]
  },
  {
   "cell_type": "markdown",
   "id": "88bed6ef",
   "metadata": {},
   "source": [
    "###### The IDs for which the source name is missing, are all those IDs for destination also missing ?  "
   ]
  },
  {
   "cell_type": "code",
   "execution_count": 23,
   "id": "b01aee3d",
   "metadata": {},
   "outputs": [
    {
     "data": {
      "text/plain": [
       "False"
      ]
     },
     "execution_count": 23,
     "metadata": {},
     "output_type": "execute_result"
    }
   ],
   "source": [
    "np.all(df.loc[df['source_name'].isnull(), 'source_center'].isin(missing_destination_name))"
   ]
  },
  {
   "cell_type": "markdown",
   "id": "8cd52da1",
   "metadata": {},
   "source": [
    "###### Treating missing destination names and source names"
   ]
  },
  {
   "cell_type": "code",
   "execution_count": 24,
   "id": "1bd0bcc4",
   "metadata": {},
   "outputs": [],
   "source": [
    "count = 1\n",
    "for i in missing_destination_name:\n",
    "    df.loc[df['destination_center'] == i, 'destination_name'] = df.loc[df['destination_center'] == i, 'destination_name'].replace(np.nan, f'location_{count}')\n",
    "    count += 1"
   ]
  },
  {
   "cell_type": "code",
   "execution_count": 25,
   "id": "cd5dfcb3",
   "metadata": {},
   "outputs": [
    {
     "name": "stdout",
     "output_type": "stream",
     "text": [
      "IND342902A1B location_1\n",
      "IND577116AAA location_2\n",
      "IND282002AAD location_3\n",
      "IND465333A1B location_4\n",
      "IND841301AAC location_5\n",
      "IND509103AAC location_9\n",
      "IND126116AAA location_8\n",
      "IND331022A1B location_14\n",
      "IND505326AAB location_6\n",
      "IND852118A1B location_7\n"
     ]
    }
   ],
   "source": [
    "d = {}\n",
    "for i in missing_source_name:\n",
    "    d[i] = df.loc[df['destination_center'] == i, 'destination_name'].unique()\n",
    "for idx, val in d.items():\n",
    "    if len(val) == 0:\n",
    "        d[idx] = [f'location_{count}']\n",
    "        count += 1\n",
    "d2 = {}\n",
    "for idx, val in d.items():\n",
    "    d2[idx] = val[0]\n",
    "for i, v in d2.items():\n",
    "    print(i, v)"
   ]
  },
  {
   "cell_type": "code",
   "execution_count": 26,
   "id": "efc1b422",
   "metadata": {},
   "outputs": [],
   "source": [
    "for i in missing_source_name:\n",
    "    df.loc[df['source_center'] == i, 'source_name'] = df.loc[df['source_center'] == i, 'source_name'].replace(np.nan, d2[i])"
   ]
  },
  {
   "cell_type": "code",
   "execution_count": 27,
   "id": "be8bff3b",
   "metadata": {},
   "outputs": [
    {
     "data": {
      "text/plain": [
       "data                              0\n",
       "trip_creation_time                0\n",
       "route_schedule_uuid               0\n",
       "route_type                        0\n",
       "trip_uuid                         0\n",
       "source_center                     0\n",
       "source_name                       0\n",
       "destination_center                0\n",
       "destination_name                  0\n",
       "od_start_time                     0\n",
       "od_end_time                       0\n",
       "start_scan_to_end_scan            0\n",
       "actual_distance_to_destination    0\n",
       "actual_time                       0\n",
       "osrm_time                         0\n",
       "osrm_distance                     0\n",
       "segment_actual_time               0\n",
       "segment_osrm_time                 0\n",
       "segment_osrm_distance             0\n",
       "dtype: int64"
      ]
     },
     "execution_count": 27,
     "metadata": {},
     "output_type": "execute_result"
    }
   ],
   "source": [
    "df.isna().sum()"
   ]
  },
  {
   "cell_type": "markdown",
   "id": "eebed558",
   "metadata": {},
   "source": [
    "#####  Basic Description of the Data"
   ]
  },
  {
   "cell_type": "code",
   "execution_count": 28,
   "id": "e731a998",
   "metadata": {},
   "outputs": [
    {
     "data": {
      "text/html": [
       "<div>\n",
       "<style scoped>\n",
       "    .dataframe tbody tr th:only-of-type {\n",
       "        vertical-align: middle;\n",
       "    }\n",
       "\n",
       "    .dataframe tbody tr th {\n",
       "        vertical-align: top;\n",
       "    }\n",
       "\n",
       "    .dataframe thead th {\n",
       "        text-align: right;\n",
       "    }\n",
       "</style>\n",
       "<table border=\"1\" class=\"dataframe\">\n",
       "  <thead>\n",
       "    <tr style=\"text-align: right;\">\n",
       "      <th></th>\n",
       "      <th>start_scan_to_end_scan</th>\n",
       "      <th>actual_distance_to_destination</th>\n",
       "      <th>actual_time</th>\n",
       "      <th>osrm_time</th>\n",
       "      <th>osrm_distance</th>\n",
       "      <th>segment_actual_time</th>\n",
       "      <th>segment_osrm_time</th>\n",
       "      <th>segment_osrm_distance</th>\n",
       "    </tr>\n",
       "  </thead>\n",
       "  <tbody>\n",
       "    <tr>\n",
       "      <th>count</th>\n",
       "      <td>144867.000000</td>\n",
       "      <td>144867.000000</td>\n",
       "      <td>144867.000000</td>\n",
       "      <td>144867.000000</td>\n",
       "      <td>144867.000000</td>\n",
       "      <td>144867.000000</td>\n",
       "      <td>144867.000000</td>\n",
       "      <td>144867.000000</td>\n",
       "    </tr>\n",
       "    <tr>\n",
       "      <th>mean</th>\n",
       "      <td>961.262986</td>\n",
       "      <td>234.073380</td>\n",
       "      <td>416.927521</td>\n",
       "      <td>213.868286</td>\n",
       "      <td>284.771301</td>\n",
       "      <td>36.196110</td>\n",
       "      <td>18.507547</td>\n",
       "      <td>22.829018</td>\n",
       "    </tr>\n",
       "    <tr>\n",
       "      <th>std</th>\n",
       "      <td>1037.012769</td>\n",
       "      <td>344.979126</td>\n",
       "      <td>598.096069</td>\n",
       "      <td>308.004333</td>\n",
       "      <td>421.117462</td>\n",
       "      <td>53.566002</td>\n",
       "      <td>14.770471</td>\n",
       "      <td>17.860197</td>\n",
       "    </tr>\n",
       "    <tr>\n",
       "      <th>min</th>\n",
       "      <td>20.000000</td>\n",
       "      <td>9.000046</td>\n",
       "      <td>9.000000</td>\n",
       "      <td>6.000000</td>\n",
       "      <td>9.008200</td>\n",
       "      <td>-244.000000</td>\n",
       "      <td>0.000000</td>\n",
       "      <td>0.000000</td>\n",
       "    </tr>\n",
       "    <tr>\n",
       "      <th>25%</th>\n",
       "      <td>161.000000</td>\n",
       "      <td>23.355875</td>\n",
       "      <td>51.000000</td>\n",
       "      <td>27.000000</td>\n",
       "      <td>29.914701</td>\n",
       "      <td>20.000000</td>\n",
       "      <td>11.000000</td>\n",
       "      <td>12.070100</td>\n",
       "    </tr>\n",
       "    <tr>\n",
       "      <th>50%</th>\n",
       "      <td>449.000000</td>\n",
       "      <td>66.126572</td>\n",
       "      <td>132.000000</td>\n",
       "      <td>64.000000</td>\n",
       "      <td>78.525803</td>\n",
       "      <td>29.000000</td>\n",
       "      <td>17.000000</td>\n",
       "      <td>23.513000</td>\n",
       "    </tr>\n",
       "    <tr>\n",
       "      <th>75%</th>\n",
       "      <td>1634.000000</td>\n",
       "      <td>286.708878</td>\n",
       "      <td>513.000000</td>\n",
       "      <td>257.000000</td>\n",
       "      <td>343.193253</td>\n",
       "      <td>40.000000</td>\n",
       "      <td>22.000000</td>\n",
       "      <td>27.813250</td>\n",
       "    </tr>\n",
       "    <tr>\n",
       "      <th>max</th>\n",
       "      <td>7898.000000</td>\n",
       "      <td>1927.447754</td>\n",
       "      <td>4532.000000</td>\n",
       "      <td>1686.000000</td>\n",
       "      <td>2326.199219</td>\n",
       "      <td>3051.000000</td>\n",
       "      <td>1611.000000</td>\n",
       "      <td>2191.403809</td>\n",
       "    </tr>\n",
       "  </tbody>\n",
       "</table>\n",
       "</div>"
      ],
      "text/plain": [
       "       start_scan_to_end_scan  actual_distance_to_destination    actual_time  \\\n",
       "count           144867.000000                   144867.000000  144867.000000   \n",
       "mean               961.262986                      234.073380     416.927521   \n",
       "std               1037.012769                      344.979126     598.096069   \n",
       "min                 20.000000                        9.000046       9.000000   \n",
       "25%                161.000000                       23.355875      51.000000   \n",
       "50%                449.000000                       66.126572     132.000000   \n",
       "75%               1634.000000                      286.708878     513.000000   \n",
       "max               7898.000000                     1927.447754    4532.000000   \n",
       "\n",
       "           osrm_time  osrm_distance  segment_actual_time  segment_osrm_time  \\\n",
       "count  144867.000000  144867.000000        144867.000000      144867.000000   \n",
       "mean      213.868286     284.771301            36.196110          18.507547   \n",
       "std       308.004333     421.117462            53.566002          14.770471   \n",
       "min         6.000000       9.008200          -244.000000           0.000000   \n",
       "25%        27.000000      29.914701            20.000000          11.000000   \n",
       "50%        64.000000      78.525803            29.000000          17.000000   \n",
       "75%       257.000000     343.193253            40.000000          22.000000   \n",
       "max      1686.000000    2326.199219          3051.000000        1611.000000   \n",
       "\n",
       "       segment_osrm_distance  \n",
       "count          144867.000000  \n",
       "mean               22.829018  \n",
       "std                17.860197  \n",
       "min                 0.000000  \n",
       "25%                12.070100  \n",
       "50%                23.513000  \n",
       "75%                27.813250  \n",
       "max              2191.403809  "
      ]
     },
     "execution_count": 28,
     "metadata": {},
     "output_type": "execute_result"
    }
   ],
   "source": [
    "df.describe()"
   ]
  },
  {
   "cell_type": "code",
   "execution_count": 29,
   "id": "06f897b9",
   "metadata": {},
   "outputs": [
    {
     "data": {
      "text/html": [
       "<div>\n",
       "<style scoped>\n",
       "    .dataframe tbody tr th:only-of-type {\n",
       "        vertical-align: middle;\n",
       "    }\n",
       "\n",
       "    .dataframe tbody tr th {\n",
       "        vertical-align: top;\n",
       "    }\n",
       "\n",
       "    .dataframe thead th {\n",
       "        text-align: right;\n",
       "    }\n",
       "</style>\n",
       "<table border=\"1\" class=\"dataframe\">\n",
       "  <thead>\n",
       "    <tr style=\"text-align: right;\">\n",
       "      <th></th>\n",
       "      <th>route_schedule_uuid</th>\n",
       "      <th>trip_uuid</th>\n",
       "      <th>source_center</th>\n",
       "      <th>source_name</th>\n",
       "      <th>destination_center</th>\n",
       "      <th>destination_name</th>\n",
       "    </tr>\n",
       "  </thead>\n",
       "  <tbody>\n",
       "    <tr>\n",
       "      <th>count</th>\n",
       "      <td>144867</td>\n",
       "      <td>144867</td>\n",
       "      <td>144867</td>\n",
       "      <td>144867</td>\n",
       "      <td>144867</td>\n",
       "      <td>144867</td>\n",
       "    </tr>\n",
       "    <tr>\n",
       "      <th>unique</th>\n",
       "      <td>1504</td>\n",
       "      <td>14817</td>\n",
       "      <td>1508</td>\n",
       "      <td>1508</td>\n",
       "      <td>1481</td>\n",
       "      <td>1481</td>\n",
       "    </tr>\n",
       "    <tr>\n",
       "      <th>top</th>\n",
       "      <td>thanos::sroute:4029a8a2-6c74-4b7e-a6d8-f9e069f...</td>\n",
       "      <td>trip-153811219535896559</td>\n",
       "      <td>IND000000ACB</td>\n",
       "      <td>Gurgaon_Bilaspur_HB (Haryana)</td>\n",
       "      <td>IND000000ACB</td>\n",
       "      <td>Gurgaon_Bilaspur_HB (Haryana)</td>\n",
       "    </tr>\n",
       "    <tr>\n",
       "      <th>freq</th>\n",
       "      <td>1812</td>\n",
       "      <td>101</td>\n",
       "      <td>23347</td>\n",
       "      <td>23347</td>\n",
       "      <td>15192</td>\n",
       "      <td>15192</td>\n",
       "    </tr>\n",
       "  </tbody>\n",
       "</table>\n",
       "</div>"
      ],
      "text/plain": [
       "                                      route_schedule_uuid  \\\n",
       "count                                              144867   \n",
       "unique                                               1504   \n",
       "top     thanos::sroute:4029a8a2-6c74-4b7e-a6d8-f9e069f...   \n",
       "freq                                                 1812   \n",
       "\n",
       "                      trip_uuid source_center                    source_name  \\\n",
       "count                    144867        144867                         144867   \n",
       "unique                    14817          1508                           1508   \n",
       "top     trip-153811219535896559  IND000000ACB  Gurgaon_Bilaspur_HB (Haryana)   \n",
       "freq                        101         23347                          23347   \n",
       "\n",
       "       destination_center               destination_name  \n",
       "count              144867                         144867  \n",
       "unique               1481                           1481  \n",
       "top          IND000000ACB  Gurgaon_Bilaspur_HB (Haryana)  \n",
       "freq                15192                          15192  "
      ]
     },
     "execution_count": 29,
     "metadata": {},
     "output_type": "execute_result"
    }
   ],
   "source": [
    "df.describe(include = 'object')"
   ]
  },
  {
   "cell_type": "markdown",
   "id": "a878e90c",
   "metadata": {},
   "source": [
    "### Merging of rows and aggregation of fields "
   ]
  },
  {
   "cell_type": "markdown",
   "id": "9b148ccf",
   "metadata": {},
   "source": [
    "**How to begin\"**"
   ]
  },
  {
   "cell_type": "markdown",
   "id": "65405642",
   "metadata": {},
   "source": [
    "- Since delivery details of one package are divided into several rows (think of it as connecting flights to reach a particular destination). Now think about how we should treat their fields if we combine these rows? What aggregation would make sense if we merge. What would happen to the numeric fields if we merge the rows."
   ]
  },
  {
   "cell_type": "code",
   "execution_count": 30,
   "id": "1725e7a7",
   "metadata": {},
   "outputs": [
    {
     "data": {
      "text/html": [
       "<div>\n",
       "<style scoped>\n",
       "    .dataframe tbody tr th:only-of-type {\n",
       "        vertical-align: middle;\n",
       "    }\n",
       "\n",
       "    .dataframe tbody tr th {\n",
       "        vertical-align: top;\n",
       "    }\n",
       "\n",
       "    .dataframe thead th {\n",
       "        text-align: right;\n",
       "    }\n",
       "</style>\n",
       "<table border=\"1\" class=\"dataframe\">\n",
       "  <thead>\n",
       "    <tr style=\"text-align: right;\">\n",
       "      <th></th>\n",
       "      <th>trip_uuid</th>\n",
       "      <th>source_center</th>\n",
       "      <th>destination_center</th>\n",
       "      <th>data</th>\n",
       "      <th>route_type</th>\n",
       "      <th>trip_creation_time</th>\n",
       "      <th>source_name</th>\n",
       "      <th>destination_name</th>\n",
       "      <th>od_start_time</th>\n",
       "      <th>od_end_time</th>\n",
       "      <th>start_scan_to_end_scan</th>\n",
       "      <th>actual_distance_to_destination</th>\n",
       "      <th>actual_time</th>\n",
       "      <th>osrm_time</th>\n",
       "      <th>osrm_distance</th>\n",
       "      <th>segment_actual_time</th>\n",
       "      <th>segment_osrm_time</th>\n",
       "      <th>segment_osrm_distance</th>\n",
       "    </tr>\n",
       "  </thead>\n",
       "  <tbody>\n",
       "    <tr>\n",
       "      <th>0</th>\n",
       "      <td>trip-153671041653548748</td>\n",
       "      <td>IND209304AAA</td>\n",
       "      <td>IND000000ACB</td>\n",
       "      <td>training</td>\n",
       "      <td>FTL</td>\n",
       "      <td>2018-09-12 00:00:16.535741</td>\n",
       "      <td>Kanpur_Central_H_6 (Uttar Pradesh)</td>\n",
       "      <td>Gurgaon_Bilaspur_HB (Haryana)</td>\n",
       "      <td>2018-09-12 16:39:46.858469</td>\n",
       "      <td>2018-09-13 13:40:23.123744</td>\n",
       "      <td>1260.0</td>\n",
       "      <td>383.759155</td>\n",
       "      <td>732.0</td>\n",
       "      <td>329.0</td>\n",
       "      <td>446.549591</td>\n",
       "      <td>728.0</td>\n",
       "      <td>534.0</td>\n",
       "      <td>670.620483</td>\n",
       "    </tr>\n",
       "    <tr>\n",
       "      <th>1</th>\n",
       "      <td>trip-153671041653548748</td>\n",
       "      <td>IND462022AAA</td>\n",
       "      <td>IND209304AAA</td>\n",
       "      <td>training</td>\n",
       "      <td>FTL</td>\n",
       "      <td>2018-09-12 00:00:16.535741</td>\n",
       "      <td>Bhopal_Trnsport_H (Madhya Pradesh)</td>\n",
       "      <td>Kanpur_Central_H_6 (Uttar Pradesh)</td>\n",
       "      <td>2018-09-12 00:00:16.535741</td>\n",
       "      <td>2018-09-12 16:39:46.858469</td>\n",
       "      <td>999.0</td>\n",
       "      <td>440.973694</td>\n",
       "      <td>830.0</td>\n",
       "      <td>388.0</td>\n",
       "      <td>544.802673</td>\n",
       "      <td>820.0</td>\n",
       "      <td>474.0</td>\n",
       "      <td>649.852783</td>\n",
       "    </tr>\n",
       "    <tr>\n",
       "      <th>2</th>\n",
       "      <td>trip-153671042288605164</td>\n",
       "      <td>IND561203AAB</td>\n",
       "      <td>IND562101AAA</td>\n",
       "      <td>training</td>\n",
       "      <td>Carting</td>\n",
       "      <td>2018-09-12 00:00:22.886430</td>\n",
       "      <td>Doddablpur_ChikaDPP_D (Karnataka)</td>\n",
       "      <td>Chikblapur_ShntiSgr_D (Karnataka)</td>\n",
       "      <td>2018-09-12 02:03:09.655591</td>\n",
       "      <td>2018-09-12 03:01:59.598855</td>\n",
       "      <td>58.0</td>\n",
       "      <td>24.644020</td>\n",
       "      <td>47.0</td>\n",
       "      <td>26.0</td>\n",
       "      <td>28.199400</td>\n",
       "      <td>46.0</td>\n",
       "      <td>26.0</td>\n",
       "      <td>28.199501</td>\n",
       "    </tr>\n",
       "    <tr>\n",
       "      <th>3</th>\n",
       "      <td>trip-153671042288605164</td>\n",
       "      <td>IND572101AAA</td>\n",
       "      <td>IND561203AAB</td>\n",
       "      <td>training</td>\n",
       "      <td>Carting</td>\n",
       "      <td>2018-09-12 00:00:22.886430</td>\n",
       "      <td>Tumkur_Veersagr_I (Karnataka)</td>\n",
       "      <td>Doddablpur_ChikaDPP_D (Karnataka)</td>\n",
       "      <td>2018-09-12 00:00:22.886430</td>\n",
       "      <td>2018-09-12 02:03:09.655591</td>\n",
       "      <td>122.0</td>\n",
       "      <td>48.542889</td>\n",
       "      <td>96.0</td>\n",
       "      <td>42.0</td>\n",
       "      <td>56.911598</td>\n",
       "      <td>95.0</td>\n",
       "      <td>39.0</td>\n",
       "      <td>55.989899</td>\n",
       "    </tr>\n",
       "    <tr>\n",
       "      <th>4</th>\n",
       "      <td>trip-153671043369099517</td>\n",
       "      <td>IND000000ACB</td>\n",
       "      <td>IND160002AAC</td>\n",
       "      <td>training</td>\n",
       "      <td>FTL</td>\n",
       "      <td>2018-09-12 00:00:33.691250</td>\n",
       "      <td>Gurgaon_Bilaspur_HB (Haryana)</td>\n",
       "      <td>Chandigarh_Mehmdpur_H (Punjab)</td>\n",
       "      <td>2018-09-14 03:40:17.106733</td>\n",
       "      <td>2018-09-14 17:34:55.442454</td>\n",
       "      <td>834.0</td>\n",
       "      <td>237.439606</td>\n",
       "      <td>611.0</td>\n",
       "      <td>212.0</td>\n",
       "      <td>281.210907</td>\n",
       "      <td>608.0</td>\n",
       "      <td>231.0</td>\n",
       "      <td>317.740784</td>\n",
       "    </tr>\n",
       "    <tr>\n",
       "      <th>...</th>\n",
       "      <td>...</td>\n",
       "      <td>...</td>\n",
       "      <td>...</td>\n",
       "      <td>...</td>\n",
       "      <td>...</td>\n",
       "      <td>...</td>\n",
       "      <td>...</td>\n",
       "      <td>...</td>\n",
       "      <td>...</td>\n",
       "      <td>...</td>\n",
       "      <td>...</td>\n",
       "      <td>...</td>\n",
       "      <td>...</td>\n",
       "      <td>...</td>\n",
       "      <td>...</td>\n",
       "      <td>...</td>\n",
       "      <td>...</td>\n",
       "      <td>...</td>\n",
       "    </tr>\n",
       "    <tr>\n",
       "      <th>26363</th>\n",
       "      <td>trip-153861115439069069</td>\n",
       "      <td>IND628204AAA</td>\n",
       "      <td>IND627657AAA</td>\n",
       "      <td>test</td>\n",
       "      <td>Carting</td>\n",
       "      <td>2018-10-03 23:59:14.390954</td>\n",
       "      <td>Tirchchndr_Shnmgprm_D (Tamil Nadu)</td>\n",
       "      <td>Thisayanvilai_UdnkdiRD_D (Tamil Nadu)</td>\n",
       "      <td>2018-10-04 02:29:04.272194</td>\n",
       "      <td>2018-10-04 03:31:11.183797</td>\n",
       "      <td>62.0</td>\n",
       "      <td>33.627182</td>\n",
       "      <td>51.0</td>\n",
       "      <td>41.0</td>\n",
       "      <td>42.521301</td>\n",
       "      <td>49.0</td>\n",
       "      <td>42.0</td>\n",
       "      <td>42.143101</td>\n",
       "    </tr>\n",
       "    <tr>\n",
       "      <th>26364</th>\n",
       "      <td>trip-153861115439069069</td>\n",
       "      <td>IND628613AAA</td>\n",
       "      <td>IND627005AAA</td>\n",
       "      <td>test</td>\n",
       "      <td>Carting</td>\n",
       "      <td>2018-10-03 23:59:14.390954</td>\n",
       "      <td>Peikulam_SriVnktpm_D (Tamil Nadu)</td>\n",
       "      <td>Tirunelveli_VdkkuSrt_I (Tamil Nadu)</td>\n",
       "      <td>2018-10-04 04:16:39.894872</td>\n",
       "      <td>2018-10-04 05:47:45.162682</td>\n",
       "      <td>91.0</td>\n",
       "      <td>33.673836</td>\n",
       "      <td>90.0</td>\n",
       "      <td>48.0</td>\n",
       "      <td>40.608002</td>\n",
       "      <td>89.0</td>\n",
       "      <td>77.0</td>\n",
       "      <td>78.586899</td>\n",
       "    </tr>\n",
       "    <tr>\n",
       "      <th>26365</th>\n",
       "      <td>trip-153861115439069069</td>\n",
       "      <td>IND628801AAA</td>\n",
       "      <td>IND628204AAA</td>\n",
       "      <td>test</td>\n",
       "      <td>Carting</td>\n",
       "      <td>2018-10-03 23:59:14.390954</td>\n",
       "      <td>Eral_Busstand_D (Tamil Nadu)</td>\n",
       "      <td>Tirchchndr_Shnmgprm_D (Tamil Nadu)</td>\n",
       "      <td>2018-10-04 01:44:53.808000</td>\n",
       "      <td>2018-10-04 02:29:04.272194</td>\n",
       "      <td>44.0</td>\n",
       "      <td>12.661944</td>\n",
       "      <td>30.0</td>\n",
       "      <td>14.0</td>\n",
       "      <td>16.018499</td>\n",
       "      <td>29.0</td>\n",
       "      <td>14.0</td>\n",
       "      <td>16.018400</td>\n",
       "    </tr>\n",
       "    <tr>\n",
       "      <th>26366</th>\n",
       "      <td>trip-153861118270144424</td>\n",
       "      <td>IND583119AAA</td>\n",
       "      <td>IND583101AAA</td>\n",
       "      <td>test</td>\n",
       "      <td>FTL</td>\n",
       "      <td>2018-10-03 23:59:42.701692</td>\n",
       "      <td>Sandur_WrdN1DPP_D (Karnataka)</td>\n",
       "      <td>Bellary_Dc (Karnataka)</td>\n",
       "      <td>2018-10-04 03:58:40.726547</td>\n",
       "      <td>2018-10-04 08:46:09.166940</td>\n",
       "      <td>287.0</td>\n",
       "      <td>40.546738</td>\n",
       "      <td>233.0</td>\n",
       "      <td>42.0</td>\n",
       "      <td>52.530300</td>\n",
       "      <td>233.0</td>\n",
       "      <td>42.0</td>\n",
       "      <td>52.530300</td>\n",
       "    </tr>\n",
       "    <tr>\n",
       "      <th>26367</th>\n",
       "      <td>trip-153861118270144424</td>\n",
       "      <td>IND583201AAA</td>\n",
       "      <td>IND583119AAA</td>\n",
       "      <td>test</td>\n",
       "      <td>FTL</td>\n",
       "      <td>2018-10-03 23:59:42.701692</td>\n",
       "      <td>Hospet (Karnataka)</td>\n",
       "      <td>Sandur_WrdN1DPP_D (Karnataka)</td>\n",
       "      <td>2018-10-04 02:51:44.712656</td>\n",
       "      <td>2018-10-04 03:58:40.726547</td>\n",
       "      <td>66.0</td>\n",
       "      <td>25.534794</td>\n",
       "      <td>42.0</td>\n",
       "      <td>26.0</td>\n",
       "      <td>28.048401</td>\n",
       "      <td>41.0</td>\n",
       "      <td>25.0</td>\n",
       "      <td>28.048401</td>\n",
       "    </tr>\n",
       "  </tbody>\n",
       "</table>\n",
       "<p>26368 rows × 18 columns</p>\n",
       "</div>"
      ],
      "text/plain": [
       "                     trip_uuid source_center destination_center      data  \\\n",
       "0      trip-153671041653548748  IND209304AAA       IND000000ACB  training   \n",
       "1      trip-153671041653548748  IND462022AAA       IND209304AAA  training   \n",
       "2      trip-153671042288605164  IND561203AAB       IND562101AAA  training   \n",
       "3      trip-153671042288605164  IND572101AAA       IND561203AAB  training   \n",
       "4      trip-153671043369099517  IND000000ACB       IND160002AAC  training   \n",
       "...                        ...           ...                ...       ...   \n",
       "26363  trip-153861115439069069  IND628204AAA       IND627657AAA      test   \n",
       "26364  trip-153861115439069069  IND628613AAA       IND627005AAA      test   \n",
       "26365  trip-153861115439069069  IND628801AAA       IND628204AAA      test   \n",
       "26366  trip-153861118270144424  IND583119AAA       IND583101AAA      test   \n",
       "26367  trip-153861118270144424  IND583201AAA       IND583119AAA      test   \n",
       "\n",
       "      route_type         trip_creation_time  \\\n",
       "0            FTL 2018-09-12 00:00:16.535741   \n",
       "1            FTL 2018-09-12 00:00:16.535741   \n",
       "2        Carting 2018-09-12 00:00:22.886430   \n",
       "3        Carting 2018-09-12 00:00:22.886430   \n",
       "4            FTL 2018-09-12 00:00:33.691250   \n",
       "...          ...                        ...   \n",
       "26363    Carting 2018-10-03 23:59:14.390954   \n",
       "26364    Carting 2018-10-03 23:59:14.390954   \n",
       "26365    Carting 2018-10-03 23:59:14.390954   \n",
       "26366        FTL 2018-10-03 23:59:42.701692   \n",
       "26367        FTL 2018-10-03 23:59:42.701692   \n",
       "\n",
       "                              source_name  \\\n",
       "0      Kanpur_Central_H_6 (Uttar Pradesh)   \n",
       "1      Bhopal_Trnsport_H (Madhya Pradesh)   \n",
       "2       Doddablpur_ChikaDPP_D (Karnataka)   \n",
       "3           Tumkur_Veersagr_I (Karnataka)   \n",
       "4           Gurgaon_Bilaspur_HB (Haryana)   \n",
       "...                                   ...   \n",
       "26363  Tirchchndr_Shnmgprm_D (Tamil Nadu)   \n",
       "26364   Peikulam_SriVnktpm_D (Tamil Nadu)   \n",
       "26365        Eral_Busstand_D (Tamil Nadu)   \n",
       "26366       Sandur_WrdN1DPP_D (Karnataka)   \n",
       "26367                  Hospet (Karnataka)   \n",
       "\n",
       "                            destination_name              od_start_time  \\\n",
       "0              Gurgaon_Bilaspur_HB (Haryana) 2018-09-12 16:39:46.858469   \n",
       "1         Kanpur_Central_H_6 (Uttar Pradesh) 2018-09-12 00:00:16.535741   \n",
       "2          Chikblapur_ShntiSgr_D (Karnataka) 2018-09-12 02:03:09.655591   \n",
       "3          Doddablpur_ChikaDPP_D (Karnataka) 2018-09-12 00:00:22.886430   \n",
       "4             Chandigarh_Mehmdpur_H (Punjab) 2018-09-14 03:40:17.106733   \n",
       "...                                      ...                        ...   \n",
       "26363  Thisayanvilai_UdnkdiRD_D (Tamil Nadu) 2018-10-04 02:29:04.272194   \n",
       "26364    Tirunelveli_VdkkuSrt_I (Tamil Nadu) 2018-10-04 04:16:39.894872   \n",
       "26365     Tirchchndr_Shnmgprm_D (Tamil Nadu) 2018-10-04 01:44:53.808000   \n",
       "26366                 Bellary_Dc (Karnataka) 2018-10-04 03:58:40.726547   \n",
       "26367          Sandur_WrdN1DPP_D (Karnataka) 2018-10-04 02:51:44.712656   \n",
       "\n",
       "                     od_end_time  start_scan_to_end_scan  \\\n",
       "0     2018-09-13 13:40:23.123744                  1260.0   \n",
       "1     2018-09-12 16:39:46.858469                   999.0   \n",
       "2     2018-09-12 03:01:59.598855                    58.0   \n",
       "3     2018-09-12 02:03:09.655591                   122.0   \n",
       "4     2018-09-14 17:34:55.442454                   834.0   \n",
       "...                          ...                     ...   \n",
       "26363 2018-10-04 03:31:11.183797                    62.0   \n",
       "26364 2018-10-04 05:47:45.162682                    91.0   \n",
       "26365 2018-10-04 02:29:04.272194                    44.0   \n",
       "26366 2018-10-04 08:46:09.166940                   287.0   \n",
       "26367 2018-10-04 03:58:40.726547                    66.0   \n",
       "\n",
       "       actual_distance_to_destination  actual_time  osrm_time  osrm_distance  \\\n",
       "0                          383.759155        732.0      329.0     446.549591   \n",
       "1                          440.973694        830.0      388.0     544.802673   \n",
       "2                           24.644020         47.0       26.0      28.199400   \n",
       "3                           48.542889         96.0       42.0      56.911598   \n",
       "4                          237.439606        611.0      212.0     281.210907   \n",
       "...                               ...          ...        ...            ...   \n",
       "26363                       33.627182         51.0       41.0      42.521301   \n",
       "26364                       33.673836         90.0       48.0      40.608002   \n",
       "26365                       12.661944         30.0       14.0      16.018499   \n",
       "26366                       40.546738        233.0       42.0      52.530300   \n",
       "26367                       25.534794         42.0       26.0      28.048401   \n",
       "\n",
       "       segment_actual_time  segment_osrm_time  segment_osrm_distance  \n",
       "0                    728.0              534.0             670.620483  \n",
       "1                    820.0              474.0             649.852783  \n",
       "2                     46.0               26.0              28.199501  \n",
       "3                     95.0               39.0              55.989899  \n",
       "4                    608.0              231.0             317.740784  \n",
       "...                    ...                ...                    ...  \n",
       "26363                 49.0               42.0              42.143101  \n",
       "26364                 89.0               77.0              78.586899  \n",
       "26365                 29.0               14.0              16.018400  \n",
       "26366                233.0               42.0              52.530300  \n",
       "26367                 41.0               25.0              28.048401  \n",
       "\n",
       "[26368 rows x 18 columns]"
      ]
     },
     "execution_count": 30,
     "metadata": {},
     "output_type": "execute_result"
    }
   ],
   "source": [
    "grouping_1 = ['trip_uuid', 'source_center', 'destination_center']\n",
    "df1 = df.groupby(by = grouping_1, as_index = False).agg({'data' : 'first',\n",
    "                                                         'route_type' : 'first',\n",
    "                                                       'trip_creation_time' : 'first',\n",
    "                                                       'source_name' : 'first',\n",
    "                                                       'destination_name' : 'last',\n",
    "                                                       'od_start_time' : 'first',\n",
    "                                                       'od_end_time' : 'first',\n",
    "                                                       'start_scan_to_end_scan' : 'first',\n",
    "                                                       'actual_distance_to_destination' : 'last',\n",
    "                                                       'actual_time' : 'last',\n",
    "                                                       'osrm_time' : 'last',\n",
    "                                                       'osrm_distance' : 'last',\n",
    "                                                       'segment_actual_time' : 'sum',\n",
    "                                                       'segment_osrm_time' : 'sum',\n",
    "                                                       'segment_osrm_distance' : 'sum'})\n",
    "df1"
   ]
  },
  {
   "cell_type": "markdown",
   "id": "4af3aab2",
   "metadata": {},
   "source": [
    "#### Calculate the time taken between od_start_time and od_end_time and keep it as a feature. Drop the original columns, if required"
   ]
  },
  {
   "cell_type": "code",
   "execution_count": 31,
   "id": "8a70ae0a",
   "metadata": {},
   "outputs": [
    {
     "data": {
      "text/plain": [
       "0    1260.60\n",
       "1     999.51\n",
       "2      58.83\n",
       "3     122.78\n",
       "4     834.64\n",
       "Name: od_total_time, dtype: float64"
      ]
     },
     "execution_count": 31,
     "metadata": {},
     "output_type": "execute_result"
    }
   ],
   "source": [
    "df1['od_total_time'] = df1['od_end_time'] - df1['od_start_time']\n",
    "df1.drop(columns = ['od_end_time', 'od_start_time'], inplace = True)\n",
    "df1['od_total_time'] = df1['od_total_time'].apply(lambda x : round(x.total_seconds() / 60.0, 2))\n",
    "df1['od_total_time'].head()"
   ]
  },
  {
   "cell_type": "code",
   "execution_count": 32,
   "id": "d2b9bd5a",
   "metadata": {},
   "outputs": [
    {
     "data": {
      "text/html": [
       "<div>\n",
       "<style scoped>\n",
       "    .dataframe tbody tr th:only-of-type {\n",
       "        vertical-align: middle;\n",
       "    }\n",
       "\n",
       "    .dataframe tbody tr th {\n",
       "        vertical-align: top;\n",
       "    }\n",
       "\n",
       "    .dataframe thead th {\n",
       "        text-align: right;\n",
       "    }\n",
       "</style>\n",
       "<table border=\"1\" class=\"dataframe\">\n",
       "  <thead>\n",
       "    <tr style=\"text-align: right;\">\n",
       "      <th></th>\n",
       "      <th>trip_uuid</th>\n",
       "      <th>source_center</th>\n",
       "      <th>destination_center</th>\n",
       "      <th>data</th>\n",
       "      <th>route_type</th>\n",
       "      <th>trip_creation_time</th>\n",
       "      <th>source_name</th>\n",
       "      <th>destination_name</th>\n",
       "      <th>od_total_time</th>\n",
       "      <th>start_scan_to_end_scan</th>\n",
       "      <th>actual_distance_to_destination</th>\n",
       "      <th>actual_time</th>\n",
       "      <th>osrm_time</th>\n",
       "      <th>osrm_distance</th>\n",
       "      <th>segment_actual_time</th>\n",
       "      <th>segment_osrm_time</th>\n",
       "      <th>segment_osrm_distance</th>\n",
       "    </tr>\n",
       "  </thead>\n",
       "  <tbody>\n",
       "    <tr>\n",
       "      <th>0</th>\n",
       "      <td>trip-153671041653548748</td>\n",
       "      <td>IND209304AAA</td>\n",
       "      <td>IND209304AAA</td>\n",
       "      <td>training</td>\n",
       "      <td>FTL</td>\n",
       "      <td>2018-09-12 00:00:16.535741</td>\n",
       "      <td>Kanpur_Central_H_6 (Uttar Pradesh)</td>\n",
       "      <td>Kanpur_Central_H_6 (Uttar Pradesh)</td>\n",
       "      <td>2260.11</td>\n",
       "      <td>2259.0</td>\n",
       "      <td>824.732849</td>\n",
       "      <td>1562.0</td>\n",
       "      <td>717.0</td>\n",
       "      <td>991.352295</td>\n",
       "      <td>1548.0</td>\n",
       "      <td>1008.0</td>\n",
       "      <td>1320.473267</td>\n",
       "    </tr>\n",
       "    <tr>\n",
       "      <th>1</th>\n",
       "      <td>trip-153671042288605164</td>\n",
       "      <td>IND561203AAB</td>\n",
       "      <td>IND561203AAB</td>\n",
       "      <td>training</td>\n",
       "      <td>Carting</td>\n",
       "      <td>2018-09-12 00:00:22.886430</td>\n",
       "      <td>Doddablpur_ChikaDPP_D (Karnataka)</td>\n",
       "      <td>Doddablpur_ChikaDPP_D (Karnataka)</td>\n",
       "      <td>181.61</td>\n",
       "      <td>180.0</td>\n",
       "      <td>73.186905</td>\n",
       "      <td>143.0</td>\n",
       "      <td>68.0</td>\n",
       "      <td>85.111000</td>\n",
       "      <td>141.0</td>\n",
       "      <td>65.0</td>\n",
       "      <td>84.189400</td>\n",
       "    </tr>\n",
       "    <tr>\n",
       "      <th>2</th>\n",
       "      <td>trip-153671043369099517</td>\n",
       "      <td>IND000000ACB</td>\n",
       "      <td>IND000000ACB</td>\n",
       "      <td>training</td>\n",
       "      <td>FTL</td>\n",
       "      <td>2018-09-12 00:00:33.691250</td>\n",
       "      <td>Gurgaon_Bilaspur_HB (Haryana)</td>\n",
       "      <td>Gurgaon_Bilaspur_HB (Haryana)</td>\n",
       "      <td>3934.36</td>\n",
       "      <td>3933.0</td>\n",
       "      <td>1927.404297</td>\n",
       "      <td>3347.0</td>\n",
       "      <td>1740.0</td>\n",
       "      <td>2354.066650</td>\n",
       "      <td>3308.0</td>\n",
       "      <td>1941.0</td>\n",
       "      <td>2545.267822</td>\n",
       "    </tr>\n",
       "    <tr>\n",
       "      <th>3</th>\n",
       "      <td>trip-153671046011330457</td>\n",
       "      <td>IND400072AAB</td>\n",
       "      <td>IND401104AAA</td>\n",
       "      <td>training</td>\n",
       "      <td>Carting</td>\n",
       "      <td>2018-09-12 00:01:00.113710</td>\n",
       "      <td>Mumbai Hub (Maharashtra)</td>\n",
       "      <td>Mumbai_MiraRd_IP (Maharashtra)</td>\n",
       "      <td>100.49</td>\n",
       "      <td>100.0</td>\n",
       "      <td>17.175274</td>\n",
       "      <td>59.0</td>\n",
       "      <td>15.0</td>\n",
       "      <td>19.680000</td>\n",
       "      <td>59.0</td>\n",
       "      <td>16.0</td>\n",
       "      <td>19.876600</td>\n",
       "    </tr>\n",
       "    <tr>\n",
       "      <th>4</th>\n",
       "      <td>trip-153671052974046625</td>\n",
       "      <td>IND583101AAA</td>\n",
       "      <td>IND583119AAA</td>\n",
       "      <td>training</td>\n",
       "      <td>FTL</td>\n",
       "      <td>2018-09-12 00:02:09.740725</td>\n",
       "      <td>Bellary_Dc (Karnataka)</td>\n",
       "      <td>Sandur_WrdN1DPP_D (Karnataka)</td>\n",
       "      <td>718.34</td>\n",
       "      <td>717.0</td>\n",
       "      <td>127.448502</td>\n",
       "      <td>341.0</td>\n",
       "      <td>117.0</td>\n",
       "      <td>146.791794</td>\n",
       "      <td>340.0</td>\n",
       "      <td>115.0</td>\n",
       "      <td>146.791901</td>\n",
       "    </tr>\n",
       "    <tr>\n",
       "      <th>...</th>\n",
       "      <td>...</td>\n",
       "      <td>...</td>\n",
       "      <td>...</td>\n",
       "      <td>...</td>\n",
       "      <td>...</td>\n",
       "      <td>...</td>\n",
       "      <td>...</td>\n",
       "      <td>...</td>\n",
       "      <td>...</td>\n",
       "      <td>...</td>\n",
       "      <td>...</td>\n",
       "      <td>...</td>\n",
       "      <td>...</td>\n",
       "      <td>...</td>\n",
       "      <td>...</td>\n",
       "      <td>...</td>\n",
       "      <td>...</td>\n",
       "    </tr>\n",
       "    <tr>\n",
       "      <th>14812</th>\n",
       "      <td>trip-153861095625827784</td>\n",
       "      <td>IND160002AAC</td>\n",
       "      <td>IND160002AAC</td>\n",
       "      <td>test</td>\n",
       "      <td>Carting</td>\n",
       "      <td>2018-10-03 23:55:56.258533</td>\n",
       "      <td>Chandigarh_Mehmdpur_H (Punjab)</td>\n",
       "      <td>Chandigarh_Mehmdpur_H (Punjab)</td>\n",
       "      <td>258.03</td>\n",
       "      <td>257.0</td>\n",
       "      <td>57.762333</td>\n",
       "      <td>83.0</td>\n",
       "      <td>62.0</td>\n",
       "      <td>73.462997</td>\n",
       "      <td>82.0</td>\n",
       "      <td>62.0</td>\n",
       "      <td>64.855103</td>\n",
       "    </tr>\n",
       "    <tr>\n",
       "      <th>14813</th>\n",
       "      <td>trip-153861104386292051</td>\n",
       "      <td>IND121004AAB</td>\n",
       "      <td>IND121004AAA</td>\n",
       "      <td>test</td>\n",
       "      <td>Carting</td>\n",
       "      <td>2018-10-03 23:57:23.863155</td>\n",
       "      <td>FBD_Balabhgarh_DPC (Haryana)</td>\n",
       "      <td>Faridabad_Blbgarh_DC (Haryana)</td>\n",
       "      <td>60.59</td>\n",
       "      <td>60.0</td>\n",
       "      <td>15.513784</td>\n",
       "      <td>21.0</td>\n",
       "      <td>12.0</td>\n",
       "      <td>16.088200</td>\n",
       "      <td>21.0</td>\n",
       "      <td>11.0</td>\n",
       "      <td>16.088299</td>\n",
       "    </tr>\n",
       "    <tr>\n",
       "      <th>14814</th>\n",
       "      <td>trip-153861106442901555</td>\n",
       "      <td>IND208006AAA</td>\n",
       "      <td>IND208006AAA</td>\n",
       "      <td>test</td>\n",
       "      <td>Carting</td>\n",
       "      <td>2018-10-03 23:57:44.429324</td>\n",
       "      <td>Kanpur_GovndNgr_DC (Uttar Pradesh)</td>\n",
       "      <td>Kanpur_GovndNgr_DC (Uttar Pradesh)</td>\n",
       "      <td>422.12</td>\n",
       "      <td>421.0</td>\n",
       "      <td>38.684837</td>\n",
       "      <td>282.0</td>\n",
       "      <td>48.0</td>\n",
       "      <td>58.903702</td>\n",
       "      <td>281.0</td>\n",
       "      <td>88.0</td>\n",
       "      <td>104.886597</td>\n",
       "    </tr>\n",
       "    <tr>\n",
       "      <th>14815</th>\n",
       "      <td>trip-153861115439069069</td>\n",
       "      <td>IND627005AAA</td>\n",
       "      <td>IND628204AAA</td>\n",
       "      <td>test</td>\n",
       "      <td>Carting</td>\n",
       "      <td>2018-10-03 23:59:14.390954</td>\n",
       "      <td>Tirunelveli_VdkkuSrt_I (Tamil Nadu)</td>\n",
       "      <td>Tirchchndr_Shnmgprm_D (Tamil Nadu)</td>\n",
       "      <td>348.52</td>\n",
       "      <td>347.0</td>\n",
       "      <td>134.723831</td>\n",
       "      <td>264.0</td>\n",
       "      <td>179.0</td>\n",
       "      <td>171.110306</td>\n",
       "      <td>258.0</td>\n",
       "      <td>221.0</td>\n",
       "      <td>223.532394</td>\n",
       "    </tr>\n",
       "    <tr>\n",
       "      <th>14816</th>\n",
       "      <td>trip-153861118270144424</td>\n",
       "      <td>IND583119AAA</td>\n",
       "      <td>IND583119AAA</td>\n",
       "      <td>test</td>\n",
       "      <td>FTL</td>\n",
       "      <td>2018-10-03 23:59:42.701692</td>\n",
       "      <td>Sandur_WrdN1DPP_D (Karnataka)</td>\n",
       "      <td>Sandur_WrdN1DPP_D (Karnataka)</td>\n",
       "      <td>354.40</td>\n",
       "      <td>353.0</td>\n",
       "      <td>66.081528</td>\n",
       "      <td>275.0</td>\n",
       "      <td>68.0</td>\n",
       "      <td>80.578705</td>\n",
       "      <td>274.0</td>\n",
       "      <td>67.0</td>\n",
       "      <td>80.578705</td>\n",
       "    </tr>\n",
       "  </tbody>\n",
       "</table>\n",
       "<p>14817 rows × 17 columns</p>\n",
       "</div>"
      ],
      "text/plain": [
       "                     trip_uuid source_center destination_center      data  \\\n",
       "0      trip-153671041653548748  IND209304AAA       IND209304AAA  training   \n",
       "1      trip-153671042288605164  IND561203AAB       IND561203AAB  training   \n",
       "2      trip-153671043369099517  IND000000ACB       IND000000ACB  training   \n",
       "3      trip-153671046011330457  IND400072AAB       IND401104AAA  training   \n",
       "4      trip-153671052974046625  IND583101AAA       IND583119AAA  training   \n",
       "...                        ...           ...                ...       ...   \n",
       "14812  trip-153861095625827784  IND160002AAC       IND160002AAC      test   \n",
       "14813  trip-153861104386292051  IND121004AAB       IND121004AAA      test   \n",
       "14814  trip-153861106442901555  IND208006AAA       IND208006AAA      test   \n",
       "14815  trip-153861115439069069  IND627005AAA       IND628204AAA      test   \n",
       "14816  trip-153861118270144424  IND583119AAA       IND583119AAA      test   \n",
       "\n",
       "      route_type         trip_creation_time  \\\n",
       "0            FTL 2018-09-12 00:00:16.535741   \n",
       "1        Carting 2018-09-12 00:00:22.886430   \n",
       "2            FTL 2018-09-12 00:00:33.691250   \n",
       "3        Carting 2018-09-12 00:01:00.113710   \n",
       "4            FTL 2018-09-12 00:02:09.740725   \n",
       "...          ...                        ...   \n",
       "14812    Carting 2018-10-03 23:55:56.258533   \n",
       "14813    Carting 2018-10-03 23:57:23.863155   \n",
       "14814    Carting 2018-10-03 23:57:44.429324   \n",
       "14815    Carting 2018-10-03 23:59:14.390954   \n",
       "14816        FTL 2018-10-03 23:59:42.701692   \n",
       "\n",
       "                               source_name  \\\n",
       "0       Kanpur_Central_H_6 (Uttar Pradesh)   \n",
       "1        Doddablpur_ChikaDPP_D (Karnataka)   \n",
       "2            Gurgaon_Bilaspur_HB (Haryana)   \n",
       "3                 Mumbai Hub (Maharashtra)   \n",
       "4                   Bellary_Dc (Karnataka)   \n",
       "...                                    ...   \n",
       "14812       Chandigarh_Mehmdpur_H (Punjab)   \n",
       "14813         FBD_Balabhgarh_DPC (Haryana)   \n",
       "14814   Kanpur_GovndNgr_DC (Uttar Pradesh)   \n",
       "14815  Tirunelveli_VdkkuSrt_I (Tamil Nadu)   \n",
       "14816        Sandur_WrdN1DPP_D (Karnataka)   \n",
       "\n",
       "                         destination_name  od_total_time  \\\n",
       "0      Kanpur_Central_H_6 (Uttar Pradesh)        2260.11   \n",
       "1       Doddablpur_ChikaDPP_D (Karnataka)         181.61   \n",
       "2           Gurgaon_Bilaspur_HB (Haryana)        3934.36   \n",
       "3          Mumbai_MiraRd_IP (Maharashtra)         100.49   \n",
       "4           Sandur_WrdN1DPP_D (Karnataka)         718.34   \n",
       "...                                   ...            ...   \n",
       "14812      Chandigarh_Mehmdpur_H (Punjab)         258.03   \n",
       "14813      Faridabad_Blbgarh_DC (Haryana)          60.59   \n",
       "14814  Kanpur_GovndNgr_DC (Uttar Pradesh)         422.12   \n",
       "14815  Tirchchndr_Shnmgprm_D (Tamil Nadu)         348.52   \n",
       "14816       Sandur_WrdN1DPP_D (Karnataka)         354.40   \n",
       "\n",
       "       start_scan_to_end_scan  actual_distance_to_destination  actual_time  \\\n",
       "0                      2259.0                      824.732849       1562.0   \n",
       "1                       180.0                       73.186905        143.0   \n",
       "2                      3933.0                     1927.404297       3347.0   \n",
       "3                       100.0                       17.175274         59.0   \n",
       "4                       717.0                      127.448502        341.0   \n",
       "...                       ...                             ...          ...   \n",
       "14812                   257.0                       57.762333         83.0   \n",
       "14813                    60.0                       15.513784         21.0   \n",
       "14814                   421.0                       38.684837        282.0   \n",
       "14815                   347.0                      134.723831        264.0   \n",
       "14816                   353.0                       66.081528        275.0   \n",
       "\n",
       "       osrm_time  osrm_distance  segment_actual_time  segment_osrm_time  \\\n",
       "0          717.0     991.352295               1548.0             1008.0   \n",
       "1           68.0      85.111000                141.0               65.0   \n",
       "2         1740.0    2354.066650               3308.0             1941.0   \n",
       "3           15.0      19.680000                 59.0               16.0   \n",
       "4          117.0     146.791794                340.0              115.0   \n",
       "...          ...            ...                  ...                ...   \n",
       "14812       62.0      73.462997                 82.0               62.0   \n",
       "14813       12.0      16.088200                 21.0               11.0   \n",
       "14814       48.0      58.903702                281.0               88.0   \n",
       "14815      179.0     171.110306                258.0              221.0   \n",
       "14816       68.0      80.578705                274.0               67.0   \n",
       "\n",
       "       segment_osrm_distance  \n",
       "0                1320.473267  \n",
       "1                  84.189400  \n",
       "2                2545.267822  \n",
       "3                  19.876600  \n",
       "4                 146.791901  \n",
       "...                      ...  \n",
       "14812              64.855103  \n",
       "14813              16.088299  \n",
       "14814             104.886597  \n",
       "14815             223.532394  \n",
       "14816              80.578705  \n",
       "\n",
       "[14817 rows x 17 columns]"
      ]
     },
     "execution_count": 32,
     "metadata": {},
     "output_type": "execute_result"
    }
   ],
   "source": [
    "df2 = df1.groupby(by = 'trip_uuid', as_index = False).agg({'source_center' : 'first',\n",
    "                                                           'destination_center' : 'last',\n",
    "                                                           'data' : 'first',\n",
    "                                                           'route_type' : 'first',\n",
    "                                                           'trip_creation_time' : 'first',\n",
    "                                                           'source_name' : 'first',\n",
    "                                                           'destination_name' : 'last',\n",
    "                                                           'od_total_time' : 'sum',\n",
    "                                                           'start_scan_to_end_scan' : 'sum',\n",
    "                                                           'actual_distance_to_destination' : 'sum',\n",
    "                                                           'actual_time' : 'sum',\n",
    "                                                           'osrm_time' : 'sum',\n",
    "                                                           'osrm_distance' : 'sum',\n",
    "                                                           'segment_actual_time' : 'sum',\n",
    "                                                           'segment_osrm_time' : 'sum',\n",
    "                                                           'segment_osrm_distance' : 'sum'})\n",
    "df2"
   ]
  },
  {
   "cell_type": "markdown",
   "id": "1201611f",
   "metadata": {},
   "source": [
    "## 2.\tBuild some features to prepare the data for actual analysis. Extract features from the below fields:"
   ]
  },
  {
   "cell_type": "markdown",
   "id": "29a4bb8f",
   "metadata": {},
   "source": [
    "### \tSource Name: Split and extract features out of destination. City-place-code (State)"
   ]
  },
  {
   "cell_type": "code",
   "execution_count": 33,
   "id": "c8dda0d9",
   "metadata": {},
   "outputs": [],
   "source": [
    "def location_name_to_state(x):\n",
    "    l = x.split('(')\n",
    "    if len(l) == 1:\n",
    "        return l[0]\n",
    "    else:\n",
    "        return l[1].replace(')', \"\")"
   ]
  },
  {
   "cell_type": "code",
   "execution_count": 34,
   "id": "1688ea30",
   "metadata": {},
   "outputs": [],
   "source": [
    "def location_name_to_city(x):\n",
    "    if 'location' in x:\n",
    "        return 'unknown_city'\n",
    "    else:\n",
    "        l = x.split()[0].split('_')\n",
    "        if 'CCU' in x:\n",
    "            return 'Kolkata'\n",
    "        elif 'MAA' in x.upper():\n",
    "            return 'Chennai'\n",
    "        elif ('HBR' in x.upper()) or ('BLR' in x.upper()):\n",
    "            return 'Bengaluru'\n",
    "        elif 'FBD' in x.upper():\n",
    "            return 'Faridabad'\n",
    "        elif 'BOM' in x.upper():\n",
    "            return 'Mumbai'\n",
    "        elif 'DEL' in x.upper():\n",
    "            return 'Delhi'\n",
    "        elif 'OK' in x.upper():\n",
    "            return 'Delhi'\n",
    "        elif 'GZB' in x.upper():\n",
    "            return 'Ghaziabad'\n",
    "        elif 'GGN' in x.upper():\n",
    "            return 'Gurgaon'\n",
    "        elif 'AMD' in x.upper():\n",
    "            return 'Ahmedabad'\n",
    "        elif 'CJB' in x.upper():\n",
    "            return 'Coimbatore'\n",
    "        elif 'HYD' in x.upper():\n",
    "            return 'Hyderabad'\n",
    "        return l[0]"
   ]
  },
  {
   "cell_type": "code",
   "execution_count": 35,
   "id": "de67e152",
   "metadata": {},
   "outputs": [],
   "source": [
    "def location_name_to_place(x):\n",
    "    if 'location' in x:\n",
    "        return x\n",
    "    elif 'HBR' in x:\n",
    "        return 'HBR Layout PC'\n",
    "    else:\n",
    "        l = x.split()[0].split('_', 1)\n",
    "        if len(l) == 1:\n",
    "            return 'unknown_place'\n",
    "        else:\n",
    "            return l[1]"
   ]
  },
  {
   "cell_type": "code",
   "execution_count": 36,
   "id": "8f030d85",
   "metadata": {},
   "outputs": [
    {
     "data": {
      "text/plain": [
       "array(['Uttar Pradesh', 'Karnataka', 'Haryana', 'Maharashtra',\n",
       "       'Tamil Nadu', 'Gujarat', 'Delhi', 'Telangana', 'Rajasthan',\n",
       "       'Assam', 'Madhya Pradesh', 'West Bengal', 'Andhra Pradesh',\n",
       "       'Punjab', 'Chandigarh', 'Goa', 'Jharkhand', 'Pondicherry',\n",
       "       'Orissa', 'Uttarakhand', 'Himachal Pradesh', 'Kerala',\n",
       "       'Arunachal Pradesh', 'Bihar', 'Chhattisgarh',\n",
       "       'Dadra and Nagar Haveli', 'Jammu & Kashmir', 'Mizoram', 'Nagaland',\n",
       "       'location_9', 'location_3', 'location_2', 'location_14',\n",
       "       'location_7'], dtype=object)"
      ]
     },
     "execution_count": 36,
     "metadata": {},
     "output_type": "execute_result"
    }
   ],
   "source": [
    "df2['source_state'] = df2['source_name'].apply(location_name_to_state)\n",
    "df2['source_state'].unique()"
   ]
  },
  {
   "cell_type": "code",
   "execution_count": 37,
   "id": "1f821882",
   "metadata": {},
   "outputs": [
    {
     "name": "stdout",
     "output_type": "stream",
     "text": [
      "No of source cities : 690\n"
     ]
    },
    {
     "data": {
      "text/plain": [
       "array(['Kanpur', 'Doddablpur', 'Gurgaon', 'Mumbai', 'Bellary', 'Chennai',\n",
       "       'Bengaluru', 'Surat', 'Delhi', 'Pune', 'Faridabad', 'Shirala',\n",
       "       'Hyderabad', 'Thirumalagiri', 'Gulbarga', 'Jaipur', 'Allahabad',\n",
       "       'Guwahati', 'Narsinghpur', 'Shrirampur', 'Madakasira', 'Sonari',\n",
       "       'Dindigul', 'Jalandhar', 'Chandigarh', 'Deoli', 'Pandharpur',\n",
       "       'Kolkata', 'Bhandara', 'Kurnool', 'Bhiwandi', 'Bhatinda',\n",
       "       'RoopNagar', 'Bantwal', 'Lalru', 'Kadi', 'Shahdol', 'Gangakher',\n",
       "       'Durgapur', 'Vapi', 'Jamjodhpur', 'Jetpur', 'Mehsana', 'Jabalpur',\n",
       "       'Junagadh', 'Gundlupet', 'Mysore', 'Goa', 'Bhopal', 'Sonipat',\n",
       "       'Himmatnagar', 'Jamshedpur', 'Pondicherry', 'Anand', 'Udgir',\n",
       "       'Nadiad', 'Villupuram', 'Purulia', 'Bhubaneshwar', 'Bamangola',\n",
       "       'Tiruppattur', 'Kotdwara', 'Medak', 'Bangalore', 'Dhrangadhra',\n",
       "       'Hospet', 'Ghumarwin', 'Agra', 'Sitapur', 'Canacona', 'Bilimora',\n",
       "       'SultnBthry', 'Lucknow', 'Vellore', 'Bhuj', 'Dinhata',\n",
       "       'Margherita', 'Boisar', 'Vizag', 'Tezpur', 'Koduru', 'Tirupati',\n",
       "       'Pen', 'Ahmedabad', 'Faizabad', 'Gandhinagar', 'Anantapur',\n",
       "       'Betul', 'Panskura', 'Rasipurm', 'Sankari', 'Jorhat', 'PNQ',\n",
       "       'Srikakulam', 'Dehradun', 'Jassur', 'Sawantwadi', 'Shajapur',\n",
       "       'Ludhiana', 'GreaterThane'], dtype=object)"
      ]
     },
     "execution_count": 37,
     "metadata": {},
     "output_type": "execute_result"
    }
   ],
   "source": [
    "df2['source_city'] = df2['source_name'].apply(location_name_to_city)\n",
    "print('No of source cities :', df2['source_city'].nunique())\n",
    "df2['source_city'].unique()[:100]"
   ]
  },
  {
   "cell_type": "code",
   "execution_count": 38,
   "id": "ab5f3900",
   "metadata": {},
   "outputs": [
    {
     "data": {
      "text/plain": [
       "array(['Central_H_6', 'ChikaDPP_D', 'Bilaspur_HB', 'unknown_place', 'Dc',\n",
       "       'Poonamallee', 'Chrompet_DPC', 'HBR Layout PC', 'Central_D_12',\n",
       "       'Lajpat_IP', 'North_D_3', 'Balabhgarh_DPC', 'Central_DPP_3',\n",
       "       'Shamshbd_H', 'Xroad_D', 'Nehrugnj_I', 'Central_I_7',\n",
       "       'Central_H_1', 'Nangli_IP', 'North', 'KndliDPP_D', 'Central_D_9',\n",
       "       'DavkharRd_D', 'Bandel_D', 'RTCStand_D', 'Central_DPP_1',\n",
       "       'KGAirprt_HB', 'North_D_2', 'Central_D_1', 'DC', 'Mthurard_L',\n",
       "       'Mullanpr_DC', 'Central_DPP_2', 'RajCmplx_D', 'Beliaghata_DPC',\n",
       "       'RjnaiDPP_D', 'AbbasNgr_I', 'Mankoli_HB', 'DPC', 'Airport_H',\n",
       "       'Hub', 'Gateway_HB', 'Tathawde_H', 'ChotiHvl_DC', 'Trmltmpl_D',\n",
       "       'OnkarDPP_D', 'Mehmdpur_H', 'KaranNGR_D', 'Sohagpur_D',\n",
       "       'Chrompet_L', 'Busstand_D', 'Central_I_1', 'IndEstat_I', 'Court_D',\n",
       "       'Panchot_IP', 'Adhartal_IP', 'DumDum_DPC', 'Bomsndra_HB',\n",
       "       'Swamylyt_D', 'Yadvgiri_IP', 'Old', 'Kundli_H', 'Central_I_3',\n",
       "       'Vasanthm_I', 'Poonamallee_HB', 'VUNagar_DC', 'NlgaonRd_D',\n",
       "       'Bnnrghta_L', 'Thirumtr_IP', 'GariDPP_D', 'Jogshwri_I',\n",
       "       'KoilStrt_D', 'CotnGren_M', 'Nzbadrd_D', 'Dwaraka_D', 'Nelmngla_H',\n",
       "       'NvygRDPP_D', 'Gndhichk_D', 'Central_D_3', 'Chowk_D', 'CharRsta_D',\n",
       "       'Kollgpra_D', 'Peenya_IP', 'GndhiNgr_IP', 'Sanpada_I',\n",
       "       'WrdN4DPP_D', 'Sakinaka_RP', 'CivilHPL_D', 'OstwlEmp_D',\n",
       "       'Gajuwaka', 'Mhbhirab_D', 'MGRoad_D', 'Balajicly_I', 'BljiMrkt_D',\n",
       "       'Dankuni_HB', 'Trnsport_H', 'Rakhial', 'Memnagar', 'East_I_21',\n",
       "       'Mithakal_D'], dtype=object)"
      ]
     },
     "execution_count": 38,
     "metadata": {},
     "output_type": "execute_result"
    }
   ],
   "source": [
    "df2['source_place'] = df2['source_name'].apply(location_name_to_place)\n",
    "df2['source_place'].unique()[:100]"
   ]
  },
  {
   "cell_type": "markdown",
   "id": "5b0cbf08",
   "metadata": {},
   "source": [
    "### \tDestination Name: Split and extract features out of destination. City-place-code (State)"
   ]
  },
  {
   "cell_type": "code",
   "execution_count": 39,
   "id": "f69142db",
   "metadata": {},
   "outputs": [
    {
     "data": {
      "text/plain": [
       "0    Uttar Pradesh\n",
       "1        Karnataka\n",
       "2          Haryana\n",
       "3      Maharashtra\n",
       "4        Karnataka\n",
       "5       Tamil Nadu\n",
       "6       Tamil Nadu\n",
       "7        Karnataka\n",
       "8          Gujarat\n",
       "9            Delhi\n",
       "Name: destination_state, dtype: object"
      ]
     },
     "execution_count": 39,
     "metadata": {},
     "output_type": "execute_result"
    }
   ],
   "source": [
    "df2['destination_state'] = df2['destination_name'].apply(location_name_to_state)\n",
    "df2['destination_state'].head(10)"
   ]
  },
  {
   "cell_type": "code",
   "execution_count": 40,
   "id": "d1c146e3",
   "metadata": {},
   "outputs": [
    {
     "data": {
      "text/plain": [
       "0        Kanpur\n",
       "1    Doddablpur\n",
       "2       Gurgaon\n",
       "3        Mumbai\n",
       "4        Sandur\n",
       "Name: destination_city, dtype: object"
      ]
     },
     "execution_count": 40,
     "metadata": {},
     "output_type": "execute_result"
    }
   ],
   "source": [
    "df2['destination_city'] = df2['destination_name'].apply(location_name_to_city)\n",
    "df2['destination_city'].head()"
   ]
  },
  {
   "cell_type": "code",
   "execution_count": 41,
   "id": "99f6a9a7",
   "metadata": {},
   "outputs": [
    {
     "data": {
      "text/plain": [
       "0    Central_H_6\n",
       "1     ChikaDPP_D\n",
       "2    Bilaspur_HB\n",
       "3      MiraRd_IP\n",
       "4     WrdN1DPP_D\n",
       "Name: destination_place, dtype: object"
      ]
     },
     "execution_count": 41,
     "metadata": {},
     "output_type": "execute_result"
    }
   ],
   "source": [
    "df2['destination_place'] = df2['destination_name'].apply(location_name_to_place)\n",
    "df2['destination_place'].head()"
   ]
  },
  {
   "cell_type": "markdown",
   "id": "460f6047",
   "metadata": {},
   "source": [
    "### \tTrip_creation_time: Extract features like month, year and day etc "
   ]
  },
  {
   "cell_type": "code",
   "execution_count": 42,
   "id": "22ced73e",
   "metadata": {},
   "outputs": [
    {
     "data": {
      "text/plain": [
       "0   2018-09-12\n",
       "1   2018-09-12\n",
       "2   2018-09-12\n",
       "3   2018-09-12\n",
       "4   2018-09-12\n",
       "Name: trip_creation_date, dtype: datetime64[ns]"
      ]
     },
     "execution_count": 42,
     "metadata": {},
     "output_type": "execute_result"
    }
   ],
   "source": [
    "df2['trip_creation_date'] = pd.to_datetime(df2['trip_creation_time'].dt.date)\n",
    "df2['trip_creation_date'].head()"
   ]
  },
  {
   "cell_type": "code",
   "execution_count": 43,
   "id": "c9a8c9df",
   "metadata": {},
   "outputs": [
    {
     "data": {
      "text/plain": [
       "0    12\n",
       "1    12\n",
       "2    12\n",
       "3    12\n",
       "4    12\n",
       "Name: trip_creation_day, dtype: int8"
      ]
     },
     "execution_count": 43,
     "metadata": {},
     "output_type": "execute_result"
    }
   ],
   "source": [
    "df2['trip_creation_day'] = df2['trip_creation_time'].dt.day\n",
    "df2['trip_creation_day'] = df2['trip_creation_day'].astype('int8')\n",
    "df2['trip_creation_day'].head()"
   ]
  },
  {
   "cell_type": "code",
   "execution_count": 44,
   "id": "63a3ab17",
   "metadata": {},
   "outputs": [
    {
     "data": {
      "text/plain": [
       "0    9\n",
       "1    9\n",
       "2    9\n",
       "3    9\n",
       "4    9\n",
       "Name: trip_creation_month, dtype: int8"
      ]
     },
     "execution_count": 44,
     "metadata": {},
     "output_type": "execute_result"
    }
   ],
   "source": [
    "df2['trip_creation_month'] = df2['trip_creation_time'].dt.month\n",
    "df2['trip_creation_month'] = df2['trip_creation_month'].astype('int8')\n",
    "df2['trip_creation_month'].head()"
   ]
  },
  {
   "cell_type": "code",
   "execution_count": 45,
   "id": "90e57801",
   "metadata": {},
   "outputs": [
    {
     "data": {
      "text/plain": [
       "0    2018\n",
       "1    2018\n",
       "2    2018\n",
       "3    2018\n",
       "4    2018\n",
       "Name: trip_creation_year, dtype: int16"
      ]
     },
     "execution_count": 45,
     "metadata": {},
     "output_type": "execute_result"
    }
   ],
   "source": [
    "df2['trip_creation_year'] = df2['trip_creation_time'].dt.year\n",
    "df2['trip_creation_year'] = df2['trip_creation_year'].astype('int16')\n",
    "df2['trip_creation_year'].head()"
   ]
  },
  {
   "cell_type": "code",
   "execution_count": 46,
   "id": "4e7ebb7c",
   "metadata": {},
   "outputs": [
    {
     "data": {
      "text/plain": [
       "0    37\n",
       "1    37\n",
       "2    37\n",
       "3    37\n",
       "4    37\n",
       "Name: trip_creation_week, dtype: int8"
      ]
     },
     "execution_count": 46,
     "metadata": {},
     "output_type": "execute_result"
    }
   ],
   "source": [
    "df2['trip_creation_week'] = df2['trip_creation_time'].dt.isocalendar().week\n",
    "df2['trip_creation_week'] = df2['trip_creation_week'].astype('int8')\n",
    "df2['trip_creation_week'].head()"
   ]
  },
  {
   "cell_type": "code",
   "execution_count": 47,
   "id": "bd89f8eb",
   "metadata": {},
   "outputs": [
    {
     "data": {
      "text/plain": [
       "0    0\n",
       "1    0\n",
       "2    0\n",
       "3    0\n",
       "4    0\n",
       "Name: trip_creation_hour, dtype: int8"
      ]
     },
     "execution_count": 47,
     "metadata": {},
     "output_type": "execute_result"
    }
   ],
   "source": [
    "df2['trip_creation_hour'] = df2['trip_creation_time'].dt.hour\n",
    "df2['trip_creation_hour'] = df2['trip_creation_hour'].astype('int8')\n",
    "df2['trip_creation_hour'].head()"
   ]
  },
  {
   "cell_type": "markdown",
   "id": "ce152f62",
   "metadata": {},
   "source": [
    "##### Finding the structure of data after data cleaning "
   ]
  },
  {
   "cell_type": "code",
   "execution_count": 48,
   "id": "9b9ada47",
   "metadata": {},
   "outputs": [
    {
     "data": {
      "text/plain": [
       "(14817, 29)"
      ]
     },
     "execution_count": 48,
     "metadata": {},
     "output_type": "execute_result"
    }
   ],
   "source": [
    "df2.shape"
   ]
  },
  {
   "cell_type": "code",
   "execution_count": 49,
   "id": "537560da",
   "metadata": {},
   "outputs": [
    {
     "name": "stdout",
     "output_type": "stream",
     "text": [
      "<class 'pandas.core.frame.DataFrame'>\n",
      "RangeIndex: 14817 entries, 0 to 14816\n",
      "Data columns (total 29 columns):\n",
      " #   Column                          Non-Null Count  Dtype         \n",
      "---  ------                          --------------  -----         \n",
      " 0   trip_uuid                       14817 non-null  object        \n",
      " 1   source_center                   14817 non-null  object        \n",
      " 2   destination_center              14817 non-null  object        \n",
      " 3   data                            14817 non-null  category      \n",
      " 4   route_type                      14817 non-null  category      \n",
      " 5   trip_creation_time              14817 non-null  datetime64[ns]\n",
      " 6   source_name                     14817 non-null  object        \n",
      " 7   destination_name                14817 non-null  object        \n",
      " 8   od_total_time                   14817 non-null  float64       \n",
      " 9   start_scan_to_end_scan          14817 non-null  float64       \n",
      " 10  actual_distance_to_destination  14817 non-null  float32       \n",
      " 11  actual_time                     14817 non-null  float32       \n",
      " 12  osrm_time                       14817 non-null  float32       \n",
      " 13  osrm_distance                   14817 non-null  float32       \n",
      " 14  segment_actual_time             14817 non-null  float32       \n",
      " 15  segment_osrm_time               14817 non-null  float32       \n",
      " 16  segment_osrm_distance           14817 non-null  float32       \n",
      " 17  source_state                    14817 non-null  object        \n",
      " 18  source_city                     14817 non-null  object        \n",
      " 19  source_place                    14817 non-null  object        \n",
      " 20  destination_state               14817 non-null  object        \n",
      " 21  destination_city                14817 non-null  object        \n",
      " 22  destination_place               14817 non-null  object        \n",
      " 23  trip_creation_date              14817 non-null  datetime64[ns]\n",
      " 24  trip_creation_day               14817 non-null  int8          \n",
      " 25  trip_creation_month             14817 non-null  int8          \n",
      " 26  trip_creation_year              14817 non-null  int16         \n",
      " 27  trip_creation_week              14817 non-null  int8          \n",
      " 28  trip_creation_hour              14817 non-null  int8          \n",
      "dtypes: category(2), datetime64[ns](2), float32(7), float64(2), int16(1), int8(4), object(11)\n",
      "memory usage: 2.2+ MB\n"
     ]
    }
   ],
   "source": [
    "df2.info()"
   ]
  },
  {
   "cell_type": "code",
   "execution_count": 50,
   "id": "3607a71c",
   "metadata": {},
   "outputs": [
    {
     "data": {
      "text/html": [
       "<div>\n",
       "<style scoped>\n",
       "    .dataframe tbody tr th:only-of-type {\n",
       "        vertical-align: middle;\n",
       "    }\n",
       "\n",
       "    .dataframe tbody tr th {\n",
       "        vertical-align: top;\n",
       "    }\n",
       "\n",
       "    .dataframe thead th {\n",
       "        text-align: right;\n",
       "    }\n",
       "</style>\n",
       "<table border=\"1\" class=\"dataframe\">\n",
       "  <thead>\n",
       "    <tr style=\"text-align: right;\">\n",
       "      <th></th>\n",
       "      <th>count</th>\n",
       "      <th>mean</th>\n",
       "      <th>std</th>\n",
       "      <th>min</th>\n",
       "      <th>25%</th>\n",
       "      <th>50%</th>\n",
       "      <th>75%</th>\n",
       "      <th>max</th>\n",
       "    </tr>\n",
       "  </thead>\n",
       "  <tbody>\n",
       "    <tr>\n",
       "      <th>od_total_time</th>\n",
       "      <td>14817.0</td>\n",
       "      <td>531.697630</td>\n",
       "      <td>658.868223</td>\n",
       "      <td>23.460000</td>\n",
       "      <td>149.930000</td>\n",
       "      <td>280.770000</td>\n",
       "      <td>638.200000</td>\n",
       "      <td>7898.550000</td>\n",
       "    </tr>\n",
       "    <tr>\n",
       "      <th>start_scan_to_end_scan</th>\n",
       "      <td>14817.0</td>\n",
       "      <td>530.810016</td>\n",
       "      <td>658.705957</td>\n",
       "      <td>23.000000</td>\n",
       "      <td>149.000000</td>\n",
       "      <td>280.000000</td>\n",
       "      <td>637.000000</td>\n",
       "      <td>7898.000000</td>\n",
       "    </tr>\n",
       "    <tr>\n",
       "      <th>actual_distance_to_destination</th>\n",
       "      <td>14817.0</td>\n",
       "      <td>164.477829</td>\n",
       "      <td>305.388123</td>\n",
       "      <td>9.002461</td>\n",
       "      <td>22.837238</td>\n",
       "      <td>48.474072</td>\n",
       "      <td>164.583206</td>\n",
       "      <td>2186.531738</td>\n",
       "    </tr>\n",
       "    <tr>\n",
       "      <th>actual_time</th>\n",
       "      <td>14817.0</td>\n",
       "      <td>357.143768</td>\n",
       "      <td>561.395020</td>\n",
       "      <td>9.000000</td>\n",
       "      <td>67.000000</td>\n",
       "      <td>149.000000</td>\n",
       "      <td>370.000000</td>\n",
       "      <td>6265.000000</td>\n",
       "    </tr>\n",
       "    <tr>\n",
       "      <th>osrm_time</th>\n",
       "      <td>14817.0</td>\n",
       "      <td>161.384018</td>\n",
       "      <td>271.362549</td>\n",
       "      <td>6.000000</td>\n",
       "      <td>29.000000</td>\n",
       "      <td>60.000000</td>\n",
       "      <td>168.000000</td>\n",
       "      <td>2032.000000</td>\n",
       "    </tr>\n",
       "    <tr>\n",
       "      <th>osrm_distance</th>\n",
       "      <td>14817.0</td>\n",
       "      <td>204.344711</td>\n",
       "      <td>370.395508</td>\n",
       "      <td>9.072900</td>\n",
       "      <td>30.819201</td>\n",
       "      <td>65.618805</td>\n",
       "      <td>208.475006</td>\n",
       "      <td>2840.081055</td>\n",
       "    </tr>\n",
       "    <tr>\n",
       "      <th>segment_actual_time</th>\n",
       "      <td>14817.0</td>\n",
       "      <td>353.892273</td>\n",
       "      <td>556.246826</td>\n",
       "      <td>9.000000</td>\n",
       "      <td>66.000000</td>\n",
       "      <td>147.000000</td>\n",
       "      <td>367.000000</td>\n",
       "      <td>6230.000000</td>\n",
       "    </tr>\n",
       "    <tr>\n",
       "      <th>segment_osrm_time</th>\n",
       "      <td>14817.0</td>\n",
       "      <td>180.949783</td>\n",
       "      <td>314.541412</td>\n",
       "      <td>6.000000</td>\n",
       "      <td>31.000000</td>\n",
       "      <td>65.000000</td>\n",
       "      <td>185.000000</td>\n",
       "      <td>2564.000000</td>\n",
       "    </tr>\n",
       "    <tr>\n",
       "      <th>segment_osrm_distance</th>\n",
       "      <td>14817.0</td>\n",
       "      <td>223.201157</td>\n",
       "      <td>416.628326</td>\n",
       "      <td>9.072900</td>\n",
       "      <td>32.654499</td>\n",
       "      <td>70.154404</td>\n",
       "      <td>218.802399</td>\n",
       "      <td>3523.632324</td>\n",
       "    </tr>\n",
       "    <tr>\n",
       "      <th>trip_creation_day</th>\n",
       "      <td>14817.0</td>\n",
       "      <td>18.370790</td>\n",
       "      <td>7.893275</td>\n",
       "      <td>1.000000</td>\n",
       "      <td>14.000000</td>\n",
       "      <td>19.000000</td>\n",
       "      <td>25.000000</td>\n",
       "      <td>30.000000</td>\n",
       "    </tr>\n",
       "    <tr>\n",
       "      <th>trip_creation_month</th>\n",
       "      <td>14817.0</td>\n",
       "      <td>9.120672</td>\n",
       "      <td>0.325757</td>\n",
       "      <td>9.000000</td>\n",
       "      <td>9.000000</td>\n",
       "      <td>9.000000</td>\n",
       "      <td>9.000000</td>\n",
       "      <td>10.000000</td>\n",
       "    </tr>\n",
       "    <tr>\n",
       "      <th>trip_creation_year</th>\n",
       "      <td>14817.0</td>\n",
       "      <td>2018.000000</td>\n",
       "      <td>0.000000</td>\n",
       "      <td>2018.000000</td>\n",
       "      <td>2018.000000</td>\n",
       "      <td>2018.000000</td>\n",
       "      <td>2018.000000</td>\n",
       "      <td>2018.000000</td>\n",
       "    </tr>\n",
       "    <tr>\n",
       "      <th>trip_creation_week</th>\n",
       "      <td>14817.0</td>\n",
       "      <td>38.295944</td>\n",
       "      <td>0.967872</td>\n",
       "      <td>37.000000</td>\n",
       "      <td>38.000000</td>\n",
       "      <td>38.000000</td>\n",
       "      <td>39.000000</td>\n",
       "      <td>40.000000</td>\n",
       "    </tr>\n",
       "    <tr>\n",
       "      <th>trip_creation_hour</th>\n",
       "      <td>14817.0</td>\n",
       "      <td>12.449821</td>\n",
       "      <td>7.986553</td>\n",
       "      <td>0.000000</td>\n",
       "      <td>4.000000</td>\n",
       "      <td>14.000000</td>\n",
       "      <td>20.000000</td>\n",
       "      <td>23.000000</td>\n",
       "    </tr>\n",
       "  </tbody>\n",
       "</table>\n",
       "</div>"
      ],
      "text/plain": [
       "                                  count         mean         std          min  \\\n",
       "od_total_time                   14817.0   531.697630  658.868223    23.460000   \n",
       "start_scan_to_end_scan          14817.0   530.810016  658.705957    23.000000   \n",
       "actual_distance_to_destination  14817.0   164.477829  305.388123     9.002461   \n",
       "actual_time                     14817.0   357.143768  561.395020     9.000000   \n",
       "osrm_time                       14817.0   161.384018  271.362549     6.000000   \n",
       "osrm_distance                   14817.0   204.344711  370.395508     9.072900   \n",
       "segment_actual_time             14817.0   353.892273  556.246826     9.000000   \n",
       "segment_osrm_time               14817.0   180.949783  314.541412     6.000000   \n",
       "segment_osrm_distance           14817.0   223.201157  416.628326     9.072900   \n",
       "trip_creation_day               14817.0    18.370790    7.893275     1.000000   \n",
       "trip_creation_month             14817.0     9.120672    0.325757     9.000000   \n",
       "trip_creation_year              14817.0  2018.000000    0.000000  2018.000000   \n",
       "trip_creation_week              14817.0    38.295944    0.967872    37.000000   \n",
       "trip_creation_hour              14817.0    12.449821    7.986553     0.000000   \n",
       "\n",
       "                                        25%          50%          75%  \\\n",
       "od_total_time                    149.930000   280.770000   638.200000   \n",
       "start_scan_to_end_scan           149.000000   280.000000   637.000000   \n",
       "actual_distance_to_destination    22.837238    48.474072   164.583206   \n",
       "actual_time                       67.000000   149.000000   370.000000   \n",
       "osrm_time                         29.000000    60.000000   168.000000   \n",
       "osrm_distance                     30.819201    65.618805   208.475006   \n",
       "segment_actual_time               66.000000   147.000000   367.000000   \n",
       "segment_osrm_time                 31.000000    65.000000   185.000000   \n",
       "segment_osrm_distance             32.654499    70.154404   218.802399   \n",
       "trip_creation_day                 14.000000    19.000000    25.000000   \n",
       "trip_creation_month                9.000000     9.000000     9.000000   \n",
       "trip_creation_year              2018.000000  2018.000000  2018.000000   \n",
       "trip_creation_week                38.000000    38.000000    39.000000   \n",
       "trip_creation_hour                 4.000000    14.000000    20.000000   \n",
       "\n",
       "                                        max  \n",
       "od_total_time                   7898.550000  \n",
       "start_scan_to_end_scan          7898.000000  \n",
       "actual_distance_to_destination  2186.531738  \n",
       "actual_time                     6265.000000  \n",
       "osrm_time                       2032.000000  \n",
       "osrm_distance                   2840.081055  \n",
       "segment_actual_time             6230.000000  \n",
       "segment_osrm_time               2564.000000  \n",
       "segment_osrm_distance           3523.632324  \n",
       "trip_creation_day                 30.000000  \n",
       "trip_creation_month               10.000000  \n",
       "trip_creation_year              2018.000000  \n",
       "trip_creation_week                40.000000  \n",
       "trip_creation_hour                23.000000  "
      ]
     },
     "execution_count": 50,
     "metadata": {},
     "output_type": "execute_result"
    }
   ],
   "source": [
    "df2.describe().T"
   ]
  },
  {
   "cell_type": "code",
   "execution_count": 51,
   "id": "9fba31fb",
   "metadata": {},
   "outputs": [
    {
     "data": {
      "text/html": [
       "<div>\n",
       "<style scoped>\n",
       "    .dataframe tbody tr th:only-of-type {\n",
       "        vertical-align: middle;\n",
       "    }\n",
       "\n",
       "    .dataframe tbody tr th {\n",
       "        vertical-align: top;\n",
       "    }\n",
       "\n",
       "    .dataframe thead th {\n",
       "        text-align: right;\n",
       "    }\n",
       "</style>\n",
       "<table border=\"1\" class=\"dataframe\">\n",
       "  <thead>\n",
       "    <tr style=\"text-align: right;\">\n",
       "      <th></th>\n",
       "      <th>count</th>\n",
       "      <th>unique</th>\n",
       "      <th>top</th>\n",
       "      <th>freq</th>\n",
       "    </tr>\n",
       "  </thead>\n",
       "  <tbody>\n",
       "    <tr>\n",
       "      <th>trip_uuid</th>\n",
       "      <td>14817</td>\n",
       "      <td>14817</td>\n",
       "      <td>trip-153671041653548748</td>\n",
       "      <td>1</td>\n",
       "    </tr>\n",
       "    <tr>\n",
       "      <th>source_center</th>\n",
       "      <td>14817</td>\n",
       "      <td>938</td>\n",
       "      <td>IND000000ACB</td>\n",
       "      <td>1063</td>\n",
       "    </tr>\n",
       "    <tr>\n",
       "      <th>destination_center</th>\n",
       "      <td>14817</td>\n",
       "      <td>1042</td>\n",
       "      <td>IND000000ACB</td>\n",
       "      <td>821</td>\n",
       "    </tr>\n",
       "    <tr>\n",
       "      <th>source_name</th>\n",
       "      <td>14817</td>\n",
       "      <td>938</td>\n",
       "      <td>Gurgaon_Bilaspur_HB (Haryana)</td>\n",
       "      <td>1063</td>\n",
       "    </tr>\n",
       "    <tr>\n",
       "      <th>destination_name</th>\n",
       "      <td>14817</td>\n",
       "      <td>1042</td>\n",
       "      <td>Gurgaon_Bilaspur_HB (Haryana)</td>\n",
       "      <td>821</td>\n",
       "    </tr>\n",
       "    <tr>\n",
       "      <th>source_state</th>\n",
       "      <td>14817</td>\n",
       "      <td>34</td>\n",
       "      <td>Maharashtra</td>\n",
       "      <td>2714</td>\n",
       "    </tr>\n",
       "    <tr>\n",
       "      <th>source_city</th>\n",
       "      <td>14817</td>\n",
       "      <td>690</td>\n",
       "      <td>Mumbai</td>\n",
       "      <td>1442</td>\n",
       "    </tr>\n",
       "    <tr>\n",
       "      <th>source_place</th>\n",
       "      <td>14817</td>\n",
       "      <td>761</td>\n",
       "      <td>Bilaspur_HB</td>\n",
       "      <td>1063</td>\n",
       "    </tr>\n",
       "    <tr>\n",
       "      <th>destination_state</th>\n",
       "      <td>14817</td>\n",
       "      <td>39</td>\n",
       "      <td>Maharashtra</td>\n",
       "      <td>2561</td>\n",
       "    </tr>\n",
       "    <tr>\n",
       "      <th>destination_city</th>\n",
       "      <td>14817</td>\n",
       "      <td>806</td>\n",
       "      <td>Mumbai</td>\n",
       "      <td>1548</td>\n",
       "    </tr>\n",
       "    <tr>\n",
       "      <th>destination_place</th>\n",
       "      <td>14817</td>\n",
       "      <td>850</td>\n",
       "      <td>Bilaspur_HB</td>\n",
       "      <td>821</td>\n",
       "    </tr>\n",
       "  </tbody>\n",
       "</table>\n",
       "</div>"
      ],
      "text/plain": [
       "                    count unique                            top  freq\n",
       "trip_uuid           14817  14817        trip-153671041653548748     1\n",
       "source_center       14817    938                   IND000000ACB  1063\n",
       "destination_center  14817   1042                   IND000000ACB   821\n",
       "source_name         14817    938  Gurgaon_Bilaspur_HB (Haryana)  1063\n",
       "destination_name    14817   1042  Gurgaon_Bilaspur_HB (Haryana)   821\n",
       "source_state        14817     34                    Maharashtra  2714\n",
       "source_city         14817    690                         Mumbai  1442\n",
       "source_place        14817    761                    Bilaspur_HB  1063\n",
       "destination_state   14817     39                    Maharashtra  2561\n",
       "destination_city    14817    806                         Mumbai  1548\n",
       "destination_place   14817    850                    Bilaspur_HB   821"
      ]
     },
     "execution_count": 51,
     "metadata": {},
     "output_type": "execute_result"
    }
   ],
   "source": [
    "df2.describe(include = object).T"
   ]
  },
  {
   "cell_type": "markdown",
   "id": "f75903f8",
   "metadata": {},
   "source": [
    "###### I am intrested to know how many trips are created on the hourly basis  "
   ]
  },
  {
   "cell_type": "code",
   "execution_count": 52,
   "id": "0902b8da",
   "metadata": {},
   "outputs": [
    {
     "data": {
      "text/plain": [
       "array([ 0,  1,  2,  3,  4,  5,  6,  7,  8,  9, 10, 11, 12, 13, 14, 15, 16,\n",
       "       17, 18, 19, 20, 21, 22, 23], dtype=int8)"
      ]
     },
     "execution_count": 52,
     "metadata": {},
     "output_type": "execute_result"
    }
   ],
   "source": [
    "df2['trip_creation_hour'].unique()"
   ]
  },
  {
   "cell_type": "code",
   "execution_count": 53,
   "id": "a50e959e",
   "metadata": {},
   "outputs": [
    {
     "data": {
      "text/html": [
       "<div>\n",
       "<style scoped>\n",
       "    .dataframe tbody tr th:only-of-type {\n",
       "        vertical-align: middle;\n",
       "    }\n",
       "\n",
       "    .dataframe tbody tr th {\n",
       "        vertical-align: top;\n",
       "    }\n",
       "\n",
       "    .dataframe thead th {\n",
       "        text-align: right;\n",
       "    }\n",
       "</style>\n",
       "<table border=\"1\" class=\"dataframe\">\n",
       "  <thead>\n",
       "    <tr style=\"text-align: right;\">\n",
       "      <th></th>\n",
       "      <th>trip_creation_hour</th>\n",
       "      <th>trip_uuid</th>\n",
       "    </tr>\n",
       "  </thead>\n",
       "  <tbody>\n",
       "    <tr>\n",
       "      <th>0</th>\n",
       "      <td>0</td>\n",
       "      <td>994</td>\n",
       "    </tr>\n",
       "    <tr>\n",
       "      <th>1</th>\n",
       "      <td>1</td>\n",
       "      <td>750</td>\n",
       "    </tr>\n",
       "    <tr>\n",
       "      <th>2</th>\n",
       "      <td>2</td>\n",
       "      <td>702</td>\n",
       "    </tr>\n",
       "    <tr>\n",
       "      <th>3</th>\n",
       "      <td>3</td>\n",
       "      <td>652</td>\n",
       "    </tr>\n",
       "    <tr>\n",
       "      <th>4</th>\n",
       "      <td>4</td>\n",
       "      <td>636</td>\n",
       "    </tr>\n",
       "  </tbody>\n",
       "</table>\n",
       "</div>"
      ],
      "text/plain": [
       "   trip_creation_hour  trip_uuid\n",
       "0                   0        994\n",
       "1                   1        750\n",
       "2                   2        702\n",
       "3                   3        652\n",
       "4                   4        636"
      ]
     },
     "execution_count": 53,
     "metadata": {},
     "output_type": "execute_result"
    }
   ],
   "source": [
    "df_hour = df2.groupby(by = 'trip_creation_hour')['trip_uuid'].count().to_frame().reset_index()\n",
    "df_hour.head()"
   ]
  },
  {
   "cell_type": "code",
   "execution_count": 54,
   "id": "5e5c8091",
   "metadata": {},
   "outputs": [
    {
     "data": {
      "text/plain": [
       "[]"
      ]
     },
     "execution_count": 54,
     "metadata": {},
     "output_type": "execute_result"
    },
    {
     "data": {
      "image/png": "[encoded data removed]",
      "text/plain": [
       "<Figure size 1200x600 with 1 Axes>"
      ]
     },
     "metadata": {},
     "output_type": "display_data"
    }
   ],
   "source": [
    "plt.figure(figsize = (12, 6))\n",
    "sns.lineplot(data = df_hour, \n",
    "             x = df_hour['trip_creation_hour'], \n",
    "             y = df_hour['trip_uuid'], \n",
    "             markers = '*')\n",
    "plt.xticks(np.arange(0,24))\n",
    "plt.grid('both')\n",
    "plt.plot()"
   ]
  },
  {
   "cell_type": "markdown",
   "id": "f047a9f6",
   "metadata": {},
   "source": [
    " - It can be inferred from the above plot that the number of trips start increasing after the noon, becomes maximum at 10 P.M and then start decreasing."
   ]
  },
  {
   "cell_type": "markdown",
   "id": "28f7030e",
   "metadata": {},
   "source": [
    "###### I am intrested to know how many trips are created for different days of the month"
   ]
  },
  {
   "cell_type": "code",
   "execution_count": 55,
   "id": "1697dc3b",
   "metadata": {},
   "outputs": [
    {
     "data": {
      "text/plain": [
       "array([12, 13, 14, 15, 16, 17, 18, 19, 20, 21, 22, 23, 24, 25, 26, 27, 28,\n",
       "       29, 30,  1,  2,  3], dtype=int8)"
      ]
     },
     "execution_count": 55,
     "metadata": {},
     "output_type": "execute_result"
    }
   ],
   "source": [
    "df2['trip_creation_day'].unique()"
   ]
  },
  {
   "cell_type": "code",
   "execution_count": 56,
   "id": "9f1140cd",
   "metadata": {},
   "outputs": [
    {
     "data": {
      "text/html": [
       "<div>\n",
       "<style scoped>\n",
       "    .dataframe tbody tr th:only-of-type {\n",
       "        vertical-align: middle;\n",
       "    }\n",
       "\n",
       "    .dataframe tbody tr th {\n",
       "        vertical-align: top;\n",
       "    }\n",
       "\n",
       "    .dataframe thead th {\n",
       "        text-align: right;\n",
       "    }\n",
       "</style>\n",
       "<table border=\"1\" class=\"dataframe\">\n",
       "  <thead>\n",
       "    <tr style=\"text-align: right;\">\n",
       "      <th></th>\n",
       "      <th>trip_creation_day</th>\n",
       "      <th>trip_uuid</th>\n",
       "    </tr>\n",
       "  </thead>\n",
       "  <tbody>\n",
       "    <tr>\n",
       "      <th>0</th>\n",
       "      <td>1</td>\n",
       "      <td>605</td>\n",
       "    </tr>\n",
       "    <tr>\n",
       "      <th>1</th>\n",
       "      <td>2</td>\n",
       "      <td>552</td>\n",
       "    </tr>\n",
       "    <tr>\n",
       "      <th>2</th>\n",
       "      <td>3</td>\n",
       "      <td>631</td>\n",
       "    </tr>\n",
       "    <tr>\n",
       "      <th>3</th>\n",
       "      <td>12</td>\n",
       "      <td>747</td>\n",
       "    </tr>\n",
       "    <tr>\n",
       "      <th>4</th>\n",
       "      <td>13</td>\n",
       "      <td>750</td>\n",
       "    </tr>\n",
       "  </tbody>\n",
       "</table>\n",
       "</div>"
      ],
      "text/plain": [
       "   trip_creation_day  trip_uuid\n",
       "0                  1        605\n",
       "1                  2        552\n",
       "2                  3        631\n",
       "3                 12        747\n",
       "4                 13        750"
      ]
     },
     "execution_count": 56,
     "metadata": {},
     "output_type": "execute_result"
    }
   ],
   "source": [
    "df_day = df2.groupby(by = 'trip_creation_day')['trip_uuid'].count().to_frame().reset_index()\n",
    "df_day.head()"
   ]
  },
  {
   "cell_type": "code",
   "execution_count": 57,
   "id": "1e3f745c",
   "metadata": {},
   "outputs": [
    {
     "data": {
      "text/plain": [
       "[]"
      ]
     },
     "execution_count": 57,
     "metadata": {},
     "output_type": "execute_result"
    },
    {
     "data": {
      "image/png": "[encoded data removed]",
      "text/plain": [
       "<Figure size 1500x600 with 1 Axes>"
      ]
     },
     "metadata": {},
     "output_type": "display_data"
    }
   ],
   "source": [
    "plt.figure(figsize = (15, 6))\n",
    "sns.lineplot(data = df_day, \n",
    "             x = df_day['trip_creation_day'], \n",
    "             y = df_day['trip_uuid'], \n",
    "             markers = 'o')\n",
    "plt.xticks(np.arange(1, 32))\n",
    "plt.grid('both')\n",
    "plt.plot()"
   ]
  },
  {
   "cell_type": "markdown",
   "id": "50d5c607",
   "metadata": {},
   "source": [
    " - It can be inferred from the above plot that most of the trips are created in the mid of the month.\n",
    " - That means customers usually make more orders in the mid of the month."
   ]
  },
  {
   "cell_type": "markdown",
   "id": "c3b7ac39",
   "metadata": {},
   "source": [
    "###### I am intrested to know how many trips are created for different weeks "
   ]
  },
  {
   "cell_type": "code",
   "execution_count": 58,
   "id": "9f092ae9",
   "metadata": {},
   "outputs": [
    {
     "data": {
      "text/plain": [
       "array([37, 38, 39, 40], dtype=int8)"
      ]
     },
     "execution_count": 58,
     "metadata": {},
     "output_type": "execute_result"
    }
   ],
   "source": [
    "df2['trip_creation_week'].unique()"
   ]
  },
  {
   "cell_type": "code",
   "execution_count": 59,
   "id": "c90b5509",
   "metadata": {},
   "outputs": [
    {
     "data": {
      "text/html": [
       "<div>\n",
       "<style scoped>\n",
       "    .dataframe tbody tr th:only-of-type {\n",
       "        vertical-align: middle;\n",
       "    }\n",
       "\n",
       "    .dataframe tbody tr th {\n",
       "        vertical-align: top;\n",
       "    }\n",
       "\n",
       "    .dataframe thead th {\n",
       "        text-align: right;\n",
       "    }\n",
       "</style>\n",
       "<table border=\"1\" class=\"dataframe\">\n",
       "  <thead>\n",
       "    <tr style=\"text-align: right;\">\n",
       "      <th></th>\n",
       "      <th>trip_creation_week</th>\n",
       "      <th>trip_uuid</th>\n",
       "    </tr>\n",
       "  </thead>\n",
       "  <tbody>\n",
       "    <tr>\n",
       "      <th>0</th>\n",
       "      <td>37</td>\n",
       "      <td>3608</td>\n",
       "    </tr>\n",
       "    <tr>\n",
       "      <th>1</th>\n",
       "      <td>38</td>\n",
       "      <td>5004</td>\n",
       "    </tr>\n",
       "    <tr>\n",
       "      <th>2</th>\n",
       "      <td>39</td>\n",
       "      <td>4417</td>\n",
       "    </tr>\n",
       "    <tr>\n",
       "      <th>3</th>\n",
       "      <td>40</td>\n",
       "      <td>1788</td>\n",
       "    </tr>\n",
       "  </tbody>\n",
       "</table>\n",
       "</div>"
      ],
      "text/plain": [
       "   trip_creation_week  trip_uuid\n",
       "0                  37       3608\n",
       "1                  38       5004\n",
       "2                  39       4417\n",
       "3                  40       1788"
      ]
     },
     "execution_count": 59,
     "metadata": {},
     "output_type": "execute_result"
    }
   ],
   "source": [
    "df_week = df2.groupby(by = 'trip_creation_week')['trip_uuid'].count().to_frame().reset_index()\n",
    "df_week.head()"
   ]
  },
  {
   "cell_type": "code",
   "execution_count": 60,
   "id": "df21e6c2",
   "metadata": {},
   "outputs": [
    {
     "data": {
      "text/plain": [
       "[]"
      ]
     },
     "execution_count": 60,
     "metadata": {},
     "output_type": "execute_result"
    },
    {
     "data": {
      "image/png": "[encoded data removed]",
      "text/plain": [
       "<Figure size 1200x600 with 1 Axes>"
      ]
     },
     "metadata": {},
     "output_type": "display_data"
    }
   ],
   "source": [
    "plt.figure(figsize = (12, 6))\n",
    "sns.lineplot(data = df_week, \n",
    "             x = df_week['trip_creation_week'], \n",
    "             y = df_week['trip_uuid'], \n",
    "             markers = 'o')\n",
    "plt.grid('both')\n",
    "plt.plot()"
   ]
  },
  {
   "cell_type": "markdown",
   "id": "d38eb2f5",
   "metadata": {},
   "source": [
    " - It can be inferred from the above plot that most of the trips are created in the 38th week."
   ]
  },
  {
   "cell_type": "markdown",
   "id": "18a38f8c",
   "metadata": {},
   "source": [
    "###### I am intrested to know how many trips are created in the given two months "
   ]
  },
  {
   "cell_type": "code",
   "execution_count": 61,
   "id": "df219220",
   "metadata": {},
   "outputs": [
    {
     "data": {
      "text/html": [
       "<div>\n",
       "<style scoped>\n",
       "    .dataframe tbody tr th:only-of-type {\n",
       "        vertical-align: middle;\n",
       "    }\n",
       "\n",
       "    .dataframe tbody tr th {\n",
       "        vertical-align: top;\n",
       "    }\n",
       "\n",
       "    .dataframe thead th {\n",
       "        text-align: right;\n",
       "    }\n",
       "</style>\n",
       "<table border=\"1\" class=\"dataframe\">\n",
       "  <thead>\n",
       "    <tr style=\"text-align: right;\">\n",
       "      <th></th>\n",
       "      <th>trip_creation_month</th>\n",
       "      <th>trip_uuid</th>\n",
       "      <th>perc</th>\n",
       "    </tr>\n",
       "  </thead>\n",
       "  <tbody>\n",
       "    <tr>\n",
       "      <th>0</th>\n",
       "      <td>9</td>\n",
       "      <td>13029</td>\n",
       "      <td>87.93</td>\n",
       "    </tr>\n",
       "    <tr>\n",
       "      <th>1</th>\n",
       "      <td>10</td>\n",
       "      <td>1788</td>\n",
       "      <td>12.07</td>\n",
       "    </tr>\n",
       "  </tbody>\n",
       "</table>\n",
       "</div>"
      ],
      "text/plain": [
       "   trip_creation_month  trip_uuid   perc\n",
       "0                    9      13029  87.93\n",
       "1                   10       1788  12.07"
      ]
     },
     "execution_count": 61,
     "metadata": {},
     "output_type": "execute_result"
    }
   ],
   "source": [
    "df_month = df2.groupby(by = 'trip_creation_month')['trip_uuid'].count().to_frame().reset_index()\n",
    "df_month['perc'] = np.round(df_month['trip_uuid'] * 100/ df_month['trip_uuid'].sum(), 2)\n",
    "df_month.head()"
   ]
  },
  {
   "cell_type": "code",
   "execution_count": 62,
   "id": "5f6a7170",
   "metadata": {},
   "outputs": [
    {
     "data": {
      "text/plain": [
       "[]"
      ]
     },
     "execution_count": 62,
     "metadata": {},
     "output_type": "execute_result"
    },
    {
     "data": {
      "image/png": "[encoded data removed]",
      "text/plain": [
       "<Figure size 640x480 with 1 Axes>"
      ]
     },
     "metadata": {},
     "output_type": "display_data"
    }
   ],
   "source": [
    "plt.pie(x = df_month['trip_uuid'], \n",
    "        labels = ['Sep', 'Oct'],\n",
    "        explode = [0, 0.1],\n",
    "       autopct = '%.2f%%')\n",
    "plt.plot()"
   ]
  },
  {
   "cell_type": "markdown",
   "id": "232ed078",
   "metadata": {},
   "source": [
    "#####  I am interested to know the distribution of trip data for the orders"
   ]
  },
  {
   "cell_type": "code",
   "execution_count": 63,
   "id": "7d385508",
   "metadata": {},
   "outputs": [
    {
     "data": {
      "text/html": [
       "<div>\n",
       "<style scoped>\n",
       "    .dataframe tbody tr th:only-of-type {\n",
       "        vertical-align: middle;\n",
       "    }\n",
       "\n",
       "    .dataframe tbody tr th {\n",
       "        vertical-align: top;\n",
       "    }\n",
       "\n",
       "    .dataframe thead th {\n",
       "        text-align: right;\n",
       "    }\n",
       "</style>\n",
       "<table border=\"1\" class=\"dataframe\">\n",
       "  <thead>\n",
       "    <tr style=\"text-align: right;\">\n",
       "      <th></th>\n",
       "      <th>data</th>\n",
       "      <th>trip_uuid</th>\n",
       "      <th>perc</th>\n",
       "    </tr>\n",
       "  </thead>\n",
       "  <tbody>\n",
       "    <tr>\n",
       "      <th>0</th>\n",
       "      <td>test</td>\n",
       "      <td>4163</td>\n",
       "      <td>28.1</td>\n",
       "    </tr>\n",
       "    <tr>\n",
       "      <th>1</th>\n",
       "      <td>training</td>\n",
       "      <td>10654</td>\n",
       "      <td>71.9</td>\n",
       "    </tr>\n",
       "  </tbody>\n",
       "</table>\n",
       "</div>"
      ],
      "text/plain": [
       "       data  trip_uuid  perc\n",
       "0      test       4163  28.1\n",
       "1  training      10654  71.9"
      ]
     },
     "execution_count": 63,
     "metadata": {},
     "output_type": "execute_result"
    }
   ],
   "source": [
    "df_data = df2.groupby(by = 'data')['trip_uuid'].count().to_frame().reset_index()\n",
    "df_data['perc'] = np.round(df_data['trip_uuid'] * 100/ df_data['trip_uuid'].sum(), 2)\n",
    "df_data.head()"
   ]
  },
  {
   "cell_type": "code",
   "execution_count": 64,
   "id": "a155c201",
   "metadata": {},
   "outputs": [
    {
     "data": {
      "text/plain": [
       "[]"
      ]
     },
     "execution_count": 64,
     "metadata": {},
     "output_type": "execute_result"
    },
    {
     "data": {
      "image/png": "[encoded data removed]",
      "text/plain": [
       "<Figure size 640x480 with 1 Axes>"
      ]
     },
     "metadata": {},
     "output_type": "display_data"
    }
   ],
   "source": [
    "plt.pie(x = df_data['trip_uuid'], \n",
    "        labels = df_data['data'],\n",
    "        explode = [0, 0.1],\n",
    "        autopct = '%.2f%%')\n",
    "plt.plot()"
   ]
  },
  {
   "cell_type": "markdown",
   "id": "0002efd0",
   "metadata": {},
   "source": [
    "#####  I am interested to know the distribution of route types for the orders"
   ]
  },
  {
   "cell_type": "code",
   "execution_count": 65,
   "id": "19a9aee8",
   "metadata": {},
   "outputs": [
    {
     "data": {
      "text/html": [
       "<div>\n",
       "<style scoped>\n",
       "    .dataframe tbody tr th:only-of-type {\n",
       "        vertical-align: middle;\n",
       "    }\n",
       "\n",
       "    .dataframe tbody tr th {\n",
       "        vertical-align: top;\n",
       "    }\n",
       "\n",
       "    .dataframe thead th {\n",
       "        text-align: right;\n",
       "    }\n",
       "</style>\n",
       "<table border=\"1\" class=\"dataframe\">\n",
       "  <thead>\n",
       "    <tr style=\"text-align: right;\">\n",
       "      <th></th>\n",
       "      <th>route_type</th>\n",
       "      <th>trip_uuid</th>\n",
       "      <th>perc</th>\n",
       "    </tr>\n",
       "  </thead>\n",
       "  <tbody>\n",
       "    <tr>\n",
       "      <th>0</th>\n",
       "      <td>Carting</td>\n",
       "      <td>8908</td>\n",
       "      <td>60.12</td>\n",
       "    </tr>\n",
       "    <tr>\n",
       "      <th>1</th>\n",
       "      <td>FTL</td>\n",
       "      <td>5909</td>\n",
       "      <td>39.88</td>\n",
       "    </tr>\n",
       "  </tbody>\n",
       "</table>\n",
       "</div>"
      ],
      "text/plain": [
       "  route_type  trip_uuid   perc\n",
       "0    Carting       8908  60.12\n",
       "1        FTL       5909  39.88"
      ]
     },
     "execution_count": 65,
     "metadata": {},
     "output_type": "execute_result"
    }
   ],
   "source": [
    "df_route = df2.groupby(by = 'route_type')['trip_uuid'].count().to_frame().reset_index()\n",
    "df_route['perc'] = np.round(df_route['trip_uuid'] * 100/ df_route['trip_uuid'].sum(), 2)\n",
    "df_route.head()"
   ]
  },
  {
   "cell_type": "code",
   "execution_count": 66,
   "id": "30cd48c7",
   "metadata": {},
   "outputs": [
    {
     "data": {
      "text/plain": [
       "[]"
      ]
     },
     "execution_count": 66,
     "metadata": {},
     "output_type": "execute_result"
    },
    {
     "data": {
      "image/png": "[encoded data removed]",
      "text/plain": [
       "<Figure size 640x480 with 1 Axes>"
      ]
     },
     "metadata": {},
     "output_type": "display_data"
    }
   ],
   "source": [
    "plt.pie(x = df_route['trip_uuid'], \n",
    "        labels = ['Carting', 'FTL'],\n",
    "        explode = [0, 0.1],\n",
    "        autopct = '%.2f%%')\n",
    "plt.plot()"
   ]
  },
  {
   "cell_type": "markdown",
   "id": "54c1b79e",
   "metadata": {},
   "source": [
    "##### I am interested to know what is the distribution of number of trips created from different states  "
   ]
  },
  {
   "cell_type": "code",
   "execution_count": 67,
   "id": "25af1d1b",
   "metadata": {},
   "outputs": [
    {
     "data": {
      "text/html": [
       "<div>\n",
       "<style scoped>\n",
       "    .dataframe tbody tr th:only-of-type {\n",
       "        vertical-align: middle;\n",
       "    }\n",
       "\n",
       "    .dataframe tbody tr th {\n",
       "        vertical-align: top;\n",
       "    }\n",
       "\n",
       "    .dataframe thead th {\n",
       "        text-align: right;\n",
       "    }\n",
       "</style>\n",
       "<table border=\"1\" class=\"dataframe\">\n",
       "  <thead>\n",
       "    <tr style=\"text-align: right;\">\n",
       "      <th></th>\n",
       "      <th>source_state</th>\n",
       "      <th>trip_uuid</th>\n",
       "      <th>perc</th>\n",
       "    </tr>\n",
       "  </thead>\n",
       "  <tbody>\n",
       "    <tr>\n",
       "      <th>17</th>\n",
       "      <td>Maharashtra</td>\n",
       "      <td>2714</td>\n",
       "      <td>18.32</td>\n",
       "    </tr>\n",
       "    <tr>\n",
       "      <th>14</th>\n",
       "      <td>Karnataka</td>\n",
       "      <td>2143</td>\n",
       "      <td>14.46</td>\n",
       "    </tr>\n",
       "    <tr>\n",
       "      <th>10</th>\n",
       "      <td>Haryana</td>\n",
       "      <td>1838</td>\n",
       "      <td>12.40</td>\n",
       "    </tr>\n",
       "    <tr>\n",
       "      <th>24</th>\n",
       "      <td>Tamil Nadu</td>\n",
       "      <td>1039</td>\n",
       "      <td>7.01</td>\n",
       "    </tr>\n",
       "    <tr>\n",
       "      <th>25</th>\n",
       "      <td>Telangana</td>\n",
       "      <td>781</td>\n",
       "      <td>5.27</td>\n",
       "    </tr>\n",
       "  </tbody>\n",
       "</table>\n",
       "</div>"
      ],
      "text/plain": [
       "   source_state  trip_uuid   perc\n",
       "17  Maharashtra       2714  18.32\n",
       "14    Karnataka       2143  14.46\n",
       "10      Haryana       1838  12.40\n",
       "24   Tamil Nadu       1039   7.01\n",
       "25    Telangana        781   5.27"
      ]
     },
     "execution_count": 67,
     "metadata": {},
     "output_type": "execute_result"
    }
   ],
   "source": [
    "df_source_state = df2.groupby(by = 'source_state')['trip_uuid'].count().to_frame().reset_index()\n",
    "df_source_state['perc'] = np.round(df_source_state['trip_uuid'] * 100/ df_source_state['trip_uuid'].sum(), 2)\n",
    "df_source_state = df_source_state.sort_values(by = 'trip_uuid', ascending = False)\n",
    "df_source_state.head()"
   ]
  },
  {
   "cell_type": "code",
   "execution_count": 68,
   "id": "aacae493",
   "metadata": {},
   "outputs": [
    {
     "data": {
      "text/plain": [
       "[]"
      ]
     },
     "execution_count": 68,
     "metadata": {},
     "output_type": "execute_result"
    },
    {
     "data": {
      "image/png": "[encoded data removed]",
      "text/plain": [
       "<Figure size 1000x1500 with 1 Axes>"
      ]
     },
     "metadata": {},
     "output_type": "display_data"
    }
   ],
   "source": [
    "plt.figure(figsize = (10, 15))\n",
    "sns.barplot(data = df_source_state, \n",
    "            x = df_source_state['trip_uuid'], \n",
    "            y = df_source_state['source_state'])\n",
    "plt.plot()"
   ]
  },
  {
   "cell_type": "markdown",
   "id": "31879f99",
   "metadata": {},
   "source": [
    " - It can be seen in the above plot that maximum trips originated from Maharashtra state followed by Karnataka and Haryana. That means that the seller base is strong in these states"
   ]
  },
  {
   "cell_type": "markdown",
   "id": "bea3051a",
   "metadata": {},
   "source": [
    "##### I am interested to know top 30 cities based on the number of trips created from different cities \n"
   ]
  },
  {
   "cell_type": "code",
   "execution_count": 69,
   "id": "3371c1dd",
   "metadata": {},
   "outputs": [
    {
     "data": {
      "text/html": [
       "<div>\n",
       "<style scoped>\n",
       "    .dataframe tbody tr th:only-of-type {\n",
       "        vertical-align: middle;\n",
       "    }\n",
       "\n",
       "    .dataframe tbody tr th {\n",
       "        vertical-align: top;\n",
       "    }\n",
       "\n",
       "    .dataframe thead th {\n",
       "        text-align: right;\n",
       "    }\n",
       "</style>\n",
       "<table border=\"1\" class=\"dataframe\">\n",
       "  <thead>\n",
       "    <tr style=\"text-align: right;\">\n",
       "      <th></th>\n",
       "      <th>source_city</th>\n",
       "      <th>trip_uuid</th>\n",
       "      <th>perc</th>\n",
       "    </tr>\n",
       "  </thead>\n",
       "  <tbody>\n",
       "    <tr>\n",
       "      <th>439</th>\n",
       "      <td>Mumbai</td>\n",
       "      <td>1442</td>\n",
       "      <td>9.73</td>\n",
       "    </tr>\n",
       "    <tr>\n",
       "      <th>237</th>\n",
       "      <td>Gurgaon</td>\n",
       "      <td>1165</td>\n",
       "      <td>7.86</td>\n",
       "    </tr>\n",
       "    <tr>\n",
       "      <th>169</th>\n",
       "      <td>Delhi</td>\n",
       "      <td>883</td>\n",
       "      <td>5.96</td>\n",
       "    </tr>\n",
       "    <tr>\n",
       "      <th>79</th>\n",
       "      <td>Bengaluru</td>\n",
       "      <td>726</td>\n",
       "      <td>4.90</td>\n",
       "    </tr>\n",
       "    <tr>\n",
       "      <th>100</th>\n",
       "      <td>Bhiwandi</td>\n",
       "      <td>697</td>\n",
       "      <td>4.70</td>\n",
       "    </tr>\n",
       "    <tr>\n",
       "      <th>58</th>\n",
       "      <td>Bangalore</td>\n",
       "      <td>648</td>\n",
       "      <td>4.37</td>\n",
       "    </tr>\n",
       "    <tr>\n",
       "      <th>136</th>\n",
       "      <td>Chennai</td>\n",
       "      <td>568</td>\n",
       "      <td>3.83</td>\n",
       "    </tr>\n",
       "    <tr>\n",
       "      <th>264</th>\n",
       "      <td>Hyderabad</td>\n",
       "      <td>524</td>\n",
       "      <td>3.54</td>\n",
       "    </tr>\n",
       "    <tr>\n",
       "      <th>516</th>\n",
       "      <td>Pune</td>\n",
       "      <td>480</td>\n",
       "      <td>3.24</td>\n",
       "    </tr>\n",
       "    <tr>\n",
       "      <th>357</th>\n",
       "      <td>Kolkata</td>\n",
       "      <td>356</td>\n",
       "      <td>2.40</td>\n",
       "    </tr>\n",
       "    <tr>\n",
       "      <th>610</th>\n",
       "      <td>Sonipat</td>\n",
       "      <td>276</td>\n",
       "      <td>1.86</td>\n",
       "    </tr>\n",
       "    <tr>\n",
       "      <th>2</th>\n",
       "      <td>Ahmedabad</td>\n",
       "      <td>274</td>\n",
       "      <td>1.85</td>\n",
       "    </tr>\n",
       "    <tr>\n",
       "      <th>133</th>\n",
       "      <td>Chandigarh</td>\n",
       "      <td>273</td>\n",
       "      <td>1.84</td>\n",
       "    </tr>\n",
       "    <tr>\n",
       "      <th>270</th>\n",
       "      <td>Jaipur</td>\n",
       "      <td>259</td>\n",
       "      <td>1.75</td>\n",
       "    </tr>\n",
       "    <tr>\n",
       "      <th>201</th>\n",
       "      <td>Faridabad</td>\n",
       "      <td>227</td>\n",
       "      <td>1.53</td>\n",
       "    </tr>\n",
       "    <tr>\n",
       "      <th>447</th>\n",
       "      <td>Muzaffrpur</td>\n",
       "      <td>159</td>\n",
       "      <td>1.07</td>\n",
       "    </tr>\n",
       "    <tr>\n",
       "      <th>382</th>\n",
       "      <td>Ludhiana</td>\n",
       "      <td>158</td>\n",
       "      <td>1.07</td>\n",
       "    </tr>\n",
       "    <tr>\n",
       "      <th>320</th>\n",
       "      <td>Kanpur</td>\n",
       "      <td>145</td>\n",
       "      <td>0.98</td>\n",
       "    </tr>\n",
       "    <tr>\n",
       "      <th>621</th>\n",
       "      <td>Surat</td>\n",
       "      <td>140</td>\n",
       "      <td>0.94</td>\n",
       "    </tr>\n",
       "    <tr>\n",
       "      <th>473</th>\n",
       "      <td>Noida</td>\n",
       "      <td>129</td>\n",
       "      <td>0.87</td>\n",
       "    </tr>\n",
       "    <tr>\n",
       "      <th>102</th>\n",
       "      <td>Bhopal</td>\n",
       "      <td>125</td>\n",
       "      <td>0.84</td>\n",
       "    </tr>\n",
       "    <tr>\n",
       "      <th>240</th>\n",
       "      <td>Guwahati</td>\n",
       "      <td>118</td>\n",
       "      <td>0.80</td>\n",
       "    </tr>\n",
       "    <tr>\n",
       "      <th>154</th>\n",
       "      <td>Coimbatore</td>\n",
       "      <td>69</td>\n",
       "      <td>0.47</td>\n",
       "    </tr>\n",
       "    <tr>\n",
       "      <th>679</th>\n",
       "      <td>Visakhapatnam</td>\n",
       "      <td>69</td>\n",
       "      <td>0.47</td>\n",
       "    </tr>\n",
       "    <tr>\n",
       "      <th>380</th>\n",
       "      <td>LowerParel</td>\n",
       "      <td>65</td>\n",
       "      <td>0.44</td>\n",
       "    </tr>\n",
       "    <tr>\n",
       "      <th>477</th>\n",
       "      <td>PNQ</td>\n",
       "      <td>62</td>\n",
       "      <td>0.42</td>\n",
       "    </tr>\n",
       "    <tr>\n",
       "      <th>273</th>\n",
       "      <td>Jalandhar</td>\n",
       "      <td>54</td>\n",
       "      <td>0.36</td>\n",
       "    </tr>\n",
       "    <tr>\n",
       "      <th>220</th>\n",
       "      <td>Goa</td>\n",
       "      <td>52</td>\n",
       "      <td>0.35</td>\n",
       "    </tr>\n",
       "    <tr>\n",
       "      <th>25</th>\n",
       "      <td>Anantapur</td>\n",
       "      <td>51</td>\n",
       "      <td>0.34</td>\n",
       "    </tr>\n",
       "    <tr>\n",
       "      <th>261</th>\n",
       "      <td>Hubli</td>\n",
       "      <td>47</td>\n",
       "      <td>0.32</td>\n",
       "    </tr>\n",
       "  </tbody>\n",
       "</table>\n",
       "</div>"
      ],
      "text/plain": [
       "       source_city  trip_uuid  perc\n",
       "439         Mumbai       1442  9.73\n",
       "237        Gurgaon       1165  7.86\n",
       "169          Delhi        883  5.96\n",
       "79       Bengaluru        726  4.90\n",
       "100       Bhiwandi        697  4.70\n",
       "58       Bangalore        648  4.37\n",
       "136        Chennai        568  3.83\n",
       "264      Hyderabad        524  3.54\n",
       "516           Pune        480  3.24\n",
       "357        Kolkata        356  2.40\n",
       "610        Sonipat        276  1.86\n",
       "2        Ahmedabad        274  1.85\n",
       "133     Chandigarh        273  1.84\n",
       "270         Jaipur        259  1.75\n",
       "201      Faridabad        227  1.53\n",
       "447     Muzaffrpur        159  1.07\n",
       "382       Ludhiana        158  1.07\n",
       "320         Kanpur        145  0.98\n",
       "621          Surat        140  0.94\n",
       "473          Noida        129  0.87\n",
       "102         Bhopal        125  0.84\n",
       "240       Guwahati        118  0.80\n",
       "154     Coimbatore         69  0.47\n",
       "679  Visakhapatnam         69  0.47\n",
       "380     LowerParel         65  0.44\n",
       "477            PNQ         62  0.42\n",
       "273      Jalandhar         54  0.36\n",
       "220            Goa         52  0.35\n",
       "25       Anantapur         51  0.34\n",
       "261          Hubli         47  0.32"
      ]
     },
     "execution_count": 69,
     "metadata": {},
     "output_type": "execute_result"
    }
   ],
   "source": [
    "df_source_city = df2.groupby(by = 'source_city')['trip_uuid'].count().to_frame().reset_index()\n",
    "df_source_city['perc'] = np.round(df_source_city['trip_uuid'] * 100/ df_source_city['trip_uuid'].sum(), 2)\n",
    "df_source_city = df_source_city.sort_values(by = 'trip_uuid', ascending = False)[:30]\n",
    "df_source_city"
   ]
  },
  {
   "cell_type": "code",
   "execution_count": 70,
   "id": "50b17b53",
   "metadata": {},
   "outputs": [
    {
     "data": {
      "text/plain": [
       "[]"
      ]
     },
     "execution_count": 70,
     "metadata": {},
     "output_type": "execute_result"
    },
    {
     "data": {
      "image/png": "[encoded data removed]",
      "text/plain": [
       "<Figure size 1000x1000 with 1 Axes>"
      ]
     },
     "metadata": {},
     "output_type": "display_data"
    }
   ],
   "source": [
    "plt.figure(figsize = (10, 10))\n",
    "sns.barplot(data = df_source_city, \n",
    "            x = df_source_city['trip_uuid'], \n",
    "            y = df_source_city['source_city'])\n",
    "plt.plot()"
   ]
  },
  {
   "cell_type": "markdown",
   "id": "2e738100",
   "metadata": {},
   "source": [
    " - It can be seen in the above plot that maximum trips originated from Mumbai city followed by Gurgaon  Delhi, Bengaluru and Bhiwandi. That means that the seller base is strong in these cities."
   ]
  },
  {
   "cell_type": "markdown",
   "id": "d7c28084",
   "metadata": {},
   "source": [
    "##### I am interested to know what is the distribution of number of trips which ended in different states  "
   ]
  },
  {
   "cell_type": "code",
   "execution_count": 71,
   "id": "fcb484e3",
   "metadata": {},
   "outputs": [
    {
     "data": {
      "text/html": [
       "<div>\n",
       "<style scoped>\n",
       "    .dataframe tbody tr th:only-of-type {\n",
       "        vertical-align: middle;\n",
       "    }\n",
       "\n",
       "    .dataframe tbody tr th {\n",
       "        vertical-align: top;\n",
       "    }\n",
       "\n",
       "    .dataframe thead th {\n",
       "        text-align: right;\n",
       "    }\n",
       "</style>\n",
       "<table border=\"1\" class=\"dataframe\">\n",
       "  <thead>\n",
       "    <tr style=\"text-align: right;\">\n",
       "      <th></th>\n",
       "      <th>destination_state</th>\n",
       "      <th>trip_uuid</th>\n",
       "      <th>perc</th>\n",
       "    </tr>\n",
       "  </thead>\n",
       "  <tbody>\n",
       "    <tr>\n",
       "      <th>18</th>\n",
       "      <td>Maharashtra</td>\n",
       "      <td>2561</td>\n",
       "      <td>17.28</td>\n",
       "    </tr>\n",
       "    <tr>\n",
       "      <th>15</th>\n",
       "      <td>Karnataka</td>\n",
       "      <td>2294</td>\n",
       "      <td>15.48</td>\n",
       "    </tr>\n",
       "    <tr>\n",
       "      <th>11</th>\n",
       "      <td>Haryana</td>\n",
       "      <td>1643</td>\n",
       "      <td>11.09</td>\n",
       "    </tr>\n",
       "    <tr>\n",
       "      <th>25</th>\n",
       "      <td>Tamil Nadu</td>\n",
       "      <td>1084</td>\n",
       "      <td>7.32</td>\n",
       "    </tr>\n",
       "    <tr>\n",
       "      <th>28</th>\n",
       "      <td>Uttar Pradesh</td>\n",
       "      <td>811</td>\n",
       "      <td>5.47</td>\n",
       "    </tr>\n",
       "  </tbody>\n",
       "</table>\n",
       "</div>"
      ],
      "text/plain": [
       "   destination_state  trip_uuid   perc\n",
       "18       Maharashtra       2561  17.28\n",
       "15         Karnataka       2294  15.48\n",
       "11           Haryana       1643  11.09\n",
       "25        Tamil Nadu       1084   7.32\n",
       "28     Uttar Pradesh        811   5.47"
      ]
     },
     "execution_count": 71,
     "metadata": {},
     "output_type": "execute_result"
    }
   ],
   "source": [
    "df_destination_state = df2.groupby(by = 'destination_state')['trip_uuid'].count().to_frame().reset_index()\n",
    "df_destination_state['perc'] = np.round(df_destination_state['trip_uuid'] * 100/ df_destination_state['trip_uuid'].sum(), 2)\n",
    "df_destination_state = df_destination_state.sort_values(by = 'trip_uuid', ascending = False)\n",
    "df_destination_state.head()"
   ]
  },
  {
   "cell_type": "code",
   "execution_count": 72,
   "id": "810f2798",
   "metadata": {},
   "outputs": [
    {
     "data": {
      "text/plain": [
       "[]"
      ]
     },
     "execution_count": 72,
     "metadata": {},
     "output_type": "execute_result"
    },
    {
     "data": {
      "image/png": "[encoded data removed]",
      "text/plain": [
       "<Figure size 1000x1500 with 1 Axes>"
      ]
     },
     "metadata": {},
     "output_type": "display_data"
    }
   ],
   "source": [
    "plt.figure(figsize = (10, 15))\n",
    "sns.barplot(data = df_destination_state, \n",
    "            x = df_destination_state['trip_uuid'], \n",
    "            y = df_destination_state['destination_state'])\n",
    "plt.plot()"
   ]
  },
  {
   "cell_type": "markdown",
   "id": "b51b2ca7",
   "metadata": {},
   "source": [
    " - It can be seen in the above plot that maximum trips ended in Maharashtra state followed by Karnataka, Haryana, Tamil Nadu and Uttar Pradesh. That means that the number of orders placed in these states is significantly high in these states."
   ]
  },
  {
   "cell_type": "markdown",
   "id": "3e37ea01",
   "metadata": {},
   "source": [
    "##### I am interested to know top 30 cities based on the number of trips ended in different cities \n"
   ]
  },
  {
   "cell_type": "code",
   "execution_count": 73,
   "id": "353fddb0",
   "metadata": {},
   "outputs": [
    {
     "data": {
      "text/html": [
       "<div>\n",
       "<style scoped>\n",
       "    .dataframe tbody tr th:only-of-type {\n",
       "        vertical-align: middle;\n",
       "    }\n",
       "\n",
       "    .dataframe tbody tr th {\n",
       "        vertical-align: top;\n",
       "    }\n",
       "\n",
       "    .dataframe thead th {\n",
       "        text-align: right;\n",
       "    }\n",
       "</style>\n",
       "<table border=\"1\" class=\"dataframe\">\n",
       "  <thead>\n",
       "    <tr style=\"text-align: right;\">\n",
       "      <th></th>\n",
       "      <th>destination_city</th>\n",
       "      <th>trip_uuid</th>\n",
       "      <th>perc</th>\n",
       "    </tr>\n",
       "  </thead>\n",
       "  <tbody>\n",
       "    <tr>\n",
       "      <th>515</th>\n",
       "      <td>Mumbai</td>\n",
       "      <td>1548</td>\n",
       "      <td>10.45</td>\n",
       "    </tr>\n",
       "    <tr>\n",
       "      <th>96</th>\n",
       "      <td>Bengaluru</td>\n",
       "      <td>975</td>\n",
       "      <td>6.58</td>\n",
       "    </tr>\n",
       "    <tr>\n",
       "      <th>282</th>\n",
       "      <td>Gurgaon</td>\n",
       "      <td>936</td>\n",
       "      <td>6.32</td>\n",
       "    </tr>\n",
       "    <tr>\n",
       "      <th>200</th>\n",
       "      <td>Delhi</td>\n",
       "      <td>778</td>\n",
       "      <td>5.25</td>\n",
       "    </tr>\n",
       "    <tr>\n",
       "      <th>163</th>\n",
       "      <td>Chennai</td>\n",
       "      <td>595</td>\n",
       "      <td>4.02</td>\n",
       "    </tr>\n",
       "    <tr>\n",
       "      <th>72</th>\n",
       "      <td>Bangalore</td>\n",
       "      <td>551</td>\n",
       "      <td>3.72</td>\n",
       "    </tr>\n",
       "    <tr>\n",
       "      <th>308</th>\n",
       "      <td>Hyderabad</td>\n",
       "      <td>503</td>\n",
       "      <td>3.39</td>\n",
       "    </tr>\n",
       "    <tr>\n",
       "      <th>115</th>\n",
       "      <td>Bhiwandi</td>\n",
       "      <td>434</td>\n",
       "      <td>2.93</td>\n",
       "    </tr>\n",
       "    <tr>\n",
       "      <th>418</th>\n",
       "      <td>Kolkata</td>\n",
       "      <td>384</td>\n",
       "      <td>2.59</td>\n",
       "    </tr>\n",
       "    <tr>\n",
       "      <th>158</th>\n",
       "      <td>Chandigarh</td>\n",
       "      <td>339</td>\n",
       "      <td>2.29</td>\n",
       "    </tr>\n",
       "    <tr>\n",
       "      <th>724</th>\n",
       "      <td>Sonipat</td>\n",
       "      <td>322</td>\n",
       "      <td>2.17</td>\n",
       "    </tr>\n",
       "    <tr>\n",
       "      <th>612</th>\n",
       "      <td>Pune</td>\n",
       "      <td>317</td>\n",
       "      <td>2.14</td>\n",
       "    </tr>\n",
       "    <tr>\n",
       "      <th>4</th>\n",
       "      <td>Ahmedabad</td>\n",
       "      <td>265</td>\n",
       "      <td>1.79</td>\n",
       "    </tr>\n",
       "    <tr>\n",
       "      <th>242</th>\n",
       "      <td>Faridabad</td>\n",
       "      <td>244</td>\n",
       "      <td>1.65</td>\n",
       "    </tr>\n",
       "    <tr>\n",
       "      <th>318</th>\n",
       "      <td>Jaipur</td>\n",
       "      <td>205</td>\n",
       "      <td>1.38</td>\n",
       "    </tr>\n",
       "    <tr>\n",
       "      <th>371</th>\n",
       "      <td>Kanpur</td>\n",
       "      <td>148</td>\n",
       "      <td>1.00</td>\n",
       "    </tr>\n",
       "    <tr>\n",
       "      <th>117</th>\n",
       "      <td>Bhopal</td>\n",
       "      <td>139</td>\n",
       "      <td>0.94</td>\n",
       "    </tr>\n",
       "    <tr>\n",
       "      <th>559</th>\n",
       "      <td>PNQ</td>\n",
       "      <td>122</td>\n",
       "      <td>0.82</td>\n",
       "    </tr>\n",
       "    <tr>\n",
       "      <th>739</th>\n",
       "      <td>Surat</td>\n",
       "      <td>117</td>\n",
       "      <td>0.79</td>\n",
       "    </tr>\n",
       "    <tr>\n",
       "      <th>552</th>\n",
       "      <td>Noida</td>\n",
       "      <td>106</td>\n",
       "      <td>0.72</td>\n",
       "    </tr>\n",
       "    <tr>\n",
       "      <th>521</th>\n",
       "      <td>Muzaffrpur</td>\n",
       "      <td>102</td>\n",
       "      <td>0.69</td>\n",
       "    </tr>\n",
       "    <tr>\n",
       "      <th>284</th>\n",
       "      <td>Guwahati</td>\n",
       "      <td>98</td>\n",
       "      <td>0.66</td>\n",
       "    </tr>\n",
       "    <tr>\n",
       "      <th>448</th>\n",
       "      <td>Ludhiana</td>\n",
       "      <td>70</td>\n",
       "      <td>0.47</td>\n",
       "    </tr>\n",
       "    <tr>\n",
       "      <th>797</th>\n",
       "      <td>Visakhapatnam</td>\n",
       "      <td>64</td>\n",
       "      <td>0.43</td>\n",
       "    </tr>\n",
       "    <tr>\n",
       "      <th>259</th>\n",
       "      <td>Ghaziabad</td>\n",
       "      <td>56</td>\n",
       "      <td>0.38</td>\n",
       "    </tr>\n",
       "    <tr>\n",
       "      <th>208</th>\n",
       "      <td>Dhanbad</td>\n",
       "      <td>50</td>\n",
       "      <td>0.34</td>\n",
       "    </tr>\n",
       "    <tr>\n",
       "      <th>639</th>\n",
       "      <td>Ranchi</td>\n",
       "      <td>49</td>\n",
       "      <td>0.33</td>\n",
       "    </tr>\n",
       "    <tr>\n",
       "      <th>110</th>\n",
       "      <td>Bhatinda</td>\n",
       "      <td>48</td>\n",
       "      <td>0.32</td>\n",
       "    </tr>\n",
       "    <tr>\n",
       "      <th>183</th>\n",
       "      <td>Coimbatore</td>\n",
       "      <td>47</td>\n",
       "      <td>0.32</td>\n",
       "    </tr>\n",
       "    <tr>\n",
       "      <th>9</th>\n",
       "      <td>Akola</td>\n",
       "      <td>45</td>\n",
       "      <td>0.30</td>\n",
       "    </tr>\n",
       "  </tbody>\n",
       "</table>\n",
       "</div>"
      ],
      "text/plain": [
       "    destination_city  trip_uuid   perc\n",
       "515           Mumbai       1548  10.45\n",
       "96         Bengaluru        975   6.58\n",
       "282          Gurgaon        936   6.32\n",
       "200            Delhi        778   5.25\n",
       "163          Chennai        595   4.02\n",
       "72         Bangalore        551   3.72\n",
       "308        Hyderabad        503   3.39\n",
       "115         Bhiwandi        434   2.93\n",
       "418          Kolkata        384   2.59\n",
       "158       Chandigarh        339   2.29\n",
       "724          Sonipat        322   2.17\n",
       "612             Pune        317   2.14\n",
       "4          Ahmedabad        265   1.79\n",
       "242        Faridabad        244   1.65\n",
       "318           Jaipur        205   1.38\n",
       "371           Kanpur        148   1.00\n",
       "117           Bhopal        139   0.94\n",
       "559              PNQ        122   0.82\n",
       "739            Surat        117   0.79\n",
       "552            Noida        106   0.72\n",
       "521       Muzaffrpur        102   0.69\n",
       "284         Guwahati         98   0.66\n",
       "448         Ludhiana         70   0.47\n",
       "797    Visakhapatnam         64   0.43\n",
       "259        Ghaziabad         56   0.38\n",
       "208          Dhanbad         50   0.34\n",
       "639           Ranchi         49   0.33\n",
       "110         Bhatinda         48   0.32\n",
       "183       Coimbatore         47   0.32\n",
       "9              Akola         45   0.30"
      ]
     },
     "execution_count": 73,
     "metadata": {},
     "output_type": "execute_result"
    }
   ],
   "source": [
    "df_destination_city = df2.groupby(by = 'destination_city')['trip_uuid'].count().to_frame().reset_index()\n",
    "df_destination_city['perc'] = np.round(df_destination_city['trip_uuid'] * 100/ df_destination_city['trip_uuid'].sum(), 2)\n",
    "df_destination_city = df_destination_city.sort_values(by = 'trip_uuid', ascending = False)[:30]\n",
    "df_destination_city"
   ]
  },
  {
   "cell_type": "code",
   "execution_count": 74,
   "id": "8535871c",
   "metadata": {},
   "outputs": [
    {
     "data": {
      "text/plain": [
       "[]"
      ]
     },
     "execution_count": 74,
     "metadata": {},
     "output_type": "execute_result"
    },
    {
     "data": {
      "image/png": "[encoded data removed]",
      "text/plain": [
       "<Figure size 1000x1000 with 1 Axes>"
      ]
     },
     "metadata": {},
     "output_type": "display_data"
    }
   ],
   "source": [
    "plt.figure(figsize = (10, 10))\n",
    "sns.barplot(data = df_destination_city, \n",
    "            x = df_destination_city['trip_uuid'], \n",
    "            y = df_destination_city['destination_city'])\n",
    "plt.plot()"
   ]
  },
  {
   "cell_type": "markdown",
   "id": "9eccaf99",
   "metadata": {},
   "source": [
    " - It can be seen in the above plot that maximum trips ended in Mumbai city followed by Bengaluru, Gurgaon, Delhi and Chennai. That means that the number of orders placed in these cities is significantly high."
   ]
  },
  {
   "cell_type": "code",
   "execution_count": null,
   "id": "15ff0e56",
   "metadata": {},
   "outputs": [
    {
     "data": {
      "text/plain": [
       "[]"
      ]
     },
     "execution_count": 75,
     "metadata": {},
     "output_type": "execute_result"
    }
   ],
   "source": [
    "numerical_columns = ['od_total_time', 'start_scan_to_end_scan', 'actual_distance_to_destination',\n",
    "                    'actual_time', 'osrm_time', 'osrm_distance', 'segment_actual_time',\n",
    "                    'segment_osrm_time', 'segment_osrm_distance']\n",
    "sns.pairplot(data = df2,\n",
    "             vars = numerical_columns,\n",
    "             kind = 'reg',\n",
    "             hue = 'route_type',\n",
    "             markers = '.')\n",
    "plt.plot()"
   ]
  },
  {
   "cell_type": "code",
   "execution_count": null,
   "id": "6c5df377",
   "metadata": {},
   "outputs": [],
   "source": [
    "df_corr = df2[numerical_columns].corr()\n",
    "df_corr"
   ]
  },
  {
   "cell_type": "code",
   "execution_count": null,
   "id": "cd60b4ec",
   "metadata": {},
   "outputs": [],
   "source": [
    "plt.figure(figsize = (15, 10))\n",
    "sns.heatmap(data = df_corr, vmin = -1, vmax = 1, annot = True)\n",
    "plt.plot()"
   ]
  },
  {
   "cell_type": "markdown",
   "id": "ac9c4622",
   "metadata": {},
   "source": [
    " - Very High Correlation (> 0.9) exists between columns all the numerical columns specified above "
   ]
  },
  {
   "cell_type": "markdown",
   "id": "40075964",
   "metadata": {},
   "source": [
    "## 3.\tIn-depth analysis and feature engineering:"
   ]
  },
  {
   "cell_type": "markdown",
   "id": "826777d6",
   "metadata": {},
   "source": [
    "### Compare the difference between od_total_time and start_scan_to_end_scan. Do hypothesis testing/ Visual analysis to check."
   ]
  },
  {
   "cell_type": "markdown",
   "id": "bb8722bc",
   "metadata": {},
   "source": [
    "***STEP-1*** : Set up Null Hypothesis\n",
    "\n",
    "---\n",
    "\n",
    "\n",
    "\n",
    "  * **Null Hypothesis ( H0 )** - od_total_time (Total Trip Time) and  start_scan_to_end_scan (Expected total trip time) are same.\n",
    "\n",
    "  * **Alternate Hypothesis ( HA )** - od_total_time (Total Trip Time) and  start_scan_to_end_scan (Expected total trip time) are different.\n",
    "\n",
    "***STEP-2*** : Checking for basic assumpitons for the hypothesis\n",
    "\n",
    "---\n",
    "* Distribution check using **QQ Plot**\n",
    "* Homogeneity of Variances using **Lavene's test**\n",
    "\n",
    "***STEP-3***: Define Test statistics; Distribution of T under H0.\n",
    "\n",
    "---\n",
    "* If the assumptions of T Test are met then we can proceed performing T Test for independent samples else we will perform the non parametric test equivalent to T Test for independent sample i.e., Mann-Whitney U rank test for two independent samples.\n",
    "\n",
    "\n",
    "***STEP-4***: Compute the p-value and fix value of alpha.\n",
    "\n",
    "---\n",
    "* We set our ***alpha to be 0.05***\n",
    "\n",
    "***STEP-5***: Compare p-value and alpha.\n",
    "\n",
    "---\n",
    "\n",
    "* Based on p-value, we will accept or reject H0.\n",
    "\n",
    "\n",
    "  1.   **p-val > alpha** : Accept H0\n",
    "  2.   **p-val < alpha** : Reject H0"
   ]
  },
  {
   "cell_type": "code",
   "execution_count": null,
   "id": "18d37da0",
   "metadata": {},
   "outputs": [],
   "source": [
    "df2[['od_total_time', 'start_scan_to_end_scan']].describe()"
   ]
  },
  {
   "cell_type": "markdown",
   "id": "a42f3f85",
   "metadata": {},
   "source": [
    " - Visual Tests to know if the samples follow normal distribution"
   ]
  },
  {
   "cell_type": "code",
   "execution_count": null,
   "id": "78436ac3",
   "metadata": {},
   "outputs": [],
   "source": [
    "plt.figure(figsize = (12, 6))\n",
    "sns.histplot(df2['od_total_time'], element = 'step', color = 'green')\n",
    "sns.histplot(df2['start_scan_to_end_scan'], element = 'step', color = 'pink')\n",
    "plt.legend(['od_total_time', 'start_scan_to_end_scan'])\n",
    "plt.plot()"
   ]
  },
  {
   "cell_type": "markdown",
   "id": "965e9a5d",
   "metadata": {},
   "source": [
    "* Distribution check using **QQ Plot**"
   ]
  },
  {
   "cell_type": "code",
   "execution_count": null,
   "id": "49d63188",
   "metadata": {},
   "outputs": [],
   "source": [
    "plt.figure(figsize = (15, 6))\n",
    "plt.subplot(1, 2, 1)\n",
    "plt.suptitle('QQ plots for od_total_time and start_scan_to_end_scan')\n",
    "spy.probplot(df2['od_total_time'], plot = plt, dist = 'norm')\n",
    "plt.title('QQ plot for od_total_time')\n",
    "plt.subplot(1, 2, 2)\n",
    "spy.probplot(df2['start_scan_to_end_scan'], plot = plt, dist = 'norm')\n",
    "plt.title('QQ plot for start_scan_to_end_scan')\n",
    "plt.plot()"
   ]
  },
  {
   "cell_type": "markdown",
   "id": "849b9b92",
   "metadata": {},
   "source": [
    "###### It can be seen from the above plots that the samples do not come from normal distribution."
   ]
  },
  {
   "cell_type": "markdown",
   "id": "b9a14f47",
   "metadata": {},
   "source": [
    " - Applying Shapiro-Wilk test for normality"
   ]
  },
  {
   "cell_type": "markdown",
   "id": "bfb2781e",
   "metadata": {},
   "source": [
    "\n",
    "$H_0$ : The sample **follows normal distribution**\n",
    "$H_1$ : The sample **does not follow normal distribution**\n",
    "\n",
    "alpha = 0.05\n",
    "\n",
    "Test Statistics : **Shapiro-Wilk test for normality**"
   ]
  },
  {
   "cell_type": "code",
   "execution_count": null,
   "id": "9de167e9",
   "metadata": {},
   "outputs": [],
   "source": [
    "test_stat, p_value = spy.shapiro(df2['od_total_time'].sample(5000))\n",
    "print('p-value', p_value)\n",
    "if p_value < 0.05:\n",
    "    print('The sample does not follow normal distribution')\n",
    "else:\n",
    "    print('The sample follows normal distribution')    "
   ]
  },
  {
   "cell_type": "code",
   "execution_count": null,
   "id": "0863f94b",
   "metadata": {},
   "outputs": [],
   "source": [
    "test_stat, p_value = spy.shapiro(df2['start_scan_to_end_scan'].sample(5000))\n",
    "print('p-value', p_value)\n",
    "if p_value < 0.05:\n",
    "    print('The sample does not follow normal distribution')\n",
    "else:\n",
    "    print('The sample follows normal distribution')  "
   ]
  },
  {
   "cell_type": "markdown",
   "id": "e4a4d458",
   "metadata": {},
   "source": [
    " - Transforming the data using boxcox transformation to check if the transformed data follows normal distribution."
   ]
  },
  {
   "cell_type": "code",
   "execution_count": null,
   "id": "de9193b1",
   "metadata": {},
   "outputs": [],
   "source": [
    "transformed_od_total_time = spy.boxcox(df2['od_total_time'])[0]\n",
    "test_stat, p_value = spy.shapiro(transformed_od_total_time)\n",
    "print('p-value', p_value)\n",
    "if p_value < 0.05:\n",
    "    print('The sample does not follow normal distribution')\n",
    "else:\n",
    "    print('The sample follows normal distribution') "
   ]
  },
  {
   "cell_type": "code",
   "execution_count": null,
   "id": "db3bbcad",
   "metadata": {},
   "outputs": [],
   "source": [
    "transformed_start_scan_to_end_scan = spy.boxcox(df2['start_scan_to_end_scan'])[0]\n",
    "test_stat, p_value = spy.shapiro(transformed_start_scan_to_end_scan)\n",
    "print('p-value', p_value)\n",
    "if p_value < 0.05:\n",
    "    print('The sample does not follow normal distribution')\n",
    "else:\n",
    "    print('The sample follows normal distribution')"
   ]
  },
  {
   "cell_type": "markdown",
   "id": "c19e9317",
   "metadata": {},
   "source": [
    " - Even after applying the boxcox transformation on each of the \"od_total_time\" and \"start_scan_to_end_scan\" columns, the distributions do not follow normal distribution."
   ]
  },
  {
   "cell_type": "markdown",
   "id": "3bcf31df",
   "metadata": {},
   "source": [
    "* Homogeneity of Variances using **Lavene's test**"
   ]
  },
  {
   "cell_type": "code",
   "execution_count": null,
   "id": "caef887b",
   "metadata": {},
   "outputs": [],
   "source": [
    "# Null Hypothesis(H0) - Homogenous Variance \n",
    "\n",
    "# Alternate Hypothesis(HA) - Non Homogenous Variance \n",
    "\n",
    "test_stat, p_value = spy.levene(df2['od_total_time'], df2['start_scan_to_end_scan'])\n",
    "print('p-value', p_value)\n",
    "if p_value < 0.05:\n",
    "    print('The samples do not have  Homogenous Variance')\n",
    "else:\n",
    "    print('The samples have Homogenous Variance ') "
   ]
  },
  {
   "cell_type": "markdown",
   "id": "abdeefad",
   "metadata": {},
   "source": [
    "##### Since the samples are not normally distributed, T-Test cannot be applied here, we can perform its non parametric equivalent test i.e., Mann-Whitney U rank test for two independent samples."
   ]
  },
  {
   "cell_type": "code",
   "execution_count": null,
   "id": "bd793a67",
   "metadata": {},
   "outputs": [],
   "source": [
    "test_stat, p_value = spy.mannwhitneyu(df2['od_total_time'], df2['start_scan_to_end_scan'])\n",
    "print('P-value :',p_value)"
   ]
  },
  {
   "cell_type": "markdown",
   "id": "e5e4d234",
   "metadata": {},
   "source": [
    "###### Since p-value > alpha therfore it can be concluded that od_total_time and start_scan_to_end_scan are similar."
   ]
  },
  {
   "cell_type": "markdown",
   "id": "35a240b3",
   "metadata": {},
   "source": [
    "### Do hypothesis testing / visual analysis between actual_time aggregated value and OSRM time aggregated value (aggregated values are the values you’ll get after merging the rows on the basis of trip_uuid)"
   ]
  },
  {
   "cell_type": "code",
   "execution_count": null,
   "id": "b814f9ce",
   "metadata": {},
   "outputs": [],
   "source": [
    "df2[['actual_time', 'osrm_time']].describe()"
   ]
  },
  {
   "cell_type": "markdown",
   "id": "778bfe8b",
   "metadata": {},
   "source": [
    " - Visual Tests to know if the samples follow normal distribution"
   ]
  },
  {
   "cell_type": "code",
   "execution_count": null,
   "id": "ad752be1",
   "metadata": {},
   "outputs": [],
   "source": [
    "plt.figure(figsize = (12, 6))\n",
    "sns.histplot(df2['actual_time'], element = 'step', color = 'green')\n",
    "sns.histplot(df2['osrm_time'], element = 'step', color = 'lightblue')\n",
    "plt.legend(['actual_time', 'osrm_time'])\n",
    "plt.plot()"
   ]
  },
  {
   "cell_type": "markdown",
   "id": "faef1423",
   "metadata": {},
   "source": [
    "* Distribution check using **QQ Plot**"
   ]
  },
  {
   "cell_type": "code",
   "execution_count": null,
   "id": "b296bde0",
   "metadata": {},
   "outputs": [],
   "source": [
    "plt.figure(figsize = (15, 6))\n",
    "plt.subplot(1, 2, 1)\n",
    "plt.suptitle('QQ plots for actual_time and osrm_time')\n",
    "spy.probplot(df2['actual_time'], plot = plt, dist = 'norm')\n",
    "plt.title('QQ plot for actual_time')\n",
    "plt.subplot(1, 2, 2)\n",
    "spy.probplot(df2['osrm_time'], plot = plt, dist = 'norm')\n",
    "plt.title('QQ plot for osrm_time')\n",
    "plt.plot()"
   ]
  },
  {
   "cell_type": "markdown",
   "id": "f3c6eed5",
   "metadata": {},
   "source": [
    "###### It can be seen from the above plots that the samples do not come from normal distribution."
   ]
  },
  {
   "cell_type": "markdown",
   "id": "bfa18e15",
   "metadata": {},
   "source": [
    " - Applying Shapiro-Wilk test for normality"
   ]
  },
  {
   "cell_type": "markdown",
   "id": "445dbbeb",
   "metadata": {},
   "source": [
    "\n",
    "$H_0$ : The sample **follows normal distribution**\n",
    "$H_1$ : The sample **does not follow normal distribution**\n",
    "\n",
    "alpha = 0.05\n",
    "\n",
    "Test Statistics : **Shapiro-Wilk test for normality**"
   ]
  },
  {
   "cell_type": "code",
   "execution_count": null,
   "id": "787b1e58",
   "metadata": {},
   "outputs": [],
   "source": [
    "test_stat, p_value = spy.shapiro(df2['actual_time'].sample(5000))\n",
    "print('p-value', p_value)\n",
    "if p_value < 0.05:\n",
    "    print('The sample does not follow normal distribution')\n",
    "else:\n",
    "    print('The sample follows normal distribution')    "
   ]
  },
  {
   "cell_type": "code",
   "execution_count": null,
   "id": "d9454244",
   "metadata": {},
   "outputs": [],
   "source": [
    "test_stat, p_value = spy.shapiro(df2['osrm_time'].sample(5000))\n",
    "print('p-value', p_value)\n",
    "if p_value < 0.05:\n",
    "    print('The sample does not follow normal distribution')\n",
    "else:\n",
    "    print('The sample follows normal distribution')  "
   ]
  },
  {
   "cell_type": "markdown",
   "id": "cfa9ba49",
   "metadata": {},
   "source": [
    " - Transforming the data using boxcox transformation to check if the transformed data follows normal distribution."
   ]
  },
  {
   "cell_type": "code",
   "execution_count": null,
   "id": "b4651377",
   "metadata": {},
   "outputs": [],
   "source": [
    "transformed_actual_time = spy.boxcox(df2['actual_time'])[0]\n",
    "test_stat, p_value = spy.shapiro(transformed_actual_time)\n",
    "print('p-value', p_value)\n",
    "if p_value < 0.05:\n",
    "    print('The sample does not follow normal distribution')\n",
    "else:\n",
    "    print('The sample follows normal distribution') "
   ]
  },
  {
   "cell_type": "code",
   "execution_count": null,
   "id": "720fa350",
   "metadata": {},
   "outputs": [],
   "source": [
    "transformed_osrm_time = spy.boxcox(df2['osrm_time'])[0]\n",
    "test_stat, p_value = spy.shapiro(transformed_osrm_time)\n",
    "print('p-value', p_value)\n",
    "if p_value < 0.05:\n",
    "    print('The sample does not follow normal distribution')\n",
    "else:\n",
    "    print('The sample follows normal distribution')"
   ]
  },
  {
   "cell_type": "markdown",
   "id": "cf371811",
   "metadata": {},
   "source": [
    " - Even after applying the boxcox transformation on each of the \"actual_time\" and \"osrm_time\" columns, the distributions do not follow normal distribution."
   ]
  },
  {
   "cell_type": "markdown",
   "id": "fcea751b",
   "metadata": {},
   "source": [
    "* Homogeneity of Variances using **Lavene's test**"
   ]
  },
  {
   "cell_type": "code",
   "execution_count": null,
   "id": "bcf348b5",
   "metadata": {},
   "outputs": [],
   "source": [
    "# Null Hypothesis(H0) - Homogenous Variance \n",
    "\n",
    "# Alternate Hypothesis(HA) - Non Homogenous Variance \n",
    "\n",
    "test_stat, p_value = spy.levene(df2['actual_time'], df2['osrm_time'])\n",
    "print('p-value', p_value)\n",
    "if p_value < 0.05:\n",
    "    print('The samples do not have  Homogenous Variance')\n",
    "else:\n",
    "    print('The samples have Homogenous Variance ') "
   ]
  },
  {
   "cell_type": "markdown",
   "id": "7281966d",
   "metadata": {},
   "source": [
    "##### Since the samples do not follow any of the assumptions T-Test cannot be applied here, we can perform its non parametric equivalent test i.e., Mann-Whitney U rank test for two independent samples."
   ]
  },
  {
   "cell_type": "code",
   "execution_count": null,
   "id": "9440e72b",
   "metadata": {},
   "outputs": [],
   "source": [
    "test_stat, p_value = spy.mannwhitneyu(df2['actual_time'], df2['osrm_time'])\n",
    "print('p-value', p_value)\n",
    "if p_value < 0.05:\n",
    "    print('The samples are not similar')\n",
    "else:\n",
    "    print('The samples are similar ') "
   ]
  },
  {
   "cell_type": "markdown",
   "id": "ad185bca",
   "metadata": {},
   "source": [
    "###### Since p-value < alpha therfore it can be concluded that actual_time and osrm_time are not similar."
   ]
  },
  {
   "cell_type": "markdown",
   "id": "7811141e",
   "metadata": {},
   "source": [
    "### \tDo hypothesis testing/ visual analysis between actual_time aggregated value and segment actual time aggregated value (aggregated values are the values you’ll get after merging the rows on the basis of trip_uuid)"
   ]
  },
  {
   "cell_type": "code",
   "execution_count": null,
   "id": "d822eee9",
   "metadata": {},
   "outputs": [],
   "source": [
    "df2[['actual_time', 'segment_actual_time']].describe()"
   ]
  },
  {
   "cell_type": "markdown",
   "id": "baee2f80",
   "metadata": {},
   "source": [
    " - Visual Tests to know if the samples follow normal distribution"
   ]
  },
  {
   "cell_type": "code",
   "execution_count": null,
   "id": "7cc7e3c5",
   "metadata": {},
   "outputs": [],
   "source": [
    "plt.figure(figsize = (12, 6))\n",
    "sns.histplot(df2['actual_time'], element = 'step', color = 'magenta')\n",
    "sns.histplot(df2['segment_actual_time'], element = 'step', color = 'lightgreen')\n",
    "plt.legend(['actual_time', 'segment_actual_time'])\n",
    "plt.plot()"
   ]
  },
  {
   "cell_type": "markdown",
   "id": "794484c0",
   "metadata": {},
   "source": [
    "* Distribution check using **QQ Plot**"
   ]
  },
  {
   "cell_type": "code",
   "execution_count": null,
   "id": "c290d7a9",
   "metadata": {},
   "outputs": [],
   "source": [
    "plt.figure(figsize = (15, 6))\n",
    "plt.subplot(1, 2, 1)\n",
    "plt.suptitle('QQ plots for actual_time and segment_actual_time')\n",
    "spy.probplot(df2['actual_time'], plot = plt, dist = 'norm')\n",
    "plt.title('QQ plot for actual_time')\n",
    "plt.subplot(1, 2, 2)\n",
    "spy.probplot(df2['segment_actual_time'], plot = plt, dist = 'norm')\n",
    "plt.title('QQ plot for segment_actual_time')\n",
    "plt.plot()"
   ]
  },
  {
   "cell_type": "markdown",
   "id": "879410c4",
   "metadata": {},
   "source": [
    "###### It can be seen from the above plots that the samples do not come from normal distribution."
   ]
  },
  {
   "cell_type": "markdown",
   "id": "4b26537c",
   "metadata": {},
   "source": [
    " - Applying Shapiro-Wilk test for normality"
   ]
  },
  {
   "cell_type": "markdown",
   "id": "faa27974",
   "metadata": {},
   "source": [
    "\n",
    "$H_0$ : The sample **follows normal distribution**\n",
    "$H_1$ : The sample **does not follow normal distribution**\n",
    "\n",
    "alpha = 0.05\n",
    "\n",
    "Test Statistics : **Shapiro-Wilk test for normality**"
   ]
  },
  {
   "cell_type": "code",
   "execution_count": null,
   "id": "98fddd10",
   "metadata": {},
   "outputs": [],
   "source": [
    "test_stat, p_value = spy.shapiro(df2['actual_time'].sample(5000))\n",
    "print('p-value', p_value)\n",
    "if p_value < 0.05:\n",
    "    print('The sample does not follow normal distribution')\n",
    "else:\n",
    "    print('The sample follows normal distribution')    "
   ]
  },
  {
   "cell_type": "code",
   "execution_count": null,
   "id": "95cf0cbd",
   "metadata": {},
   "outputs": [],
   "source": [
    "test_stat, p_value = spy.shapiro(df2['segment_actual_time'].sample(5000))\n",
    "print('p-value', p_value)\n",
    "if p_value < 0.05:\n",
    "    print('The sample does not follow normal distribution')\n",
    "else:\n",
    "    print('The sample follows normal distribution')  "
   ]
  },
  {
   "cell_type": "markdown",
   "id": "101df8d3",
   "metadata": {},
   "source": [
    " - Transforming the data using boxcox transformation to check if the transformed data follows normal distribution."
   ]
  },
  {
   "cell_type": "code",
   "execution_count": null,
   "id": "989ecafc",
   "metadata": {},
   "outputs": [],
   "source": [
    "transformed_actual_time = spy.boxcox(df2['actual_time'])[0]\n",
    "test_stat, p_value = spy.shapiro(transformed_actual_time)\n",
    "print('p-value', p_value)\n",
    "if p_value < 0.05:\n",
    "    print('The sample does not follow normal distribution')\n",
    "else:\n",
    "    print('The sample follows normal distribution') "
   ]
  },
  {
   "cell_type": "code",
   "execution_count": null,
   "id": "4437b183",
   "metadata": {},
   "outputs": [],
   "source": [
    "transformed_segment_actual_time = spy.boxcox(df2['segment_actual_time'])[0]\n",
    "test_stat, p_value = spy.shapiro(transformed_segment_actual_time)\n",
    "print('p-value', p_value)\n",
    "if p_value < 0.05:\n",
    "    print('The sample does not follow normal distribution')\n",
    "else:\n",
    "    print('The sample follows normal distribution')"
   ]
  },
  {
   "cell_type": "markdown",
   "id": "df00abbc",
   "metadata": {},
   "source": [
    " - Even after applying the boxcox transformation on each of the \"actual_time\" and \"segment_actual_time\" columns, the distributions do not follow normal distribution."
   ]
  },
  {
   "cell_type": "markdown",
   "id": "f94c824f",
   "metadata": {},
   "source": [
    "* Homogeneity of Variances using **Lavene's test**"
   ]
  },
  {
   "cell_type": "code",
   "execution_count": null,
   "id": "6fcf9884",
   "metadata": {},
   "outputs": [],
   "source": [
    "# Null Hypothesis(H0) - Homogenous Variance \n",
    "\n",
    "# Alternate Hypothesis(HA) - Non Homogenous Variance \n",
    "\n",
    "test_stat, p_value = spy.levene(df2['actual_time'], df2['segment_actual_time'])\n",
    "print('p-value', p_value)\n",
    "\n",
    "if p_value < 0.05:\n",
    "    print('The samples do not have Homogenous Variance')\n",
    "else:\n",
    "    print('The samples have Homogenous Variance ') "
   ]
  },
  {
   "cell_type": "markdown",
   "id": "6104000a",
   "metadata": {},
   "source": [
    "##### Since the samples do not come from normal distribution T-Test cannot be applied here, we can perform its non parametric equivalent test i.e., Mann-Whitney U rank test for two independent samples."
   ]
  },
  {
   "cell_type": "code",
   "execution_count": null,
   "id": "3dd0e82b",
   "metadata": {},
   "outputs": [],
   "source": [
    "test_stat, p_value = spy.mannwhitneyu(df2['actual_time'], df2['segment_actual_time'])\n",
    "print('p-value', p_value)\n",
    "if p_value < 0.05:\n",
    "    print('The samples are not similar')\n",
    "else:\n",
    "    print('The samples are similar ') "
   ]
  },
  {
   "cell_type": "markdown",
   "id": "469a9889",
   "metadata": {},
   "source": [
    "###### Since p-value > alpha therfore it can be concluded that actual_time and segment_actual_time are similar."
   ]
  },
  {
   "cell_type": "markdown",
   "id": "4d2b17a6",
   "metadata": {},
   "source": [
    "### \tDo hypothesis testing/ visual analysis between osrm distance aggregated value and segment osrm distance aggregated value (aggregated values are the values you’ll get after merging the rows on the basis of trip_uuid)"
   ]
  },
  {
   "cell_type": "code",
   "execution_count": null,
   "id": "5dab332b",
   "metadata": {},
   "outputs": [],
   "source": [
    "df2[['osrm_distance', 'segment_osrm_distance']].describe()"
   ]
  },
  {
   "cell_type": "markdown",
   "id": "512bf027",
   "metadata": {},
   "source": [
    " - Visual Tests to know if the samples follow normal distribution"
   ]
  },
  {
   "cell_type": "code",
   "execution_count": null,
   "id": "d6979112",
   "metadata": {},
   "outputs": [],
   "source": [
    "plt.figure(figsize = (12, 6))\n",
    "sns.histplot(df2['osrm_distance'], element = 'step', color = 'green', bins = 1000)\n",
    "sns.histplot(df2['segment_osrm_distance'], element = 'step', color = 'pink', bins = 1000)\n",
    "plt.legend(['osrm_distance', 'segment_osrm_distance'])\n",
    "plt.plot()"
   ]
  },
  {
   "cell_type": "markdown",
   "id": "01230b56",
   "metadata": {},
   "source": [
    "* Distribution check using **QQ Plot**"
   ]
  },
  {
   "cell_type": "code",
   "execution_count": null,
   "id": "af13bbc5",
   "metadata": {},
   "outputs": [],
   "source": [
    "plt.figure(figsize = (15, 6))\n",
    "plt.subplot(1, 2, 1)\n",
    "plt.suptitle('QQ plots for osrm_distance and segment_osrm_distance')\n",
    "spy.probplot(df2['osrm_distance'], plot = plt, dist = 'norm')\n",
    "plt.title('QQ plot for osrm_distance')\n",
    "plt.subplot(1, 2, 2)\n",
    "spy.probplot(df2['segment_osrm_distance'], plot = plt, dist = 'norm')\n",
    "plt.title('QQ plot for segment_osrm_distance')\n",
    "plt.plot()"
   ]
  },
  {
   "cell_type": "markdown",
   "id": "303b6f22",
   "metadata": {},
   "source": [
    "###### It can be seen from the above plots that the samples do not come from normal distribution."
   ]
  },
  {
   "cell_type": "markdown",
   "id": "97d68eec",
   "metadata": {},
   "source": [
    " - Applying Shapiro-Wilk test for normality"
   ]
  },
  {
   "cell_type": "markdown",
   "id": "f41153c4",
   "metadata": {},
   "source": [
    "\n",
    "$H_0$ : The sample **follows normal distribution**\n",
    "$H_1$ : The sample **does not follow normal distribution**\n",
    "\n",
    "alpha = 0.05\n",
    "\n",
    "Test Statistics : **Shapiro-Wilk test for normality**"
   ]
  },
  {
   "cell_type": "code",
   "execution_count": null,
   "id": "a20a1975",
   "metadata": {},
   "outputs": [],
   "source": [
    "test_stat, p_value = spy.shapiro(df2['osrm_distance'].sample(5000))\n",
    "print('p-value', p_value)\n",
    "if p_value < 0.05:\n",
    "    print('The sample does not follow normal distribution')\n",
    "else:\n",
    "    print('The sample follows normal distribution')    "
   ]
  },
  {
   "cell_type": "code",
   "execution_count": null,
   "id": "97545b92",
   "metadata": {},
   "outputs": [],
   "source": [
    "test_stat, p_value = spy.shapiro(df2['segment_osrm_distance'].sample(5000))\n",
    "print('p-value', p_value)\n",
    "if p_value < 0.05:\n",
    "    print('The sample does not follow normal distribution')\n",
    "else:\n",
    "    print('The sample follows normal distribution')  "
   ]
  },
  {
   "cell_type": "markdown",
   "id": "85ff6655",
   "metadata": {},
   "source": [
    " - Transforming the data using boxcox transformation to check if the transformed data follows normal distribution."
   ]
  },
  {
   "cell_type": "code",
   "execution_count": null,
   "id": "12a783b3",
   "metadata": {},
   "outputs": [],
   "source": [
    "transformed_osrm_distance = spy.boxcox(df2['osrm_distance'])[0]\n",
    "test_stat, p_value = spy.shapiro(transformed_osrm_distance)\n",
    "print('p-value', p_value)\n",
    "if p_value < 0.05:\n",
    "    print('The sample does not follow normal distribution')\n",
    "else:\n",
    "    print('The sample follows normal distribution') "
   ]
  },
  {
   "cell_type": "code",
   "execution_count": null,
   "id": "51788815",
   "metadata": {
    "scrolled": true
   },
   "outputs": [],
   "source": [
    "transformed_segment_osrm_distance = spy.boxcox(df2['segment_osrm_distance'])[0]\n",
    "test_stat, p_value = spy.shapiro(transformed_segment_osrm_distance)\n",
    "print('p-value', p_value)\n",
    "if p_value < 0.05:\n",
    "    print('The sample does not follow normal distribution')\n",
    "else:\n",
    "    print('The sample follows normal distribution')"
   ]
  },
  {
   "cell_type": "markdown",
   "id": "7dc1b9e5",
   "metadata": {},
   "source": [
    " - Even after applying the boxcox transformation on each of the \"osrm_distance\" and \"segment_osrm_distance\" columns, the distributions do not follow normal distribution."
   ]
  },
  {
   "cell_type": "markdown",
   "id": "466d186c",
   "metadata": {},
   "source": [
    "* Homogeneity of Variances using **Lavene's test**"
   ]
  },
  {
   "cell_type": "code",
   "execution_count": null,
   "id": "d6c4f5c1",
   "metadata": {},
   "outputs": [],
   "source": [
    "# Null Hypothesis(H0) - Homogenous Variance \n",
    "\n",
    "# Alternate Hypothesis(HA) - Non Homogenous Variance \n",
    "\n",
    "test_stat, p_value = spy.levene(df2['osrm_distance'], df2['segment_osrm_distance'])\n",
    "print('p-value', p_value)\n",
    "\n",
    "if p_value < 0.05:\n",
    "    print('The samples do not have Homogenous Variance')\n",
    "else:\n",
    "    print('The samples have Homogenous Variance ') "
   ]
  },
  {
   "cell_type": "markdown",
   "id": "402f185a",
   "metadata": {},
   "source": [
    "##### Since the samples do not follow any of the assumptions, T-Test cannot be applied here. We can perform its non parametric equivalent test i.e., Mann-Whitney U rank test for two independent samples."
   ]
  },
  {
   "cell_type": "code",
   "execution_count": null,
   "id": "4a94ca5f",
   "metadata": {},
   "outputs": [],
   "source": [
    "test_stat, p_value = spy.mannwhitneyu(df2['osrm_distance'], df2['segment_osrm_distance'])\n",
    "print('p-value', p_value)\n",
    "if p_value < 0.05:\n",
    "    print('The samples are not similar')\n",
    "else:\n",
    "    print('The samples are similar ') "
   ]
  },
  {
   "cell_type": "markdown",
   "id": "e89912fb",
   "metadata": {},
   "source": [
    "###### Since p-value < alpha therfore it can be concluded that osrm_distance and segment_osrm_distance are  not similar."
   ]
  },
  {
   "cell_type": "markdown",
   "id": "312118dc",
   "metadata": {},
   "source": [
    "### \tDo hypothesis testing/ visual analysis between osrm time aggregated value and segment osrm time aggregated value (aggregated values are the values you’ll get after merging the rows on the basis of trip_uuid)"
   ]
  },
  {
   "cell_type": "code",
   "execution_count": null,
   "id": "82c64d23",
   "metadata": {},
   "outputs": [],
   "source": [
    "df2[['osrm_time', 'segment_osrm_time']].describe().T"
   ]
  },
  {
   "cell_type": "markdown",
   "id": "dca5678f",
   "metadata": {},
   "source": [
    " - Visual Tests to know if the samples follow normal distribution"
   ]
  },
  {
   "cell_type": "code",
   "execution_count": null,
   "id": "4e3fedf5",
   "metadata": {},
   "outputs": [],
   "source": [
    "plt.figure(figsize = (12, 6))\n",
    "sns.histplot(df2['osrm_time'], element = 'step', color = 'green', bins = 1000)\n",
    "sns.histplot(df2['segment_osrm_time'], element = 'step', color = 'pink', bins = 1000)\n",
    "plt.legend(['osrm_time', 'segment_osrm_time'])\n",
    "plt.plot()"
   ]
  },
  {
   "cell_type": "markdown",
   "id": "053dc68c",
   "metadata": {},
   "source": [
    "* Distribution check using **QQ Plot**"
   ]
  },
  {
   "cell_type": "code",
   "execution_count": null,
   "id": "35fd7903",
   "metadata": {},
   "outputs": [],
   "source": [
    "plt.figure(figsize = (15, 6))\n",
    "plt.subplot(1, 2, 1)\n",
    "plt.suptitle('QQ plots for osrm_time and segment_osrm_time')\n",
    "spy.probplot(df2['osrm_time'], plot = plt, dist = 'norm')\n",
    "plt.title('QQ plot for osrm_time')\n",
    "plt.subplot(1, 2, 2)\n",
    "spy.probplot(df2['segment_osrm_time'], plot = plt, dist = 'norm')\n",
    "plt.title('QQ plot for segment_osrm_time')\n",
    "plt.plot()"
   ]
  },
  {
   "cell_type": "markdown",
   "id": "48f4edaa",
   "metadata": {},
   "source": [
    "###### It can be seen from the above plots that the samples do not come from normal distribution."
   ]
  },
  {
   "cell_type": "markdown",
   "id": "1ecfc31c",
   "metadata": {},
   "source": [
    " - Applying Shapiro-Wilk test for normality"
   ]
  },
  {
   "cell_type": "markdown",
   "id": "c84004c8",
   "metadata": {},
   "source": [
    "\n",
    "$H_0$ : The sample **follows normal distribution**\n",
    "$H_1$ : The sample **does not follow normal distribution**\n",
    "\n",
    "alpha = 0.05\n",
    "\n",
    "Test Statistics : **Shapiro-Wilk test for normality**"
   ]
  },
  {
   "cell_type": "code",
   "execution_count": null,
   "id": "9b8e7cf6",
   "metadata": {},
   "outputs": [],
   "source": [
    "test_stat, p_value = spy.shapiro(df2['osrm_time'].sample(5000))\n",
    "print('p-value', p_value)\n",
    "if p_value < 0.05:\n",
    "    print('The sample does not follow normal distribution')\n",
    "else:\n",
    "    print('The sample follows normal distribution')    "
   ]
  },
  {
   "cell_type": "code",
   "execution_count": null,
   "id": "42f4e864",
   "metadata": {},
   "outputs": [],
   "source": [
    "test_stat, p_value = spy.shapiro(df2['segment_osrm_time'].sample(5000))\n",
    "print('p-value', p_value)\n",
    "if p_value < 0.05:\n",
    "    print('The sample does not follow normal distribution')\n",
    "else:\n",
    "    print('The sample follows normal distribution')  "
   ]
  },
  {
   "cell_type": "markdown",
   "id": "1a0b1c0d",
   "metadata": {},
   "source": [
    " - Transforming the data using boxcox transformation to check if the transformed data follows normal distribution."
   ]
  },
  {
   "cell_type": "code",
   "execution_count": null,
   "id": "49d8eea3",
   "metadata": {},
   "outputs": [],
   "source": [
    "transformed_osrm_time = spy.boxcox(df2['osrm_time'])[0]\n",
    "test_stat, p_value = spy.shapiro(transformed_osrm_time)\n",
    "print('p-value', p_value)\n",
    "if p_value < 0.05:\n",
    "    print('The sample does not follow normal distribution')\n",
    "else:\n",
    "    print('The sample follows normal distribution') "
   ]
  },
  {
   "cell_type": "code",
   "execution_count": null,
   "id": "f000f572",
   "metadata": {},
   "outputs": [],
   "source": [
    "transformed_segment_osrm_time = spy.boxcox(df2['segment_osrm_time'])[0]\n",
    "test_stat, p_value = spy.shapiro(transformed_segment_osrm_time)\n",
    "print('p-value', p_value)\n",
    "if p_value < 0.05:\n",
    "    print('The sample does not follow normal distribution')\n",
    "else:\n",
    "    print('The sample follows normal distribution')"
   ]
  },
  {
   "cell_type": "markdown",
   "id": "fdc5832a",
   "metadata": {},
   "source": [
    " - Even after applying the boxcox transformation on each of the \"osrm_time\" and \"segment_osrm_time\" columns, the distributions do not follow normal distribution."
   ]
  },
  {
   "cell_type": "markdown",
   "id": "cad0487a",
   "metadata": {},
   "source": [
    "* Homogeneity of Variances using **Lavene's test**"
   ]
  },
  {
   "cell_type": "code",
   "execution_count": null,
   "id": "6b222e87",
   "metadata": {},
   "outputs": [],
   "source": [
    "# Null Hypothesis(H0) - Homogenous Variance \n",
    "\n",
    "# Alternate Hypothesis(HA) - Non Homogenous Variance \n",
    "\n",
    "test_stat, p_value = spy.levene(df2['osrm_time'], df2['segment_osrm_time'])\n",
    "print('p-value', p_value)\n",
    "\n",
    "if p_value < 0.05:\n",
    "    print('The samples do not have Homogenous Variance')\n",
    "else:\n",
    "    print('The samples have Homogenous Variance ') "
   ]
  },
  {
   "cell_type": "markdown",
   "id": "d42556a8",
   "metadata": {},
   "source": [
    "##### Since the samples do not follow any of the assumptions, T-Test cannot be applied here. We can perform its non parametric equivalent test i.e., Mann-Whitney U rank test for two independent samples."
   ]
  },
  {
   "cell_type": "code",
   "execution_count": null,
   "id": "aab3a9ff",
   "metadata": {},
   "outputs": [],
   "source": [
    "test_stat, p_value = spy.mannwhitneyu(df2['osrm_time'], df2['segment_osrm_time'])\n",
    "print('p-value', p_value)\n",
    "if p_value < 0.05:\n",
    "    print('The samples are not similar')\n",
    "else:\n",
    "    print('The samples are similar ') "
   ]
  },
  {
   "cell_type": "markdown",
   "id": "34a2edda",
   "metadata": {},
   "source": [
    "###### Since p-value < alpha therfore it can be concluded that osrm_time and segment_osrm_time are  not similar."
   ]
  },
  {
   "cell_type": "markdown",
   "id": "6783cc7b",
   "metadata": {},
   "source": [
    "### \tFind outliers in the numerical variables (you might find outliers in almost all the variables), and check it using visual analysis"
   ]
  },
  {
   "cell_type": "code",
   "execution_count": null,
   "id": "1288cef6",
   "metadata": {},
   "outputs": [],
   "source": [
    "numerical_columns = ['od_total_time', 'start_scan_to_end_scan', 'actual_distance_to_destination',\n",
    "                    'actual_time', 'osrm_time', 'osrm_distance', 'segment_actual_time',\n",
    "                    'segment_osrm_time', 'segment_osrm_distance']\n",
    "df2[numerical_columns].describe().T"
   ]
  },
  {
   "cell_type": "code",
   "execution_count": null,
   "id": "daa947cc",
   "metadata": {},
   "outputs": [],
   "source": [
    "plt.figure(figsize = (18, 15))\n",
    "for i in range(len(numerical_columns)):\n",
    "    plt.subplot(3, 3, i + 1)\n",
    "    clr = np.random.choice(list(mpl.colors.cnames))\n",
    "    sns.histplot(df2[numerical_columns[i]], bins = 1000, kde = True, color = clr)\n",
    "    plt.title(f\"Distribution of {numerical_columns[i]} column\")\n",
    "    plt.plot()"
   ]
  },
  {
   "cell_type": "markdown",
   "id": "86c22ad5",
   "metadata": {},
   "source": [
    " - It can be inferred from the above plots that data in all the numerical columns are right skewed."
   ]
  },
  {
   "cell_type": "code",
   "execution_count": null,
   "id": "13004790",
   "metadata": {},
   "outputs": [],
   "source": [
    "plt.figure(figsize = (18, 15))\n",
    "for i in range(len(numerical_columns)):\n",
    "    plt.subplot(3, 3, i + 1)\n",
    "    clr = np.random.choice(list(mpl.colors.cnames))\n",
    "    sns.boxplot(df2[numerical_columns[i]], color = clr)\n",
    "    plt.title(f\"Distribution of {numerical_columns[i]} column\")\n",
    "    plt.plot()"
   ]
  },
  {
   "cell_type": "markdown",
   "id": "c0533eca",
   "metadata": {},
   "source": [
    " - It can be clearly seen in the above plots that there are outliers in all the numerical columns that need to be treated."
   ]
  },
  {
   "cell_type": "code",
   "execution_count": null,
   "id": "af4c1515",
   "metadata": {},
   "outputs": [],
   "source": [
    "# Detecting Outliers\n",
    "\n",
    "for i in numerical_columns:\n",
    "    Q1 = np.quantile(df2[i], 0.25)\n",
    "    Q3 = np.quantile(df2[i], 0.75)\n",
    "    IQR = Q3 - Q1\n",
    "    LB = Q1 - 1.5 * IQR\n",
    "    UB = Q3 + 1.5 * IQR\n",
    "    outliers = df2.loc[(df2[i] < LB) | (df2[i] > UB)]\n",
    "    print('Column :', i)\n",
    "    print(f'Q1 : {Q1}')\n",
    "    print(f'Q3 : {Q3}')\n",
    "    print(f'IQR : {IQR}')\n",
    "    print(f'LB : {LB}')\n",
    "    print(f'UB : {UB}')\n",
    "    print(f'Number of outliers : {outliers.shape[0]}')\n",
    "    print('----------------------------------')"
   ]
  },
  {
   "cell_type": "markdown",
   "id": "52f0e605",
   "metadata": {},
   "source": [
    "###### The outliers present in our sample data can be the true outliers. It's best to remove outliers only when there is a sound reason for doing so. Some outliers represent natural variations in the population, and they should be left as is in the dataset. "
   ]
  },
  {
   "cell_type": "markdown",
   "id": "a79d25c6",
   "metadata": {},
   "source": [
    "### Do one-hot encoding of categorical variables (like route_type)\n"
   ]
  },
  {
   "cell_type": "code",
   "execution_count": null,
   "id": "2707d070",
   "metadata": {},
   "outputs": [],
   "source": [
    "# Get value counts before one-hot encoding\n",
    "\n",
    "df2['route_type'].value_counts()"
   ]
  },
  {
   "cell_type": "code",
   "execution_count": null,
   "id": "3dec8d90",
   "metadata": {},
   "outputs": [],
   "source": [
    "# Perform one-hot encoding on categorical column route type"
   ]
  },
  {
   "cell_type": "code",
   "execution_count": null,
   "id": "9bd50440",
   "metadata": {},
   "outputs": [],
   "source": [
    "from sklearn.preprocessing import LabelEncoder \n",
    "label_encoder = LabelEncoder()\n",
    "df2['route_type'] = label_encoder.fit_transform(df2['route_type'])"
   ]
  },
  {
   "cell_type": "code",
   "execution_count": null,
   "id": "5f3a29a1",
   "metadata": {},
   "outputs": [],
   "source": [
    "# Get value counts after one-hot encoding\n",
    "\n",
    "df2['route_type'].value_counts()"
   ]
  },
  {
   "cell_type": "code",
   "execution_count": null,
   "id": "7fc2ecfd",
   "metadata": {},
   "outputs": [],
   "source": [
    "# Get value counts of categorical variable 'data' before one-hot encoding\n",
    "\n",
    "df2['data'].value_counts()"
   ]
  },
  {
   "cell_type": "code",
   "execution_count": null,
   "id": "250b639b",
   "metadata": {},
   "outputs": [],
   "source": [
    "# Perform one-hot encoding on categorical variable 'data'"
   ]
  },
  {
   "cell_type": "code",
   "execution_count": null,
   "id": "dda828df",
   "metadata": {},
   "outputs": [],
   "source": [
    "label_encoder = LabelEncoder()\n",
    "df2['data'] = label_encoder.fit_transform(df2['data'])"
   ]
  },
  {
   "cell_type": "code",
   "execution_count": null,
   "id": "33561cfa",
   "metadata": {},
   "outputs": [],
   "source": [
    "# Get value counts after one-hot encoding\n",
    "\n",
    "df2['data'].value_counts()"
   ]
  },
  {
   "cell_type": "markdown",
   "id": "b6d73716",
   "metadata": {},
   "source": [
    "### \tNormalize/ Standardize the numerical features using MinMaxScaler or StandardScaler. "
   ]
  },
  {
   "cell_type": "code",
   "execution_count": null,
   "id": "a84dcff6",
   "metadata": {},
   "outputs": [],
   "source": [
    "from sklearn.preprocessing import MinMaxScaler"
   ]
  },
  {
   "cell_type": "code",
   "execution_count": null,
   "id": "3c2ce0be",
   "metadata": {},
   "outputs": [],
   "source": [
    "plt.figure(figsize = (10, 6))\n",
    "scaler = MinMaxScaler()\n",
    "scaled = scaler.fit_transform(df2['od_total_time'].to_numpy().reshape(-1, 1))\n",
    "sns.histplot(scaled)\n",
    "plt.title(f\"Normalized {df2['od_total_time']} column\")\n",
    "plt.legend('od_total_time')\n",
    "plt.plot()"
   ]
  },
  {
   "cell_type": "code",
   "execution_count": null,
   "id": "2e1fbc89",
   "metadata": {},
   "outputs": [],
   "source": [
    "plt.figure(figsize = (10, 6))\n",
    "scaler = MinMaxScaler()\n",
    "scaled = scaler.fit_transform(df2['start_scan_to_end_scan'].to_numpy().reshape(-1, 1))\n",
    "sns.histplot(scaled)\n",
    "plt.title(f\"Normalized {df2['start_scan_to_end_scan']} column\")\n",
    "plt.plot()"
   ]
  },
  {
   "cell_type": "code",
   "execution_count": null,
   "id": "b97a3300",
   "metadata": {},
   "outputs": [],
   "source": [
    "plt.figure(figsize = (10, 6))\n",
    "scaler = MinMaxScaler()\n",
    "scaled = scaler.fit_transform(df2['actual_distance_to_destination'].to_numpy().reshape(-1, 1))\n",
    "sns.histplot(scaled)\n",
    "plt.title(f\"Normalized {df2['actual_distance_to_destination']} column\")\n",
    "plt.plot()"
   ]
  },
  {
   "cell_type": "code",
   "execution_count": null,
   "id": "fecd6f60",
   "metadata": {},
   "outputs": [],
   "source": [
    "plt.figure(figsize = (10, 6))\n",
    "scaler = MinMaxScaler()\n",
    "scaled = scaler.fit_transform(df2['actual_time'].to_numpy().reshape(-1, 1))\n",
    "sns.histplot(scaled)\n",
    "plt.title(f\"Normalized {df2['actual_time']} column\")\n",
    "plt.plot()"
   ]
  },
  {
   "cell_type": "code",
   "execution_count": null,
   "id": "0b1e2bd6",
   "metadata": {},
   "outputs": [],
   "source": []
  },
  {
   "cell_type": "code",
   "execution_count": null,
   "id": "516781b2",
   "metadata": {},
   "outputs": [],
   "source": [
    "plt.figure(figsize = (10, 6))\n",
    "scaler = MinMaxScaler()\n",
    "scaled = scaler.fit_transform(df2['osrm_time'].to_numpy().reshape(-1, 1))\n",
    "sns.histplot(scaled)\n",
    "plt.title(f\"Normalized {df2['osrm_time']} column\")\n",
    "plt.plot()"
   ]
  },
  {
   "cell_type": "code",
   "execution_count": null,
   "id": "b0d754bb",
   "metadata": {},
   "outputs": [],
   "source": []
  },
  {
   "cell_type": "code",
   "execution_count": null,
   "id": "c5847c9d",
   "metadata": {},
   "outputs": [],
   "source": [
    "plt.figure(figsize = (10, 6))\n",
    "scaler = MinMaxScaler()\n",
    "scaled = scaler.fit_transform(df2['osrm_distance'].to_numpy().reshape(-1, 1))\n",
    "sns.histplot(scaled)\n",
    "plt.title(f\"Normalized {df2['osrm_distance']} column\")\n",
    "plt.plot()"
   ]
  },
  {
   "cell_type": "code",
   "execution_count": null,
   "id": "822096c0",
   "metadata": {},
   "outputs": [],
   "source": []
  },
  {
   "cell_type": "code",
   "execution_count": null,
   "id": "50732808",
   "metadata": {},
   "outputs": [],
   "source": [
    "plt.figure(figsize = (10, 6))\n",
    "scaler = MinMaxScaler()\n",
    "scaled = scaler.fit_transform(df2['segment_actual_time'].to_numpy().reshape(-1, 1))\n",
    "sns.histplot(scaled)\n",
    "plt.title(f\"Normalized {df2['segment_actual_time']} column\")\n",
    "plt.plot()"
   ]
  },
  {
   "cell_type": "code",
   "execution_count": null,
   "id": "a981c278",
   "metadata": {},
   "outputs": [],
   "source": [
    "plt.figure(figsize = (10, 6))\n",
    "scaler = MinMaxScaler()\n",
    "scaled = scaler.fit_transform(df2['segment_osrm_time'].to_numpy().reshape(-1, 1))\n",
    "sns.histplot(scaled)\n",
    "plt.title(f\"Normalized {df2['segment_osrm_time']} column\")\n",
    "plt.plot()"
   ]
  },
  {
   "cell_type": "code",
   "execution_count": null,
   "id": "62c6f98e",
   "metadata": {},
   "outputs": [],
   "source": [
    "plt.figure(figsize = (10, 6))\n",
    "scaler = MinMaxScaler()\n",
    "scaled = scaler.fit_transform(df2['segment_osrm_distance'].to_numpy().reshape(-1, 1))\n",
    "sns.histplot(scaled)\n",
    "plt.title(f\"Normalized {df2['segment_osrm_distance']} column\")\n",
    "plt.plot()"
   ]
  },
  {
   "cell_type": "markdown",
   "id": "544f9ac5",
   "metadata": {},
   "source": [
    "#### Column Standardization"
   ]
  },
  {
   "cell_type": "code",
   "execution_count": null,
   "id": "69ac4deb",
   "metadata": {},
   "outputs": [],
   "source": [
    "from sklearn.preprocessing import StandardScaler"
   ]
  },
  {
   "cell_type": "code",
   "execution_count": null,
   "id": "9a7e624e",
   "metadata": {},
   "outputs": [],
   "source": [
    "plt.figure(figsize = (10, 6))\n",
    "# define standard scaler\n",
    "scaler = StandardScaler()\n",
    "# transform data\n",
    "scaled = scaler.fit_transform(df2['od_total_time'].to_numpy().reshape(-1, 1))\n",
    "sns.histplot(scaled)\n",
    "plt.title(f\"Standardized {df2['od_total_time']} column\")\n",
    "plt.legend('od_total_time')\n",
    "plt.plot()"
   ]
  },
  {
   "cell_type": "code",
   "execution_count": null,
   "id": "1d1ec59a",
   "metadata": {},
   "outputs": [],
   "source": [
    "plt.figure(figsize = (10, 6))\n",
    "scaler = StandardScaler()\n",
    "scaled = scaler.fit_transform(df2['start_scan_to_end_scan'].to_numpy().reshape(-1, 1))\n",
    "sns.histplot(scaled)\n",
    "plt.title(f\"Standardized {df2['start_scan_to_end_scan']} column\")\n",
    "plt.plot()"
   ]
  },
  {
   "cell_type": "code",
   "execution_count": null,
   "id": "1bd28ed1",
   "metadata": {},
   "outputs": [],
   "source": [
    "plt.figure(figsize = (10, 6))\n",
    "scaler = StandardScaler()\n",
    "scaled = scaler.fit_transform(df2['actual_distance_to_destination'].to_numpy().reshape(-1, 1))\n",
    "sns.histplot(scaled)\n",
    "plt.title(f\"Standardized {df2['actual_distance_to_destination']} column\")\n",
    "plt.plot()"
   ]
  },
  {
   "cell_type": "code",
   "execution_count": null,
   "id": "87c84e11",
   "metadata": {},
   "outputs": [],
   "source": [
    "plt.figure(figsize = (10, 6))\n",
    "scaler = StandardScaler()\n",
    "scaled = scaler.fit_transform(df2['actual_time'].to_numpy().reshape(-1, 1))\n",
    "sns.histplot(scaled)\n",
    "plt.title(f\"Standardized {df2['actual_time']} column\")\n",
    "plt.plot()"
   ]
  },
  {
   "cell_type": "code",
   "execution_count": null,
   "id": "41140a5e",
   "metadata": {},
   "outputs": [],
   "source": []
  },
  {
   "cell_type": "code",
   "execution_count": null,
   "id": "b7260be8",
   "metadata": {},
   "outputs": [],
   "source": [
    "plt.figure(figsize = (10, 6))\n",
    "scaler = StandardScaler()\n",
    "scaled = scaler.fit_transform(df2['osrm_time'].to_numpy().reshape(-1, 1))\n",
    "sns.histplot(scaled)\n",
    "plt.title(f\"Standardized {df2['osrm_time']} column\")\n",
    "plt.plot()"
   ]
  },
  {
   "cell_type": "code",
   "execution_count": null,
   "id": "9c9ef820",
   "metadata": {},
   "outputs": [],
   "source": []
  },
  {
   "cell_type": "code",
   "execution_count": null,
   "id": "1ce1f37b",
   "metadata": {},
   "outputs": [],
   "source": [
    "plt.figure(figsize = (10, 6))\n",
    "scaler = StandardScaler()\n",
    "scaled = scaler.fit_transform(df2['osrm_distance'].to_numpy().reshape(-1, 1))\n",
    "sns.histplot(scaled)\n",
    "plt.title(f\"Standardized {df2['osrm_distance']} column\")\n",
    "plt.plot()"
   ]
  },
  {
   "cell_type": "code",
   "execution_count": null,
   "id": "ad4061af",
   "metadata": {},
   "outputs": [],
   "source": []
  },
  {
   "cell_type": "code",
   "execution_count": null,
   "id": "9ea79ec1",
   "metadata": {},
   "outputs": [],
   "source": [
    "plt.figure(figsize = (10, 6))\n",
    "scaler = StandardScaler()\n",
    "scaled = scaler.fit_transform(df2['segment_actual_time'].to_numpy().reshape(-1, 1))\n",
    "sns.histplot(scaled)\n",
    "plt.title(f\"Standardized {df2['segment_actual_time']} column\")\n",
    "plt.plot()"
   ]
  },
  {
   "cell_type": "code",
   "execution_count": null,
   "id": "685058db",
   "metadata": {},
   "outputs": [],
   "source": [
    "plt.figure(figsize = (10, 6))\n",
    "scaler = StandardScaler()\n",
    "scaled = scaler.fit_transform(df2['segment_osrm_time'].to_numpy().reshape(-1, 1))\n",
    "sns.histplot(scaled)\n",
    "plt.title(f\"Standardized {df2['segment_osrm_time']} column\")\n",
    "plt.plot()"
   ]
  },
  {
   "cell_type": "code",
   "execution_count": null,
   "id": "3d445986",
   "metadata": {},
   "outputs": [],
   "source": [
    "plt.figure(figsize = (10, 6))\n",
    "scaler = StandardScaler()\n",
    "scaled = scaler.fit_transform(df2['segment_osrm_distance'].to_numpy().reshape(-1, 1))\n",
    "sns.histplot(scaled)\n",
    "plt.title(f\"Standardized {df2['segment_osrm_distance']} column\")\n",
    "plt.plot()"
   ]
  },
  {
   "cell_type": "markdown",
   "id": "6f35bcc2",
   "metadata": {},
   "source": [
    "## Business Insights "
   ]
  },
  {
   "cell_type": "markdown",
   "id": "029831dc",
   "metadata": {},
   "source": [
    " - The data is given from the period '2018-09-12 00:00:16' to '2018-10-08 03:00:24'.\n",
    " - There are about 14817 unique trip IDs, 1508 unique source centers, 1481 unique destination_centers, \n",
    "   690 unique source cities, 806 unique destination cities.\n",
    "   \n",
    " - Most of the data is for testing than for training.\n",
    " - Most common route type is Carting.\n",
    " - The names of 14 unique location ids are missing in the data.\n",
    " - The number of trips start increasing after the noon, becomes maximum at 10 P.M and then start decreasing.\n",
    " - Maximum trips are created in the 38th week.\n",
    " - Most orders come mid-month. That means customers usually make more orders in the mid of the month.\n",
    " - Most orders are sourced from the states like Maharashtra, Karnataka, Haryana, Tamil Nadu, Telangana\n",
    " - Maximum number of trips originated from Mumbai city followed by Gurgaon  Delhi, Bengaluru and Bhiwandi. That means that the seller base is strong in these cities.\n",
    " - Maximum number of trips ended in Maharashtra state followed by Karnataka, Haryana, Tamil Nadu and Uttar Pradesh. That means that the number of orders placed in these states is significantly high.\n",
    " - Maximum number of trips ended in Mumbai city followed by Bengaluru, Gurgaon, Delhi and Chennai. That means that the number of orders placed in these cities is significantly high.\n",
    " - Most orders in terms of destination are coming from cities like bengaluru, mumbai, gurgaon, bangalore, Delhi.\n",
    "\n",
    " - Features start_scan_to_end_scan and od_total_time(created feature) are statistically similar.\n",
    " \n",
    " - Features actual_time & osrm_time are statitically different.\n",
    " \n",
    " - Features start_scan_to_end_scan and segment_actual_time are statistically similar.\n",
    "\n",
    " - Features osrm_distance and segment_osrm_distance are statistically different from each other.\n",
    "\n",
    " - Both the osrm_time & segment_osrm_time are not statistically same."
   ]
  },
  {
   "cell_type": "markdown",
   "id": "a9f28090",
   "metadata": {},
   "source": [
    "## Recommendations"
   ]
  },
  {
   "cell_type": "markdown",
   "id": "b7702e59",
   "metadata": {},
   "source": [
    " - The OSRM trip planning system needs to be improved. Discrepancies need to be catered to for transporters, if the routing engine is configured for optimum results.\n",
    "\n",
    " - osrm_time and actual_time are different. Team needs to make sure this difference is reduced, so that better delivery time prediction can be made and it becomes convenient for the customer to expect an accurate delivery time.\n",
    "\n",
    " - The osrm distance and actual distance covered are also not same i.e. maybe the delivery person is not following the predefined route which may lead to late deliveries or the osrm devices is not properly predicting the route based on distance, traffic and other factors. Team needs to look into it.\n",
    " - Most of the orders are coming from/reaching to states like Maharashtra, Karnataka, Haryana and Tamil Nadu. The existing corridors can be further enhanced to improve the penetration in these areas.\n",
    " \n",
    " - Customer profiling of the customers belonging to the states Maharashtra, Karnataka, Haryana, Tamil Nadu and Uttar Pradesh has to be done to get to know why major orders are coming from these atates and to improve customers' buying and delivery experience.\n",
    " \n",
    " - From state point of view, we might have very heavy traffic in certain states and bad terrain conditions in certain states. This will be a good indicator to plan and cater to demand during peak festival seasons.\n",
    " \n",
    " "
   ]
  },
  {
   "cell_type": "code",
   "execution_count": null,
   "id": "0a76ae0f",
   "metadata": {},
   "outputs": [],
   "source": []
  }
 ],
 "metadata": {
  "kernelspec": {
   "display_name": "Python 3 (ipykernel)",
   "language": "python",
   "name": "python3"
  },
  "language_info": {
   "codemirror_mode": {
    "name": "ipython",
    "version": 3
   },
   "file_extension": ".py",
   "mimetype": "text/x-python",
   "name": "python",
   "nbconvert_exporter": "python",
   "pygments_lexer": "ipython3",
   "version": "3.10.9"
  }
 },
 "nbformat": 4,
 "nbformat_minor": 5
}
